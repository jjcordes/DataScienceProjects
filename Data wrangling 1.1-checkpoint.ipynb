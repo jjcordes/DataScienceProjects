{
 "cells": [
  {
   "cell_type": "markdown",
   "metadata": {},
   "source": [
    "# Mini-Data Set Preparation"
   ]
  },
  {
   "cell_type": "markdown",
   "metadata": {},
   "source": [
    "After the Kaggle Script \"Making a mini-data set\" is run (FYI, it takes about 2 minutes to run) to reduce the size of the data to 40,000 instances, run this script to organize data into a single dataframe. \n",
    "\n",
    "Run this with the 8 csv files produced by the Kaggle Script in the same directory. "
   ]
  },
  {
   "cell_type": "markdown",
   "metadata": {},
   "source": [
    "Note: This is a Python3 script because that is what Kaggle uses. "
   ]
  },
  {
   "cell_type": "code",
   "execution_count": 130,
   "metadata": {
    "collapsed": false
   },
   "outputs": [
    {
     "name": "stdout",
     "output_type": "stream",
     "text": [
      "Collecting ml-metrics\n",
      "  Downloading ml_metrics-0.1.4.tar.gz\n",
      "Requirement already satisfied (use --upgrade to upgrade): numpy in c:\\users\\jay\\anaconda3\\lib\\site-packages (from ml-metrics)\n",
      "Requirement already satisfied (use --upgrade to upgrade): pandas in c:\\users\\jay\\anaconda3\\lib\\site-packages (from ml-metrics)\n",
      "Requirement already satisfied (use --upgrade to upgrade): python-dateutil>=2 in c:\\users\\jay\\anaconda3\\lib\\site-packages (from pandas->ml-metrics)\n",
      "Requirement already satisfied (use --upgrade to upgrade): pytz>=2011k in c:\\users\\jay\\anaconda3\\lib\\site-packages (from pandas->ml-metrics)\n",
      "Requirement already satisfied (use --upgrade to upgrade): six>=1.5 in c:\\users\\jay\\anaconda3\\lib\\site-packages (from python-dateutil>=2->pandas->ml-metrics)\n",
      "Building wheels for collected packages: ml-metrics\n",
      "  Running setup.py bdist_wheel for ml-metrics: started\n",
      "  Running setup.py bdist_wheel for ml-metrics: finished with status 'done'\n",
      "  Stored in directory: C:\\Users\\Jay\\AppData\\Local\\pip\\Cache\\wheels\\33\\72\\02\\e2162a8eee235f481cc852854467e1c29d824605a514f7f5f6\n",
      "Successfully built ml-metrics\n",
      "Installing collected packages: ml-metrics\n",
      "Successfully installed ml-metrics-0.1.4\n"
     ]
    },
    {
     "name": "stderr",
     "output_type": "stream",
     "text": [
      "You are using pip version 8.1.1, however version 9.0.1 is available.\n",
      "You should consider upgrading via the 'python -m pip install --upgrade pip' command.\n"
     ]
    }
   ],
   "source": [
    "# Jay's code...\n",
    "# !pip install ml_metrics"
   ]
  },
  {
   "cell_type": "code",
   "execution_count": 1,
   "metadata": {
    "collapsed": false
   },
   "outputs": [],
   "source": [
    "import pandas as pd\n",
    "import numpy as np"
   ]
  },
  {
   "cell_type": "code",
   "execution_count": null,
   "metadata": {
    "collapsed": true
   },
   "outputs": [],
   "source": []
  },
  {
   "cell_type": "code",
   "execution_count": 8,
   "metadata": {
    "collapsed": false
   },
   "outputs": [
    {
     "name": "stdout",
     "output_type": "stream",
     "text": [
      "   Unnamed: 0  display_id            uuid  document_id  timestamp  platform  \\\n",
      "0          61          62  65861840b3ab9f      1781623       4651         2   \n",
      "1          75          76  23c6c76aeab262      1727629       5723         3   \n",
      "2         794         795  8cdc5a01e783a8      1768840      56758         3   \n",
      "3        1393        1394  f4953632cdeaf9      1762699      96740         2   \n",
      "4        1522        1523  cde539b7dfb671      1631112     105840         3   \n",
      "\n",
      "  geo_location  \n",
      "0    US>AZ>789  \n",
      "1    US>IL>609  \n",
      "2    US>PA>504  \n",
      "3    US>MA>506  \n",
      "4    US>GA>524  \n"
     ]
    }
   ],
   "source": [
    "clicks_train = pd.read_csv(\"mini_clicks_train.csv\")#got\n",
    "doc_cats = pd.read_csv(\"mini_doc_cats.csv\")\n",
    "doc_ents = pd.read_csv(\"mini_doc_ents.csv\")\n",
    "doc_meta = pd.read_csv(\"mini_doc_meta.csv\")\n",
    "doc_topics = pd.read_csv(\"mini_doc_topics.csv\")\n",
    "events = pd.read_csv(\"mini_events.csv\") #got\n",
    "#page_views = pd.read_csv(\"mini_page_views.csv\") Once I get this imported\n",
    "promoted = pd.read_csv(\"mini_promoted.csv\")#got\n"
   ]
  },
  {
   "cell_type": "code",
   "execution_count": 6,
   "metadata": {
    "collapsed": false
   },
   "outputs": [
    {
     "name": "stderr",
     "output_type": "stream",
     "text": [
      "C:\\Users\\Jay\\Anaconda3\\lib\\site-packages\\IPython\\core\\interactiveshell.py:2723: DtypeWarning: Columns (4) have mixed types. Specify dtype option on import or set low_memory=False.\n",
      "  interactivity=interactivity, compiler=compiler, result=result)\n"
     ]
    }
   ],
   "source": [
    "# Jay's code for the full datasets...\n",
    "\n",
    "#clicks_train = pd.read_csv(\"clicks_train.csv\")#got\n",
    "# events = pd.read_csv(\"events.csv\") #got\n",
    "#promoted = pd.read_csv(\"promoted_content.csv\")#got\n",
    "\n",
    "# doc_cats = pd.read_csv(\"documents_categories.csv\")\n",
    "#doc_ents = pd.read_csv(\"documents_entities.csv\")\n",
    "#doc_meta = pd.read_csv(\"documents_meta.csv\")\n",
    "#doc_topics = pd.read_csv(\"documents_topics.csv\")\n",
    "#page_views = pd.read_csv(\"mini_page_views.csv\") Once I get this imported\n"
   ]
  },
  {
   "cell_type": "markdown",
   "metadata": {},
   "source": [
    "## Join clicks_train and events on display_id"
   ]
  },
  {
   "cell_type": "code",
   "execution_count": 133,
   "metadata": {
    "collapsed": false
   },
   "outputs": [
    {
     "name": "stdout",
     "output_type": "stream",
     "text": [
      "39950\n",
      "39950\n"
     ]
    }
   ],
   "source": [
    "#clicks_train and events have a 1:1 relationship\n",
    "print(len(events[\"display_id\"].unique()))\n",
    "print(len(clicks_train[\"display_id\"].unique()))"
   ]
  },
  {
   "cell_type": "code",
   "execution_count": 134,
   "metadata": {
    "collapsed": false
   },
   "outputs": [
    {
     "data": {
      "text/html": [
       "<div>\n",
       "<table border=\"1\" class=\"dataframe\">\n",
       "  <thead>\n",
       "    <tr style=\"text-align: right;\">\n",
       "      <th></th>\n",
       "      <th>ad_id</th>\n",
       "      <th>clicked</th>\n",
       "    </tr>\n",
       "    <tr>\n",
       "      <th>display_id</th>\n",
       "      <th></th>\n",
       "      <th></th>\n",
       "    </tr>\n",
       "  </thead>\n",
       "  <tbody>\n",
       "    <tr>\n",
       "      <th>7194604</th>\n",
       "      <td>189575</td>\n",
       "      <td>1</td>\n",
       "    </tr>\n",
       "    <tr>\n",
       "      <th>10660899</th>\n",
       "      <td>281556</td>\n",
       "      <td>0</td>\n",
       "    </tr>\n",
       "    <tr>\n",
       "      <th>4510419</th>\n",
       "      <td>422667</td>\n",
       "      <td>0</td>\n",
       "    </tr>\n",
       "    <tr>\n",
       "      <th>2203285</th>\n",
       "      <td>11189</td>\n",
       "      <td>0</td>\n",
       "    </tr>\n",
       "    <tr>\n",
       "      <th>12632400</th>\n",
       "      <td>470488</td>\n",
       "      <td>0</td>\n",
       "    </tr>\n",
       "  </tbody>\n",
       "</table>\n",
       "</div>"
      ],
      "text/plain": [
       "             ad_id  clicked\n",
       "display_id                 \n",
       "7194604     189575        1\n",
       "10660899    281556        0\n",
       "4510419     422667        0\n",
       "2203285      11189        0\n",
       "12632400    470488        0"
      ]
     },
     "execution_count": 134,
     "metadata": {},
     "output_type": "execute_result"
    }
   ],
   "source": [
    "#the first column seems to be the old index, we don't need this\n",
    "clicks_train = clicks_train.set_index('display_id')\n",
    "del clicks_train[\"Unnamed: 0\"]\n",
    "clicks_train.head()"
   ]
  },
  {
   "cell_type": "code",
   "execution_count": 135,
   "metadata": {
    "collapsed": false
   },
   "outputs": [
    {
     "data": {
      "text/html": [
       "<div>\n",
       "<table border=\"1\" class=\"dataframe\">\n",
       "  <thead>\n",
       "    <tr style=\"text-align: right;\">\n",
       "      <th></th>\n",
       "      <th>uuid</th>\n",
       "      <th>document_id</th>\n",
       "      <th>timestamp</th>\n",
       "      <th>platform</th>\n",
       "      <th>geo_location</th>\n",
       "    </tr>\n",
       "    <tr>\n",
       "      <th>display_id</th>\n",
       "      <th></th>\n",
       "      <th></th>\n",
       "      <th></th>\n",
       "      <th></th>\n",
       "      <th></th>\n",
       "    </tr>\n",
       "  </thead>\n",
       "  <tbody>\n",
       "    <tr>\n",
       "      <th>62</th>\n",
       "      <td>65861840b3ab9f</td>\n",
       "      <td>1781623</td>\n",
       "      <td>4651</td>\n",
       "      <td>2</td>\n",
       "      <td>US&gt;AZ&gt;789</td>\n",
       "    </tr>\n",
       "    <tr>\n",
       "      <th>76</th>\n",
       "      <td>23c6c76aeab262</td>\n",
       "      <td>1727629</td>\n",
       "      <td>5723</td>\n",
       "      <td>3</td>\n",
       "      <td>US&gt;IL&gt;609</td>\n",
       "    </tr>\n",
       "    <tr>\n",
       "      <th>795</th>\n",
       "      <td>8cdc5a01e783a8</td>\n",
       "      <td>1768840</td>\n",
       "      <td>56758</td>\n",
       "      <td>3</td>\n",
       "      <td>US&gt;PA&gt;504</td>\n",
       "    </tr>\n",
       "    <tr>\n",
       "      <th>1394</th>\n",
       "      <td>f4953632cdeaf9</td>\n",
       "      <td>1762699</td>\n",
       "      <td>96740</td>\n",
       "      <td>2</td>\n",
       "      <td>US&gt;MA&gt;506</td>\n",
       "    </tr>\n",
       "    <tr>\n",
       "      <th>1523</th>\n",
       "      <td>cde539b7dfb671</td>\n",
       "      <td>1631112</td>\n",
       "      <td>105840</td>\n",
       "      <td>3</td>\n",
       "      <td>US&gt;GA&gt;524</td>\n",
       "    </tr>\n",
       "  </tbody>\n",
       "</table>\n",
       "</div>"
      ],
      "text/plain": [
       "                      uuid  document_id  timestamp  platform geo_location\n",
       "display_id                                                               \n",
       "62          65861840b3ab9f      1781623       4651         2    US>AZ>789\n",
       "76          23c6c76aeab262      1727629       5723         3    US>IL>609\n",
       "795         8cdc5a01e783a8      1768840      56758         3    US>PA>504\n",
       "1394        f4953632cdeaf9      1762699      96740         2    US>MA>506\n",
       "1523        cde539b7dfb671      1631112     105840         3    US>GA>524"
      ]
     },
     "execution_count": 135,
     "metadata": {},
     "output_type": "execute_result"
    }
   ],
   "source": [
    "del events[\"Unnamed: 0\"]\n",
    "events = events.set_index(\"display_id\")\n",
    "events.head()"
   ]
  },
  {
   "cell_type": "code",
   "execution_count": null,
   "metadata": {
    "collapsed": false
   },
   "outputs": [],
   "source": []
  },
  {
   "cell_type": "code",
   "execution_count": 136,
   "metadata": {
    "collapsed": false
   },
   "outputs": [
    {
     "data": {
      "text/html": [
       "<div>\n",
       "<table border=\"1\" class=\"dataframe\">\n",
       "  <thead>\n",
       "    <tr style=\"text-align: right;\">\n",
       "      <th></th>\n",
       "      <th>ad_id</th>\n",
       "      <th>clicked</th>\n",
       "      <th>uuid</th>\n",
       "      <th>document_id</th>\n",
       "      <th>timestamp</th>\n",
       "      <th>platform</th>\n",
       "      <th>geo_location</th>\n",
       "    </tr>\n",
       "    <tr>\n",
       "      <th>display_id</th>\n",
       "      <th></th>\n",
       "      <th></th>\n",
       "      <th></th>\n",
       "      <th></th>\n",
       "      <th></th>\n",
       "      <th></th>\n",
       "      <th></th>\n",
       "    </tr>\n",
       "  </thead>\n",
       "  <tbody>\n",
       "    <tr>\n",
       "      <th>62</th>\n",
       "      <td>132780</td>\n",
       "      <td>0</td>\n",
       "      <td>65861840b3ab9f</td>\n",
       "      <td>1781623</td>\n",
       "      <td>4651</td>\n",
       "      <td>2</td>\n",
       "      <td>US&gt;AZ&gt;789</td>\n",
       "    </tr>\n",
       "    <tr>\n",
       "      <th>76</th>\n",
       "      <td>228959</td>\n",
       "      <td>0</td>\n",
       "      <td>23c6c76aeab262</td>\n",
       "      <td>1727629</td>\n",
       "      <td>5723</td>\n",
       "      <td>3</td>\n",
       "      <td>US&gt;IL&gt;609</td>\n",
       "    </tr>\n",
       "    <tr>\n",
       "      <th>795</th>\n",
       "      <td>249397</td>\n",
       "      <td>0</td>\n",
       "      <td>8cdc5a01e783a8</td>\n",
       "      <td>1768840</td>\n",
       "      <td>56758</td>\n",
       "      <td>3</td>\n",
       "      <td>US&gt;PA&gt;504</td>\n",
       "    </tr>\n",
       "    <tr>\n",
       "      <th>1394</th>\n",
       "      <td>310868</td>\n",
       "      <td>1</td>\n",
       "      <td>f4953632cdeaf9</td>\n",
       "      <td>1762699</td>\n",
       "      <td>96740</td>\n",
       "      <td>2</td>\n",
       "      <td>US&gt;MA&gt;506</td>\n",
       "    </tr>\n",
       "    <tr>\n",
       "      <th>1523</th>\n",
       "      <td>247283</td>\n",
       "      <td>0</td>\n",
       "      <td>cde539b7dfb671</td>\n",
       "      <td>1631112</td>\n",
       "      <td>105840</td>\n",
       "      <td>3</td>\n",
       "      <td>US&gt;GA&gt;524</td>\n",
       "    </tr>\n",
       "  </tbody>\n",
       "</table>\n",
       "</div>"
      ],
      "text/plain": [
       "             ad_id  clicked            uuid  document_id  timestamp  platform  \\\n",
       "display_id                                                                      \n",
       "62          132780        0  65861840b3ab9f      1781623       4651         2   \n",
       "76          228959        0  23c6c76aeab262      1727629       5723         3   \n",
       "795         249397        0  8cdc5a01e783a8      1768840      56758         3   \n",
       "1394        310868        1  f4953632cdeaf9      1762699      96740         2   \n",
       "1523        247283        0  cde539b7dfb671      1631112     105840         3   \n",
       "\n",
       "           geo_location  \n",
       "display_id               \n",
       "62            US>AZ>789  \n",
       "76            US>IL>609  \n",
       "795           US>PA>504  \n",
       "1394          US>MA>506  \n",
       "1523          US>GA>524  "
      ]
     },
     "execution_count": 136,
     "metadata": {},
     "output_type": "execute_result"
    }
   ],
   "source": [
    "data = clicks_train.join(events)\n",
    "data.head()"
   ]
  },
  {
   "cell_type": "markdown",
   "metadata": {},
   "source": [
    "## Promoted"
   ]
  },
  {
   "cell_type": "code",
   "execution_count": 137,
   "metadata": {
    "collapsed": false
   },
   "outputs": [
    {
     "data": {
      "text/plain": [
       "14966"
      ]
     },
     "execution_count": 137,
     "metadata": {},
     "output_type": "execute_result"
    }
   ],
   "source": [
    "len(promoted)"
   ]
  },
  {
   "cell_type": "code",
   "execution_count": 138,
   "metadata": {
    "collapsed": false
   },
   "outputs": [
    {
     "name": "stdout",
     "output_type": "stream",
     "text": [
      "9269\n",
      "22387\n"
     ]
    }
   ],
   "source": [
    "#there is not a one-to-one relationship between document_id in promoted and the master data\n",
    "#This is because the same ad is being shown in different documents I think\n",
    "print(len(promoted[\"document_id\"].unique()))\n",
    "print(len(data[\"document_id\"].unique()))"
   ]
  },
  {
   "cell_type": "code",
   "execution_count": 139,
   "metadata": {
    "collapsed": false
   },
   "outputs": [
    {
     "data": {
      "text/html": [
       "<div>\n",
       "<table border=\"1\" class=\"dataframe\">\n",
       "  <thead>\n",
       "    <tr style=\"text-align: right;\">\n",
       "      <th></th>\n",
       "      <th>ad_id</th>\n",
       "      <th>campaign_id</th>\n",
       "      <th>advertiser_id</th>\n",
       "    </tr>\n",
       "  </thead>\n",
       "  <tbody>\n",
       "    <tr>\n",
       "      <th>0</th>\n",
       "      <td>7</td>\n",
       "      <td>1</td>\n",
       "      <td>7</td>\n",
       "    </tr>\n",
       "    <tr>\n",
       "      <th>1</th>\n",
       "      <td>55</td>\n",
       "      <td>26</td>\n",
       "      <td>39</td>\n",
       "    </tr>\n",
       "    <tr>\n",
       "      <th>2</th>\n",
       "      <td>446</td>\n",
       "      <td>43</td>\n",
       "      <td>76</td>\n",
       "    </tr>\n",
       "    <tr>\n",
       "      <th>3</th>\n",
       "      <td>487</td>\n",
       "      <td>81</td>\n",
       "      <td>116</td>\n",
       "    </tr>\n",
       "    <tr>\n",
       "      <th>4</th>\n",
       "      <td>489</td>\n",
       "      <td>81</td>\n",
       "      <td>116</td>\n",
       "    </tr>\n",
       "  </tbody>\n",
       "</table>\n",
       "</div>"
      ],
      "text/plain": [
       "   ad_id  campaign_id  advertiser_id\n",
       "0      7            1              7\n",
       "1     55           26             39\n",
       "2    446           43             76\n",
       "3    487           81            116\n",
       "4    489           81            116"
      ]
     },
     "execution_count": 139,
     "metadata": {},
     "output_type": "execute_result"
    }
   ],
   "source": [
    "promoted.head()\n",
    "del promoted[\"Unnamed: 0\"]\n",
    "del promoted['document_id'] #I think all we want from here is the link between ad_id and campaign id\n",
    "promoted.head()"
   ]
  },
  {
   "cell_type": "code",
   "execution_count": 140,
   "metadata": {
    "collapsed": false
   },
   "outputs": [
    {
     "name": "stdout",
     "output_type": "stream",
     "text": [
      "14966\n",
      "14966\n"
     ]
    }
   ],
   "source": [
    "#there is a one-to-one relationship between ad_id in promoted and the master data\n",
    "print(len(promoted[\"ad_id\"].unique())) #each add can appear more than once\n",
    "print(len(data[\"ad_id\"].unique()))"
   ]
  },
  {
   "cell_type": "markdown",
   "metadata": {},
   "source": [
    "## Joining Info about each ad"
   ]
  },
  {
   "cell_type": "markdown",
   "metadata": {},
   "source": [
    "I make a dictionary of the advertiser and campaign id for each ad_id, map that dictionary to the ad id to make the advertizer and campain columns"
   ]
  },
  {
   "cell_type": "code",
   "execution_count": 141,
   "metadata": {
    "collapsed": false
   },
   "outputs": [
    {
     "data": {
      "text/html": [
       "<div>\n",
       "<table border=\"1\" class=\"dataframe\">\n",
       "  <thead>\n",
       "    <tr style=\"text-align: right;\">\n",
       "      <th></th>\n",
       "      <th>ad_id</th>\n",
       "      <th>clicked</th>\n",
       "      <th>uuid</th>\n",
       "      <th>document_id</th>\n",
       "      <th>timestamp</th>\n",
       "      <th>platform</th>\n",
       "      <th>geo_location</th>\n",
       "    </tr>\n",
       "    <tr>\n",
       "      <th>display_id</th>\n",
       "      <th></th>\n",
       "      <th></th>\n",
       "      <th></th>\n",
       "      <th></th>\n",
       "      <th></th>\n",
       "      <th></th>\n",
       "      <th></th>\n",
       "    </tr>\n",
       "  </thead>\n",
       "  <tbody>\n",
       "    <tr>\n",
       "      <th>62</th>\n",
       "      <td>132780</td>\n",
       "      <td>0</td>\n",
       "      <td>65861840b3ab9f</td>\n",
       "      <td>1781623</td>\n",
       "      <td>4651</td>\n",
       "      <td>2</td>\n",
       "      <td>US&gt;AZ&gt;789</td>\n",
       "    </tr>\n",
       "    <tr>\n",
       "      <th>76</th>\n",
       "      <td>228959</td>\n",
       "      <td>0</td>\n",
       "      <td>23c6c76aeab262</td>\n",
       "      <td>1727629</td>\n",
       "      <td>5723</td>\n",
       "      <td>3</td>\n",
       "      <td>US&gt;IL&gt;609</td>\n",
       "    </tr>\n",
       "    <tr>\n",
       "      <th>795</th>\n",
       "      <td>249397</td>\n",
       "      <td>0</td>\n",
       "      <td>8cdc5a01e783a8</td>\n",
       "      <td>1768840</td>\n",
       "      <td>56758</td>\n",
       "      <td>3</td>\n",
       "      <td>US&gt;PA&gt;504</td>\n",
       "    </tr>\n",
       "    <tr>\n",
       "      <th>1394</th>\n",
       "      <td>310868</td>\n",
       "      <td>1</td>\n",
       "      <td>f4953632cdeaf9</td>\n",
       "      <td>1762699</td>\n",
       "      <td>96740</td>\n",
       "      <td>2</td>\n",
       "      <td>US&gt;MA&gt;506</td>\n",
       "    </tr>\n",
       "    <tr>\n",
       "      <th>1523</th>\n",
       "      <td>247283</td>\n",
       "      <td>0</td>\n",
       "      <td>cde539b7dfb671</td>\n",
       "      <td>1631112</td>\n",
       "      <td>105840</td>\n",
       "      <td>3</td>\n",
       "      <td>US&gt;GA&gt;524</td>\n",
       "    </tr>\n",
       "  </tbody>\n",
       "</table>\n",
       "</div>"
      ],
      "text/plain": [
       "             ad_id  clicked            uuid  document_id  timestamp  platform  \\\n",
       "display_id                                                                      \n",
       "62          132780        0  65861840b3ab9f      1781623       4651         2   \n",
       "76          228959        0  23c6c76aeab262      1727629       5723         3   \n",
       "795         249397        0  8cdc5a01e783a8      1768840      56758         3   \n",
       "1394        310868        1  f4953632cdeaf9      1762699      96740         2   \n",
       "1523        247283        0  cde539b7dfb671      1631112     105840         3   \n",
       "\n",
       "           geo_location  \n",
       "display_id               \n",
       "62            US>AZ>789  \n",
       "76            US>IL>609  \n",
       "795           US>PA>504  \n",
       "1394          US>MA>506  \n",
       "1523          US>GA>524  "
      ]
     },
     "execution_count": 141,
     "metadata": {},
     "output_type": "execute_result"
    }
   ],
   "source": [
    "data.head()"
   ]
  },
  {
   "cell_type": "code",
   "execution_count": 142,
   "metadata": {
    "collapsed": false
   },
   "outputs": [
    {
     "name": "stdout",
     "output_type": "stream",
     "text": [
      "40000\n",
      "14966\n"
     ]
    }
   ],
   "source": [
    "print(len(data))\n",
    "print(len(data[\"ad_id\"].unique())) #adds appear on average slightly more than twice in our minidata set"
   ]
  },
  {
   "cell_type": "code",
   "execution_count": 143,
   "metadata": {
    "collapsed": false
   },
   "outputs": [],
   "source": [
    "#make dictionaries to look up advertizer id and campaign id for each ad_id\n",
    "advertiser_dict = dict(zip(promoted.ad_id, promoted.advertiser_id))\n",
    "campaign_dict = dict(zip(promoted.ad_id, promoted.campaign_id))\n"
   ]
  },
  {
   "cell_type": "code",
   "execution_count": 144,
   "metadata": {
    "collapsed": false
   },
   "outputs": [
    {
     "data": {
      "text/html": [
       "<div>\n",
       "<table border=\"1\" class=\"dataframe\">\n",
       "  <thead>\n",
       "    <tr style=\"text-align: right;\">\n",
       "      <th></th>\n",
       "      <th>ad_id</th>\n",
       "      <th>clicked</th>\n",
       "      <th>uuid</th>\n",
       "      <th>document_id</th>\n",
       "      <th>timestamp</th>\n",
       "      <th>platform</th>\n",
       "      <th>geo_location</th>\n",
       "      <th>campaign_id</th>\n",
       "      <th>advertiser_id</th>\n",
       "    </tr>\n",
       "    <tr>\n",
       "      <th>display_id</th>\n",
       "      <th></th>\n",
       "      <th></th>\n",
       "      <th></th>\n",
       "      <th></th>\n",
       "      <th></th>\n",
       "      <th></th>\n",
       "      <th></th>\n",
       "      <th></th>\n",
       "      <th></th>\n",
       "    </tr>\n",
       "  </thead>\n",
       "  <tbody>\n",
       "    <tr>\n",
       "      <th>62</th>\n",
       "      <td>132780</td>\n",
       "      <td>0</td>\n",
       "      <td>65861840b3ab9f</td>\n",
       "      <td>1781623</td>\n",
       "      <td>4651</td>\n",
       "      <td>2</td>\n",
       "      <td>US&gt;AZ&gt;789</td>\n",
       "      <td>16528</td>\n",
       "      <td>1006</td>\n",
       "    </tr>\n",
       "    <tr>\n",
       "      <th>76</th>\n",
       "      <td>228959</td>\n",
       "      <td>0</td>\n",
       "      <td>23c6c76aeab262</td>\n",
       "      <td>1727629</td>\n",
       "      <td>5723</td>\n",
       "      <td>3</td>\n",
       "      <td>US&gt;IL&gt;609</td>\n",
       "      <td>25174</td>\n",
       "      <td>2712</td>\n",
       "    </tr>\n",
       "    <tr>\n",
       "      <th>795</th>\n",
       "      <td>249397</td>\n",
       "      <td>0</td>\n",
       "      <td>8cdc5a01e783a8</td>\n",
       "      <td>1768840</td>\n",
       "      <td>56758</td>\n",
       "      <td>3</td>\n",
       "      <td>US&gt;PA&gt;504</td>\n",
       "      <td>26150</td>\n",
       "      <td>3829</td>\n",
       "    </tr>\n",
       "    <tr>\n",
       "      <th>1394</th>\n",
       "      <td>310868</td>\n",
       "      <td>1</td>\n",
       "      <td>f4953632cdeaf9</td>\n",
       "      <td>1762699</td>\n",
       "      <td>96740</td>\n",
       "      <td>2</td>\n",
       "      <td>US&gt;MA&gt;506</td>\n",
       "      <td>28807</td>\n",
       "      <td>1634</td>\n",
       "    </tr>\n",
       "    <tr>\n",
       "      <th>1523</th>\n",
       "      <td>247283</td>\n",
       "      <td>0</td>\n",
       "      <td>cde539b7dfb671</td>\n",
       "      <td>1631112</td>\n",
       "      <td>105840</td>\n",
       "      <td>3</td>\n",
       "      <td>US&gt;GA&gt;524</td>\n",
       "      <td>26079</td>\n",
       "      <td>2874</td>\n",
       "    </tr>\n",
       "  </tbody>\n",
       "</table>\n",
       "</div>"
      ],
      "text/plain": [
       "             ad_id  clicked            uuid  document_id  timestamp  platform  \\\n",
       "display_id                                                                      \n",
       "62          132780        0  65861840b3ab9f      1781623       4651         2   \n",
       "76          228959        0  23c6c76aeab262      1727629       5723         3   \n",
       "795         249397        0  8cdc5a01e783a8      1768840      56758         3   \n",
       "1394        310868        1  f4953632cdeaf9      1762699      96740         2   \n",
       "1523        247283        0  cde539b7dfb671      1631112     105840         3   \n",
       "\n",
       "           geo_location  campaign_id  advertiser_id  \n",
       "display_id                                           \n",
       "62            US>AZ>789        16528           1006  \n",
       "76            US>IL>609        25174           2712  \n",
       "795           US>PA>504        26150           3829  \n",
       "1394          US>MA>506        28807           1634  \n",
       "1523          US>GA>524        26079           2874  "
      ]
     },
     "execution_count": 144,
     "metadata": {},
     "output_type": "execute_result"
    }
   ],
   "source": [
    "data[\"campaign_id\"] = data[\"ad_id\"].map(campaign_dict)\n",
    "data[\"advertiser_id\"] = data[\"ad_id\"].map(advertiser_dict)\n",
    "data.head()"
   ]
  },
  {
   "cell_type": "code",
   "execution_count": 145,
   "metadata": {
    "collapsed": false
   },
   "outputs": [
    {
     "name": "stdout",
     "output_type": "stream",
     "text": [
      "40000\n",
      "14966\n"
     ]
    }
   ],
   "source": [
    "print(len(data))\n",
    "print(len(data[\"ad_id\"].unique())) #adds appear on average slightly more than twice in our minidata set"
   ]
  },
  {
   "cell_type": "markdown",
   "metadata": {
    "collapsed": false
   },
   "source": [
    "## Working with Page Views"
   ]
  },
  {
   "cell_type": "markdown",
   "metadata": {
    "collapsed": false
   },
   "source": [
    "Can't get the pageviews file to import, will work on this later"
   ]
  },
  {
   "cell_type": "markdown",
   "metadata": {
    "collapsed": true
   },
   "source": [
    "## Importing Document Information"
   ]
  },
  {
   "cell_type": "markdown",
   "metadata": {},
   "source": [
    "I'm super stuck on why all the document ids that appear in our data arent in the files with more information about each documents."
   ]
  },
  {
   "cell_type": "code",
   "execution_count": 146,
   "metadata": {
    "collapsed": false
   },
   "outputs": [
    {
     "name": "stdout",
     "output_type": "stream",
     "text": [
      "22387\n",
      "9253\n",
      "7490\n",
      "9269\n",
      "9000\n"
     ]
    }
   ],
   "source": [
    "#Why aren't there the same number of unique documents in each of these\n",
    "print(len(data[\"document_id\"].unique()))\n",
    "print(len(doc_cats[\"document_id\"].unique()))\n",
    "print(len(doc_ents[\"document_id\"].unique()))\n",
    "print(len(doc_meta[\"document_id\"].unique()))\n",
    "print(len(doc_topics[\"document_id\"].unique()))"
   ]
  },
  {
   "cell_type": "code",
   "execution_count": 147,
   "metadata": {
    "collapsed": false
   },
   "outputs": [
    {
     "data": {
      "text/html": [
       "<div>\n",
       "<table border=\"1\" class=\"dataframe\">\n",
       "  <thead>\n",
       "    <tr style=\"text-align: right;\">\n",
       "      <th></th>\n",
       "      <th>Unnamed: 0</th>\n",
       "      <th>document_id</th>\n",
       "      <th>entity_id</th>\n",
       "      <th>confidence_level</th>\n",
       "    </tr>\n",
       "  </thead>\n",
       "  <tbody>\n",
       "    <tr>\n",
       "      <th>0</th>\n",
       "      <td>42749</td>\n",
       "      <td>1097501</td>\n",
       "      <td>0bb6322f38719d3a928eb9ca6f6a4c96</td>\n",
       "      <td>0.704652</td>\n",
       "    </tr>\n",
       "    <tr>\n",
       "      <th>1</th>\n",
       "      <td>42750</td>\n",
       "      <td>1097501</td>\n",
       "      <td>e0e6f88bb45d82f216b7c794e8bc0a61</td>\n",
       "      <td>0.338807</td>\n",
       "    </tr>\n",
       "    <tr>\n",
       "      <th>2</th>\n",
       "      <td>42751</td>\n",
       "      <td>1097501</td>\n",
       "      <td>f513b9ee061a066d9595316fe50ba8e3</td>\n",
       "      <td>0.314879</td>\n",
       "    </tr>\n",
       "    <tr>\n",
       "      <th>3</th>\n",
       "      <td>72655</td>\n",
       "      <td>1807706</td>\n",
       "      <td>11d5279de0b36011773ee50f75f9b43c</td>\n",
       "      <td>0.495961</td>\n",
       "    </tr>\n",
       "    <tr>\n",
       "      <th>4</th>\n",
       "      <td>72656</td>\n",
       "      <td>1807706</td>\n",
       "      <td>358c9e8a2ff80f858f6deb063e0bcf8f</td>\n",
       "      <td>0.337521</td>\n",
       "    </tr>\n",
       "  </tbody>\n",
       "</table>\n",
       "</div>"
      ],
      "text/plain": [
       "   Unnamed: 0  document_id                         entity_id  confidence_level\n",
       "0       42749      1097501  0bb6322f38719d3a928eb9ca6f6a4c96          0.704652\n",
       "1       42750      1097501  e0e6f88bb45d82f216b7c794e8bc0a61          0.338807\n",
       "2       42751      1097501  f513b9ee061a066d9595316fe50ba8e3          0.314879\n",
       "3       72655      1807706  11d5279de0b36011773ee50f75f9b43c          0.495961\n",
       "4       72656      1807706  358c9e8a2ff80f858f6deb063e0bcf8f          0.337521"
      ]
     },
     "execution_count": 147,
     "metadata": {},
     "output_type": "execute_result"
    }
   ],
   "source": [
    "#each document has multiple possible entities, categories, topics with different confidence level. \n",
    "#maybe we should just for now keep the most likely entity, topic and category? \n",
    "doc_ents.head()"
   ]
  },
  {
   "cell_type": "code",
   "execution_count": 148,
   "metadata": {
    "collapsed": false
   },
   "outputs": [
    {
     "data": {
      "text/html": [
       "<div>\n",
       "<table border=\"1\" class=\"dataframe\">\n",
       "  <thead>\n",
       "    <tr style=\"text-align: right;\">\n",
       "      <th></th>\n",
       "      <th>Unnamed: 0</th>\n",
       "      <th>document_id</th>\n",
       "      <th>category_id</th>\n",
       "      <th>confidence_level</th>\n",
       "    </tr>\n",
       "  </thead>\n",
       "  <tbody>\n",
       "    <tr>\n",
       "      <th>0</th>\n",
       "      <td>25674</td>\n",
       "      <td>1097501</td>\n",
       "      <td>1100</td>\n",
       "      <td>0.92</td>\n",
       "    </tr>\n",
       "    <tr>\n",
       "      <th>1</th>\n",
       "      <td>25675</td>\n",
       "      <td>1097501</td>\n",
       "      <td>2005</td>\n",
       "      <td>0.07</td>\n",
       "    </tr>\n",
       "    <tr>\n",
       "      <th>2</th>\n",
       "      <td>51976</td>\n",
       "      <td>1807706</td>\n",
       "      <td>1209</td>\n",
       "      <td>0.92</td>\n",
       "    </tr>\n",
       "    <tr>\n",
       "      <th>3</th>\n",
       "      <td>51977</td>\n",
       "      <td>1807706</td>\n",
       "      <td>1205</td>\n",
       "      <td>0.07</td>\n",
       "    </tr>\n",
       "    <tr>\n",
       "      <th>4</th>\n",
       "      <td>51990</td>\n",
       "      <td>1316839</td>\n",
       "      <td>2003</td>\n",
       "      <td>0.92</td>\n",
       "    </tr>\n",
       "  </tbody>\n",
       "</table>\n",
       "</div>"
      ],
      "text/plain": [
       "   Unnamed: 0  document_id  category_id  confidence_level\n",
       "0       25674      1097501         1100              0.92\n",
       "1       25675      1097501         2005              0.07\n",
       "2       51976      1807706         1209              0.92\n",
       "3       51977      1807706         1205              0.07\n",
       "4       51990      1316839         2003              0.92"
      ]
     },
     "execution_count": 148,
     "metadata": {},
     "output_type": "execute_result"
    }
   ],
   "source": [
    "doc_cats.head()"
   ]
  },
  {
   "cell_type": "code",
   "execution_count": 149,
   "metadata": {
    "collapsed": false
   },
   "outputs": [
    {
     "name": "stdout",
     "output_type": "stream",
     "text": [
      "             ad_id  clicked\n",
      "display_id                 \n",
      "7194604     189575        1\n",
      "10660899    281556        0\n",
      "4510419     422667        0\n",
      "2203285      11189        0\n",
      "12632400    470488        0\n",
      "7759342     152212        1\n",
      "12536296    354427        0\n",
      "9611229      34385        0\n",
      "13311159    452245        1\n",
      "5312738      25876        0\n",
      "13361551    123387        0\n",
      "13729147    122528        0\n",
      "16229981    383892        0\n",
      "14789544    191679        0\n",
      "4797250     275049        0\n",
      "2711848      61942        1\n",
      "12251842    286214        0\n",
      "10088420     70638        1\n",
      "9485582      25308        0\n",
      "4360223     263119        0\n",
      "13218175    132780        0\n",
      "2719653     197811        0\n",
      "15535621    153942        0\n",
      "10253958    234407        1\n",
      "9248701     130946        0\n",
      "3841999     123742        0\n",
      "1591356     179725        1\n",
      "12749429     31102        0\n",
      "12180765    368693        0\n",
      "3995880     173130        0\n",
      "...            ...      ...\n",
      "12443521    270325        1\n",
      "8879230     169248        0\n",
      "4063511     233181        0\n",
      "7049285      63593        0\n",
      "13328341    466007        0\n",
      "8236208     180923        0\n",
      "16631956     54302        1\n",
      "16173661    274027        0\n",
      "14591404      6682        0\n",
      "5930537     367601        0\n",
      "3527698     123817        0\n",
      "10631545    197172        0\n",
      "15808806    392531        0\n",
      "9862285     153129        0\n",
      "9294640      54443        0\n",
      "4325705      83666        0\n",
      "6717470     375966        0\n",
      "8349624     372758        0\n",
      "9326506     121741        1\n",
      "13364897    499346        0\n",
      "16131488    175238        0\n",
      "12089526    240836        0\n",
      "8872147     190713        0\n",
      "7686097      70647        1\n",
      "3050141     163990        1\n",
      "12214554     87396        1\n",
      "15423498    167294        0\n",
      "1436161     145936        0\n",
      "14578509     79648        1\n",
      "16628529    291545        0\n",
      "\n",
      "[40000 rows x 2 columns]\n"
     ]
    }
   ],
   "source": [
    "# print (clicks_train.head())\n",
    "print (clicks_train[0:])"
   ]
  },
  {
   "cell_type": "code",
   "execution_count": 150,
   "metadata": {
    "collapsed": false
   },
   "outputs": [
    {
     "name": "stdout",
     "output_type": "stream",
     "text": [
      "[ 7194604 10660899  4510419 ...,  1436161 14578509 16628529]\n",
      "[319426, 832428, 962152, 999239, 1163978, 1526817, 1912349, 1933126, 1957232, 1996551, 2047455, 2115689, 2160950, 2777052, 2836369, 4120341, 4328315, 4372083, 4584406, 4904309, 5165991, 5332103, 5680456, 7080346, 7276865, 7548186, 7689820, 8872556, 8996605, 9036747, 9599255, 10915666, 11089226, 11285026, 11333677, 11416548, 11895942, 12044033, 12220952, 12576791, 13005881, 13554948, 13603553, 14950442, 15437086, 15708318, 15829315, 16098772, 16366925, 16563287]\n"
     ]
    }
   ],
   "source": [
    "# Scratch pad\n",
    "print(clicks_train.index.values)\n",
    "print(clicks_train.index.get_duplicates())\n",
    "\n",
    "# print(clicks_train.loc[7194604:10660899])"
   ]
  },
  {
   "cell_type": "code",
   "execution_count": 154,
   "metadata": {
    "collapsed": false
   },
   "outputs": [],
   "source": [
    "# Jay's code...\n",
    "\n",
    "reg = 10 # trying anokas idea of regularization\n",
    "eval = False # True = split off 10% of training data for validation and test performance\n",
    "\n",
    "train = clicks_train\n",
    "\n",
    "if eval:\n",
    "    ids = train.index.values\n",
    "    ids = np.random.choice(ids, size=len(ids)//10, replace=False)\n",
    "    notids = set(train.index.values) - set(ids)\n",
    "    \n",
    "    #print(ids)\n",
    "    #print(len(ids))\n",
    "    valid = train.loc[ids] # random 10% for validation data \n",
    "    #print(\"length of train:\" + str(len(train)))\n",
    "    #print(\"length of valid: \" + str(len(valid)))\n",
    "    #print(valid.head())\n",
    "    \n",
    "    train = train.loc[notids] # remaining 90% as training data\n",
    "    #print(train.head())\n",
    "    print (valid.shape, train.shape)\n",
    "\n",
    "cnt = train[train.clicked==1].ad_id.value_counts() # group # of clicks by ad \n",
    "cntall = train.ad_id.value_counts() # group # of displays by ad\n",
    "del train\n",
    "\n",
    "def get_prob(k):\n",
    "    if k not in cnt:\n",
    "        return 0\n",
    "    return cnt[k]/(float(cntall[k]) + reg)  # return the proportion of ad clicks / displays\n",
    "\n",
    "def srt(x):\n",
    "    ad_ids = map(int, x.split()) # take in list of ads shown to each user\n",
    "    ad_ids = sorted(ad_ids, key=get_prob, reverse=True) # re-sort the ads by training clicks / displays\n",
    "    return \" \".join(map(str,ad_ids)) # return the list with the ads sorted for submission\n",
    "   \n",
    "if eval:\n",
    "    from ml_metrics import mapk\n",
    "\n",
    "    y = valid[valid.clicked==1].ad_id.values # create list of ad click counts in validation set\n",
    "    y = [[_] for _ in y]\n",
    "    p = valid.groupby('display_id').ad_id.apply(list)\n",
    "    p = [sorted(x, key=get_prob, reverse=True) for x in p] # create list in order expected\n",
    "\n",
    "    print (mapk(y, p, k=12)) # compare predicted order vs. actual order in validation set\n",
    "\n",
    "else:\n",
    "    subm = pd.read_csv(\"sample_submission.csv\") # load the sample submission file\n",
    "    subm['ad_id'] = subm.ad_id.apply(lambda x: srt(x)) # re-sort the ads by overall training clicks / display\n",
    "    subm.to_csv(\"subm_reg_1.csv\", index=False) "
   ]
  }
 ],
 "metadata": {
  "kernelspec": {
   "display_name": "Python 3",
   "language": "python",
   "name": "python3"
  },
  "language_info": {
   "codemirror_mode": {
    "name": "ipython",
    "version": 3
   },
   "file_extension": ".py",
   "mimetype": "text/x-python",
   "name": "python",
   "nbconvert_exporter": "python",
   "pygments_lexer": "ipython3",
   "version": "3.5.1"
  }
 },
 "nbformat": 4,
 "nbformat_minor": 0
}
