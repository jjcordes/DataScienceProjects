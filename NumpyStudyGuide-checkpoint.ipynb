{
 "cells": [
  {
   "cell_type": "code",
   "execution_count": 1,
   "metadata": {
    "collapsed": true
   },
   "outputs": [],
   "source": [
    "import numpy as np\n"
   ]
  },
  {
   "cell_type": "code",
   "execution_count": 6,
   "metadata": {
    "collapsed": false
   },
   "outputs": [
    {
     "name": "stdout",
     "output_type": "stream",
     "text": [
      "[1, 4, 9, 16]\n",
      "10 loops, best of 3: 36.2 ms per loop\n"
     ]
    }
   ],
   "source": [
    "def squares(values):\n",
    "    result = []\n",
    "    for item in values:\n",
    "        result.append(item**2)\n",
    "    \n",
    "    return result\n",
    "\n",
    "print(squares([1,2,3,4]))\n",
    "        \n",
    "to_square = range(100000)\n",
    "%timeit squares(to_square)"
   ]
  },
  {
   "cell_type": "code",
   "execution_count": 8,
   "metadata": {
    "collapsed": false
   },
   "outputs": [
    {
     "name": "stdout",
     "output_type": "stream",
     "text": [
      "The slowest run took 5.59 times longer than the fastest. This could mean that an intermediate result is being cached \n",
      "10000 loops, best of 3: 51.1 µs per loop\n"
     ]
    }
   ],
   "source": [
    "array_to_square = np.arange(0,100000)\n",
    "\n",
    "%timeit array_to_square**2"
   ]
  },
  {
   "cell_type": "code",
   "execution_count": 10,
   "metadata": {
    "collapsed": false
   },
   "outputs": [],
   "source": [
    "a1 = np.array([1,2,3,4])"
   ]
  },
  {
   "cell_type": "code",
   "execution_count": 12,
   "metadata": {
    "collapsed": false
   },
   "outputs": [
    {
     "data": {
      "text/plain": [
       "array([1, 2, 3, 4])"
      ]
     },
     "execution_count": 12,
     "metadata": {},
     "output_type": "execute_result"
    }
   ],
   "source": [
    "a1"
   ]
  },
  {
   "cell_type": "code",
   "execution_count": 13,
   "metadata": {
    "collapsed": false
   },
   "outputs": [
    {
     "data": {
      "text/plain": [
       "numpy.ndarray"
      ]
     },
     "execution_count": 13,
     "metadata": {},
     "output_type": "execute_result"
    }
   ],
   "source": [
    "type(a1)"
   ]
  },
  {
   "cell_type": "code",
   "execution_count": 14,
   "metadata": {
    "collapsed": true
   },
   "outputs": [],
   "source": [
    "a2 = np.array([1,2,3.0,4])"
   ]
  },
  {
   "cell_type": "code",
   "execution_count": 15,
   "metadata": {
    "collapsed": false
   },
   "outputs": [
    {
     "data": {
      "text/plain": [
       "array([ 1.,  2.,  3.,  4.])"
      ]
     },
     "execution_count": 15,
     "metadata": {},
     "output_type": "execute_result"
    }
   ],
   "source": [
    "a2"
   ]
  },
  {
   "cell_type": "code",
   "execution_count": 17,
   "metadata": {
    "collapsed": false
   },
   "outputs": [
    {
     "data": {
      "text/plain": [
       "dtype('float64')"
      ]
     },
     "execution_count": 17,
     "metadata": {},
     "output_type": "execute_result"
    }
   ],
   "source": [
    "a2.dtype"
   ]
  },
  {
   "cell_type": "code",
   "execution_count": 18,
   "metadata": {
    "collapsed": false
   },
   "outputs": [
    {
     "data": {
      "text/plain": [
       "array([0, 0, 0, 0, 0, 0, 0, 0, 0, 0])"
      ]
     },
     "execution_count": 18,
     "metadata": {},
     "output_type": "execute_result"
    }
   ],
   "source": [
    "a3 = np.array([0]*10)\n",
    "a3"
   ]
  },
  {
   "cell_type": "code",
   "execution_count": 19,
   "metadata": {
    "collapsed": false
   },
   "outputs": [
    {
     "data": {
      "text/plain": [
       "array([0, 1, 2, 3, 4, 5, 6, 7, 8, 9])"
      ]
     },
     "execution_count": 19,
     "metadata": {},
     "output_type": "execute_result"
    }
   ],
   "source": [
    "# convert a python range to numpy array\n",
    "np.array(range(10))"
   ]
  },
  {
   "cell_type": "code",
   "execution_count": 20,
   "metadata": {
    "collapsed": false
   },
   "outputs": [
    {
     "data": {
      "text/plain": [
       "array([ 0.,  0.,  0.,  0.,  0.,  0.,  0.,  0.,  0.,  0.])"
      ]
     },
     "execution_count": 20,
     "metadata": {},
     "output_type": "execute_result"
    }
   ],
   "source": [
    "# create a numpy array of 10 0.0's\n",
    "np.zeros(10)"
   ]
  },
  {
   "cell_type": "code",
   "execution_count": 21,
   "metadata": {
    "collapsed": false
   },
   "outputs": [
    {
     "data": {
      "text/plain": [
       "array([0, 0, 0, 0, 0, 0, 0, 0, 0, 0])"
      ]
     },
     "execution_count": 21,
     "metadata": {},
     "output_type": "execute_result"
    }
   ],
   "source": [
    "\n",
    "# force it to be of int instead of float64\n",
    "np.zeros(10, dtype=int)"
   ]
  },
  {
   "cell_type": "code",
   "execution_count": 22,
   "metadata": {
    "collapsed": false
   },
   "outputs": [
    {
     "data": {
      "text/plain": [
       "array([0, 1, 2, 3, 4, 5, 6, 7, 8, 9])"
      ]
     },
     "execution_count": 22,
     "metadata": {},
     "output_type": "execute_result"
    }
   ],
   "source": [
    "# make \"a range\" starting at 0 and with 10 values\n",
    "np.arange(0, 10)"
   ]
  },
  {
   "cell_type": "code",
   "execution_count": 23,
   "metadata": {
    "collapsed": false
   },
   "outputs": [
    {
     "data": {
      "text/plain": [
       "array([0, 2, 4, 6, 8])"
      ]
     },
     "execution_count": 23,
     "metadata": {},
     "output_type": "execute_result"
    }
   ],
   "source": [
    "# 0 <= x < 10 increment by two\n",
    "np.arange(0, 10, 2)"
   ]
  },
  {
   "cell_type": "code",
   "execution_count": 24,
   "metadata": {
    "collapsed": false
   },
   "outputs": [
    {
     "data": {
      "text/plain": [
       "array([10,  9,  8,  7,  6,  5,  4,  3,  2,  1])"
      ]
     },
     "execution_count": 24,
     "metadata": {},
     "output_type": "execute_result"
    }
   ],
   "source": [
    "# 10 >= x > 0, counting down\n",
    "np.arange(10, 0, -1)"
   ]
  },
  {
   "cell_type": "code",
   "execution_count": 25,
   "metadata": {
    "collapsed": false
   },
   "outputs": [
    {
     "data": {
      "text/plain": [
       "array([  0.,   1.,   2.,   3.,   4.,   5.,   6.,   7.,   8.,   9.,  10.])"
      ]
     },
     "execution_count": 25,
     "metadata": {},
     "output_type": "execute_result"
    }
   ],
   "source": [
    "# evenly spaced #'s between two intervals\n",
    "np.linspace(0, 10, 11)"
   ]
  },
  {
   "cell_type": "code",
   "execution_count": 26,
   "metadata": {
    "collapsed": false
   },
   "outputs": [
    {
     "data": {
      "text/plain": [
       "array([ 0,  2,  4,  6,  8, 10, 12, 14, 16, 18])"
      ]
     },
     "execution_count": 26,
     "metadata": {},
     "output_type": "execute_result"
    }
   ],
   "source": [
    "# multiply numpy array by 2\n",
    "a1 = np.arange(0, 10) \n",
    "a1 * 2"
   ]
  },
  {
   "cell_type": "code",
   "execution_count": 27,
   "metadata": {
    "collapsed": false
   },
   "outputs": [
    {
     "data": {
      "text/plain": [
       "array([10, 12, 14, 16, 18, 20, 22, 24, 26, 28])"
      ]
     },
     "execution_count": 27,
     "metadata": {},
     "output_type": "execute_result"
    }
   ],
   "source": [
    "# add two numpy arrays\n",
    "a2 = np.arange(10, 20) \n",
    "a1 + a2"
   ]
  },
  {
   "cell_type": "code",
   "execution_count": 28,
   "metadata": {
    "collapsed": false
   },
   "outputs": [
    {
     "data": {
      "text/plain": [
       "array([[1, 2],\n",
       "       [3, 4]])"
      ]
     },
     "execution_count": 28,
     "metadata": {},
     "output_type": "execute_result"
    }
   ],
   "source": [
    "# create a 2- array (2x2)\n",
    "np.array([[1,2], [3,4]])"
   ]
  },
  {
   "cell_type": "code",
   "execution_count": 29,
   "metadata": {
    "collapsed": false
   },
   "outputs": [
    {
     "data": {
      "text/plain": [
       "array([[ 0,  1,  2,  3],\n",
       "       [ 4,  5,  6,  7],\n",
       "       [ 8,  9, 10, 11],\n",
       "       [12, 13, 14, 15],\n",
       "       [16, 17, 18, 19]])"
      ]
     },
     "execution_count": 29,
     "metadata": {},
     "output_type": "execute_result"
    }
   ],
   "source": [
    "# create a 1x20 array, and reshape to a 5x4 2d-array\n",
    "m = np.arange(0, 20).reshape(5, 4)\n",
    "m "
   ]
  },
  {
   "cell_type": "code",
   "execution_count": 30,
   "metadata": {
    "collapsed": false
   },
   "outputs": [
    {
     "data": {
      "text/plain": [
       "20"
      ]
     },
     "execution_count": 30,
     "metadata": {},
     "output_type": "execute_result"
    }
   ],
   "source": [
    "\n",
    "# size of any dimensional array is the # of elements\n",
    "np.size(m)"
   ]
  },
  {
   "cell_type": "code",
   "execution_count": 32,
   "metadata": {
    "collapsed": false
   },
   "outputs": [
    {
     "data": {
      "text/plain": [
       "5"
      ]
     },
     "execution_count": 32,
     "metadata": {},
     "output_type": "execute_result"
    }
   ],
   "source": [
    "\n",
    "# can ask the size along a given axis (0 is rows)\n",
    "np.size(m, 0)"
   ]
  },
  {
   "cell_type": "code",
   "execution_count": 33,
   "metadata": {
    "collapsed": false
   },
   "outputs": [
    {
     "data": {
      "text/plain": [
       "4"
      ]
     },
     "execution_count": 33,
     "metadata": {},
     "output_type": "execute_result"
    }
   ],
   "source": [
    "\n",
    "# can ask the size along a given axis (0 is rows)\n",
    "np.size(m, 1)"
   ]
  },
  {
   "cell_type": "code",
   "execution_count": 34,
   "metadata": {
    "collapsed": false
   },
   "outputs": [
    {
     "data": {
      "text/plain": [
       "(0, 2)"
      ]
     },
     "execution_count": 34,
     "metadata": {},
     "output_type": "execute_result"
    }
   ],
   "source": [
    "# select 0-based elements 0 and 2\n",
    "a1[0], a1[2]"
   ]
  },
  {
   "cell_type": "code",
   "execution_count": 35,
   "metadata": {
    "collapsed": false
   },
   "outputs": [
    {
     "data": {
      "text/plain": [
       "6"
      ]
     },
     "execution_count": 35,
     "metadata": {},
     "output_type": "execute_result"
    }
   ],
   "source": [
    "# select an element in 2d array at row 1 column 2\n",
    "m[1, 2]"
   ]
  },
  {
   "cell_type": "code",
   "execution_count": 36,
   "metadata": {
    "collapsed": false
   },
   "outputs": [
    {
     "data": {
      "text/plain": [
       "array([4, 5, 6, 7])"
      ]
     },
     "execution_count": 36,
     "metadata": {},
     "output_type": "execute_result"
    }
   ],
   "source": [
    "# all items in row 1\n",
    "m[1,]"
   ]
  },
  {
   "cell_type": "code",
   "execution_count": 37,
   "metadata": {
    "collapsed": false
   },
   "outputs": [
    {
     "data": {
      "text/plain": [
       "array([ 2,  6, 10, 14, 18])"
      ]
     },
     "execution_count": 37,
     "metadata": {},
     "output_type": "execute_result"
    }
   ],
   "source": [
    "\n",
    "# all items in column 2\n",
    "m[:,2]"
   ]
  },
  {
   "cell_type": "code",
   "execution_count": 38,
   "metadata": {
    "collapsed": false
   },
   "outputs": [
    {
     "data": {
      "text/plain": [
       "array([ True,  True, False, False, False], dtype=bool)"
      ]
     },
     "execution_count": 38,
     "metadata": {},
     "output_type": "execute_result"
    }
   ],
   "source": [
    "# which items are less than 2?\n",
    "a = np.arange(5)\n",
    "a < 2"
   ]
  },
  {
   "cell_type": "code",
   "execution_count": 39,
   "metadata": {
    "collapsed": false
   },
   "outputs": [
    {
     "data": {
      "text/plain": [
       "array([ True,  True, False, False,  True], dtype=bool)"
      ]
     },
     "execution_count": 39,
     "metadata": {},
     "output_type": "execute_result"
    }
   ],
   "source": [
    "# less than 2 or greater than 3?\n",
    "(a<2) | (a>3)"
   ]
  },
  {
   "cell_type": "code",
   "execution_count": 40,
   "metadata": {
    "collapsed": false
   },
   "outputs": [
    {
     "data": {
      "text/plain": [
       "array([ True,  True,  True, False,  True], dtype=bool)"
      ]
     },
     "execution_count": 40,
     "metadata": {},
     "output_type": "execute_result"
    }
   ],
   "source": [
    "\n",
    "# create a function that is applied to all array elements\n",
    "def exp (x):\n",
    "    return x<3 or x>3\n",
    "# np.vectorize applies the method to all items in an array\n",
    "np.vectorize(exp)(a)"
   ]
  },
  {
   "cell_type": "code",
   "execution_count": 41,
   "metadata": {
    "collapsed": false
   },
   "outputs": [
    {
     "data": {
      "text/plain": [
       "array([0, 1, 2])"
      ]
     },
     "execution_count": 41,
     "metadata": {},
     "output_type": "execute_result"
    }
   ],
   "source": [
    "# boolean select items < 3\n",
    "r = a<3\n",
    "# applying the result of the expression to the [] operate\n",
    "# selects just the array elements where there is a matching True\n",
    "a[r]"
   ]
  },
  {
   "cell_type": "code",
   "execution_count": 42,
   "metadata": {
    "collapsed": false
   },
   "outputs": [
    {
     "data": {
      "text/plain": [
       "3"
      ]
     },
     "execution_count": 42,
     "metadata": {},
     "output_type": "execute_result"
    }
   ],
   "source": [
    "# np.sum treats True as 1 and False as 0\n",
    "# so this is how many items are less than 3\n",
    "np.sum(a < 3)"
   ]
  },
  {
   "cell_type": "code",
   "execution_count": 43,
   "metadata": {
    "collapsed": false
   },
   "outputs": [
    {
     "data": {
      "text/plain": [
       "array([ True,  True,  True, False, False], dtype=bool)"
      ]
     },
     "execution_count": 43,
     "metadata": {},
     "output_type": "execute_result"
    }
   ],
   "source": [
    "\n",
    "# This can be applied across two arrays\n",
    "a1 = np.arange(0, 5)\n",
    "a2 = np.arange(5, 0, -1)\n",
    "a1 < a2"
   ]
  },
  {
   "cell_type": "code",
   "execution_count": 44,
   "metadata": {
    "collapsed": false
   },
   "outputs": [
    {
     "data": {
      "text/plain": [
       "array([[ True,  True,  True],\n",
       "       [ True,  True, False],\n",
       "       [False, False, False]], dtype=bool)"
      ]
     },
     "execution_count": 44,
     "metadata": {},
     "output_type": "execute_result"
    }
   ],
   "source": [
    "# and even multi dimensional arrays\n",
    "a1 = np.arange(9).reshape(3, 3)\n",
    "a2 = np.arange(9, 0 , -1).reshape(3, 3)\n",
    "a1 < a2"
   ]
  },
  {
   "cell_type": "code",
   "execution_count": 45,
   "metadata": {
    "collapsed": false
   },
   "outputs": [
    {
     "data": {
      "text/plain": [
       "array([4, 5, 6, 7, 8])"
      ]
     },
     "execution_count": 45,
     "metadata": {},
     "output_type": "execute_result"
    }
   ],
   "source": [
    "\n",
    "# get all items in the array from position 3 \n",
    "# up to position 8 (but not inclusive)\n",
    "a1 = np.arange(1, 10)\n",
    "a1[3:8]"
   ]
  },
  {
   "cell_type": "code",
   "execution_count": 46,
   "metadata": {
    "collapsed": false
   },
   "outputs": [
    {
     "data": {
      "text/plain": [
       "array([1, 3, 5, 7, 9])"
      ]
     },
     "execution_count": 46,
     "metadata": {},
     "output_type": "execute_result"
    }
   ],
   "source": [
    "# every other item\n",
    "a1[::2]"
   ]
  },
  {
   "cell_type": "code",
   "execution_count": 47,
   "metadata": {
    "collapsed": false
   },
   "outputs": [
    {
     "data": {
      "text/plain": [
       "array([9, 8, 7, 6, 5, 4, 3, 2, 1])"
      ]
     },
     "execution_count": 47,
     "metadata": {},
     "output_type": "execute_result"
    }
   ],
   "source": [
    "# in reverse order\n",
    "a1[::-1]"
   ]
  },
  {
   "cell_type": "code",
   "execution_count": 48,
   "metadata": {
    "collapsed": false
   },
   "outputs": [
    {
     "data": {
      "text/plain": [
       "array([9, 8, 7, 6, 5, 4, 3, 2])"
      ]
     },
     "execution_count": 48,
     "metadata": {},
     "output_type": "execute_result"
    }
   ],
   "source": [
    "# note that when in reverse, this does not include\n",
    "# the element specified in the second component of the slice\n",
    "# ie: there is no 1 printed in this\n",
    "a1[9:0:-1]"
   ]
  },
  {
   "cell_type": "code",
   "execution_count": 49,
   "metadata": {
    "collapsed": false
   },
   "outputs": [
    {
     "data": {
      "text/plain": [
       "array([6, 7, 8, 9])"
      ]
     },
     "execution_count": 49,
     "metadata": {},
     "output_type": "execute_result"
    }
   ],
   "source": [
    "# all items from position 5 onwards\n",
    "a1[5:]"
   ]
  },
  {
   "cell_type": "code",
   "execution_count": 50,
   "metadata": {
    "collapsed": false
   },
   "outputs": [
    {
     "data": {
      "text/plain": [
       "array([1, 2, 3, 4, 5])"
      ]
     },
     "execution_count": 50,
     "metadata": {},
     "output_type": "execute_result"
    }
   ],
   "source": [
    "# the items in the first 5 positions\n",
    "a1[:5]"
   ]
  },
  {
   "cell_type": "code",
   "execution_count": 51,
   "metadata": {
    "collapsed": false
   },
   "outputs": [
    {
     "data": {
      "text/plain": [
       "array([ 1,  5,  9, 13, 17])"
      ]
     },
     "execution_count": 51,
     "metadata": {},
     "output_type": "execute_result"
    }
   ],
   "source": [
    "# we saw this earlier\n",
    "# : in rows specifier means all rows\n",
    "# so this gets items in column position 1, all rows\n",
    "m[:,1]"
   ]
  },
  {
   "cell_type": "code",
   "execution_count": 52,
   "metadata": {
    "collapsed": false
   },
   "outputs": [
    {
     "data": {
      "text/plain": [
       "array([[ 1,  2],\n",
       "       [ 5,  6],\n",
       "       [ 9, 10],\n",
       "       [13, 14],\n",
       "       [17, 18]])"
      ]
     },
     "execution_count": 52,
     "metadata": {},
     "output_type": "execute_result"
    }
   ],
   "source": [
    "# in all rows, but for all columns in positions \n",
    "# 1 up to but not including 3\n",
    "m[:,1:3]"
   ]
  },
  {
   "cell_type": "code",
   "execution_count": 53,
   "metadata": {
    "collapsed": false
   },
   "outputs": [
    {
     "data": {
      "text/plain": [
       "array([[12, 13, 14, 15],\n",
       "       [16, 17, 18, 19]])"
      ]
     },
     "execution_count": 53,
     "metadata": {},
     "output_type": "execute_result"
    }
   ],
   "source": [
    "# in row positions 3 up to but not including 5, all columns\n",
    "m[3:5,:]"
   ]
  },
  {
   "cell_type": "code",
   "execution_count": 54,
   "metadata": {
    "collapsed": false
   },
   "outputs": [
    {
     "data": {
      "text/plain": [
       "array([[13, 14],\n",
       "       [17, 18]])"
      ]
     },
     "execution_count": 54,
     "metadata": {},
     "output_type": "execute_result"
    }
   ],
   "source": [
    "\n",
    "# combined to pull out a sub matrix of the matrix\n",
    "m[3:5,1:3]"
   ]
  },
  {
   "cell_type": "code",
   "execution_count": 55,
   "metadata": {
    "collapsed": false
   },
   "outputs": [
    {
     "data": {
      "text/plain": [
       "array([[ 4,  5,  6,  7],\n",
       "       [12, 13, 14, 15],\n",
       "       [16, 17, 18, 19]])"
      ]
     },
     "execution_count": 55,
     "metadata": {},
     "output_type": "execute_result"
    }
   ],
   "source": [
    "# using a python array, we can select \n",
    "# non-contiguous rows or columns\n",
    "m[[1,3,4],:]"
   ]
  },
  {
   "cell_type": "code",
   "execution_count": 56,
   "metadata": {
    "collapsed": false
   },
   "outputs": [
    {
     "data": {
      "text/plain": [
       "array([[0, 1, 2],\n",
       "       [3, 4, 5],\n",
       "       [6, 7, 8]])"
      ]
     },
     "execution_count": 56,
     "metadata": {},
     "output_type": "execute_result"
    }
   ],
   "source": [
    "# create a 9 element array (1x9)\n",
    "a = np.arange(0, 9)\n",
    "# and reshape to a 3x3 2-d array\n",
    "m = a.reshape(3, 3)\n",
    "m"
   ]
  },
  {
   "cell_type": "code",
   "execution_count": 57,
   "metadata": {
    "collapsed": false
   },
   "outputs": [
    {
     "data": {
      "text/plain": [
       "array([0, 1, 2, 3, 4, 5, 6, 7, 8])"
      ]
     },
     "execution_count": 57,
     "metadata": {},
     "output_type": "execute_result"
    }
   ],
   "source": [
    "# and we can reshape downward in dimensions too\n",
    "reshaped = m.reshape(9)\n",
    "reshaped"
   ]
  },
  {
   "cell_type": "code",
   "execution_count": 58,
   "metadata": {
    "collapsed": false
   },
   "outputs": [
    {
     "data": {
      "text/plain": [
       "array([0, 1, 2, 3, 4, 5, 6, 7, 8])"
      ]
     },
     "execution_count": 58,
     "metadata": {},
     "output_type": "execute_result"
    }
   ],
   "source": [
    "# .ravel will array representing a flattened 2-d array\n",
    "raveled = m.ravel()\n",
    "raveled"
   ]
  },
  {
   "cell_type": "code",
   "execution_count": 59,
   "metadata": {
    "collapsed": false
   },
   "outputs": [
    {
     "data": {
      "text/plain": [
       "array([[0, 1, 2],\n",
       "       [3, 4, 5],\n",
       "       [6, 7, 8]])"
      ]
     },
     "execution_count": 59,
     "metadata": {},
     "output_type": "execute_result"
    }
   ],
   "source": [
    "\n",
    "# it does not alter the shape of the source\n",
    "m"
   ]
  },
  {
   "cell_type": "code",
   "execution_count": 60,
   "metadata": {
    "collapsed": false
   },
   "outputs": [
    {
     "data": {
      "text/plain": [
       "array([[   0,    1, 1000],\n",
       "       [   3,    4, 2000],\n",
       "       [   6,    7,    8]])"
      ]
     },
     "execution_count": 60,
     "metadata": {},
     "output_type": "execute_result"
    }
   ],
   "source": [
    "# but it will be a view into the source\n",
    "# so items changed in the result of the ravel\n",
    "# are changed in the original object\n",
    "# reshape m to an array\n",
    "reshaped = m.reshape(np.size(m))\n",
    "# ravel into an array\n",
    "raveled = m.ravel()\n",
    "# change values in either\n",
    "reshaped[2] = 1000\n",
    "raveled[5] = 2000\n",
    "# and they show as changed in the original\n",
    "m"
   ]
  },
  {
   "cell_type": "code",
   "execution_count": 61,
   "metadata": {
    "collapsed": false
   },
   "outputs": [
    {
     "data": {
      "text/plain": [
       "array([1000,    1,    2,    3,    4,    5,    6,    7,    8])"
      ]
     },
     "execution_count": 61,
     "metadata": {},
     "output_type": "execute_result"
    }
   ],
   "source": [
    "# flattened is like ravel, but a copy of the data, \n",
    "# not a view into the source\n",
    "m2 = np.arange(0, 9).reshape(3,3)\n",
    "flattened = m2.flatten()\n",
    "# change in the flattened object\n",
    "flattened[0] = 1000\n",
    "flattened"
   ]
  },
  {
   "cell_type": "code",
   "execution_count": 62,
   "metadata": {
    "collapsed": false
   },
   "outputs": [
    {
     "data": {
      "text/plain": [
       "array([[0, 1, 2],\n",
       "       [3, 4, 5],\n",
       "       [6, 7, 8]])"
      ]
     },
     "execution_count": 62,
     "metadata": {},
     "output_type": "execute_result"
    }
   ],
   "source": [
    "# but not in the original\n",
    "m2"
   ]
  },
  {
   "cell_type": "code",
   "execution_count": 63,
   "metadata": {
    "collapsed": false
   },
   "outputs": [
    {
     "data": {
      "text/plain": [
       "(9,)"
      ]
     },
     "execution_count": 63,
     "metadata": {},
     "output_type": "execute_result"
    }
   ],
   "source": [
    "\n",
    "# we can reshape by assigning  a tuple to the .shape property\n",
    "# we start with this, which has one dimension\n",
    "flattened.shape"
   ]
  },
  {
   "cell_type": "code",
   "execution_count": 64,
   "metadata": {
    "collapsed": false
   },
   "outputs": [
    {
     "data": {
      "text/plain": [
       "array([[1000,    1,    2],\n",
       "       [   3,    4,    5],\n",
       "       [   6,    7,    8]])"
      ]
     },
     "execution_count": 64,
     "metadata": {},
     "output_type": "execute_result"
    }
   ],
   "source": [
    "\n",
    "# and make it 3x3\n",
    "flattened.shape = (3, 3)\n",
    "# it is no longer flattened\n",
    "flattened"
   ]
  },
  {
   "cell_type": "code",
   "execution_count": 65,
   "metadata": {
    "collapsed": false
   },
   "outputs": [
    {
     "data": {
      "text/plain": [
       "array([[1000,    3,    6],\n",
       "       [   1,    4,    7],\n",
       "       [   2,    5,    8]])"
      ]
     },
     "execution_count": 65,
     "metadata": {},
     "output_type": "execute_result"
    }
   ],
   "source": [
    "\n",
    "# transpose a matrix\n",
    "flattened.transpose()"
   ]
  },
  {
   "cell_type": "code",
   "execution_count": 66,
   "metadata": {
    "collapsed": false
   },
   "outputs": [
    {
     "data": {
      "text/plain": [
       "array([[1000,    3,    6],\n",
       "       [   1,    4,    7],\n",
       "       [   2,    5,    8]])"
      ]
     },
     "execution_count": 66,
     "metadata": {},
     "output_type": "execute_result"
    }
   ],
   "source": [
    "# can also use .T property to transpose\n",
    "flattened.T"
   ]
  },
  {
   "cell_type": "code",
   "execution_count": 67,
   "metadata": {
    "collapsed": false
   },
   "outputs": [
    {
     "data": {
      "text/plain": [
       "array([[0, 1, 2, 3, 4, 5, 6, 7, 8]])"
      ]
     },
     "execution_count": 67,
     "metadata": {},
     "output_type": "execute_result"
    }
   ],
   "source": [
    "# we can also use .resize, which changes shape of\n",
    "# and object in-place\n",
    "m = np.arange(0, 9).reshape(3,3)\n",
    "m.resize(1, 9)\n",
    "m # my shape has changed"
   ]
  },
  {
   "cell_type": "code",
   "execution_count": 68,
   "metadata": {
    "collapsed": false
   },
   "outputs": [
    {
     "data": {
      "text/plain": [
       "array([[0, 1, 2],\n",
       "       [3, 4, 5],\n",
       "       [6, 7, 8]])"
      ]
     },
     "execution_count": 68,
     "metadata": {},
     "output_type": "execute_result"
    }
   ],
   "source": [
    "# creating two arrays for examples\n",
    "a = np.arange(9).reshape(3, 3)\n",
    "b = (a + 1) * 10\n",
    "a"
   ]
  },
  {
   "cell_type": "code",
   "execution_count": 69,
   "metadata": {
    "collapsed": false
   },
   "outputs": [
    {
     "data": {
      "text/plain": [
       "array([[10, 20, 30],\n",
       "       [40, 50, 60],\n",
       "       [70, 80, 90]])"
      ]
     },
     "execution_count": 69,
     "metadata": {},
     "output_type": "execute_result"
    }
   ],
   "source": [
    "b"
   ]
  },
  {
   "cell_type": "code",
   "execution_count": 70,
   "metadata": {
    "collapsed": false
   },
   "outputs": [
    {
     "data": {
      "text/plain": [
       "array([[ 0,  1,  2, 10, 20, 30],\n",
       "       [ 3,  4,  5, 40, 50, 60],\n",
       "       [ 6,  7,  8, 70, 80, 90]])"
      ]
     },
     "execution_count": 70,
     "metadata": {},
     "output_type": "execute_result"
    }
   ],
   "source": [
    "# horizontally stack the two arrays\n",
    "# b becomes columns of a to the right of a's columns\n",
    "np.hstack((a, b))"
   ]
  },
  {
   "cell_type": "code",
   "execution_count": 71,
   "metadata": {
    "collapsed": false
   },
   "outputs": [
    {
     "data": {
      "text/plain": [
       "array([[ 0,  1,  2, 10, 20, 30],\n",
       "       [ 3,  4,  5, 40, 50, 60],\n",
       "       [ 6,  7,  8, 70, 80, 90]])"
      ]
     },
     "execution_count": 71,
     "metadata": {},
     "output_type": "execute_result"
    }
   ],
   "source": [
    "# identical to concatenate along axis = 1\n",
    "np.concatenate((a, b), axis = 1)"
   ]
  },
  {
   "cell_type": "code",
   "execution_count": 72,
   "metadata": {
    "collapsed": false
   },
   "outputs": [
    {
     "data": {
      "text/plain": [
       "array([[ 0,  1,  2],\n",
       "       [ 3,  4,  5],\n",
       "       [ 6,  7,  8],\n",
       "       [10, 20, 30],\n",
       "       [40, 50, 60],\n",
       "       [70, 80, 90]])"
      ]
     },
     "execution_count": 72,
     "metadata": {},
     "output_type": "execute_result"
    }
   ],
   "source": [
    "# vertical stack, adding b as rows after a's rows\n",
    "np.vstack((a, b))"
   ]
  },
  {
   "cell_type": "code",
   "execution_count": 73,
   "metadata": {
    "collapsed": false
   },
   "outputs": [
    {
     "data": {
      "text/plain": [
       "array([[ 0,  1,  2],\n",
       "       [ 3,  4,  5],\n",
       "       [ 6,  7,  8],\n",
       "       [10, 20, 30],\n",
       "       [40, 50, 60],\n",
       "       [70, 80, 90]])"
      ]
     },
     "execution_count": 73,
     "metadata": {},
     "output_type": "execute_result"
    }
   ],
   "source": [
    "# concatenate along axis=0 is the same as vstack\n",
    "np.concatenate((a, b), axis = 0)"
   ]
  },
  {
   "cell_type": "code",
   "execution_count": 74,
   "metadata": {
    "collapsed": false
   },
   "outputs": [
    {
     "data": {
      "text/plain": [
       "array([[[ 0, 10],\n",
       "        [ 1, 20],\n",
       "        [ 2, 30]],\n",
       "\n",
       "       [[ 3, 40],\n",
       "        [ 4, 50],\n",
       "        [ 5, 60]],\n",
       "\n",
       "       [[ 6, 70],\n",
       "        [ 7, 80],\n",
       "        [ 8, 90]]])"
      ]
     },
     "execution_count": 74,
     "metadata": {},
     "output_type": "execute_result"
    }
   ],
   "source": [
    "# dstack stacks each independent column of a and b \n",
    "np.dstack((a, b))"
   ]
  },
  {
   "cell_type": "code",
   "execution_count": 75,
   "metadata": {
    "collapsed": false
   },
   "outputs": [
    {
     "data": {
      "text/plain": [
       "array([0, 1, 2, 3, 4])"
      ]
     },
     "execution_count": 75,
     "metadata": {},
     "output_type": "execute_result"
    }
   ],
   "source": [
    "# set up 1-d array \n",
    "one_d_a = np.arange(5)\n",
    "one_d_a"
   ]
  },
  {
   "cell_type": "code",
   "execution_count": 76,
   "metadata": {
    "collapsed": false
   },
   "outputs": [
    {
     "data": {
      "text/plain": [
       "array([10, 20, 30, 40, 50])"
      ]
     },
     "execution_count": 76,
     "metadata": {},
     "output_type": "execute_result"
    }
   ],
   "source": [
    "\n",
    "# another 1-d array\n",
    "one_d_b = (one_d_a + 1) * 10\n",
    "one_d_b"
   ]
  },
  {
   "cell_type": "code",
   "execution_count": 77,
   "metadata": {
    "collapsed": false
   },
   "outputs": [
    {
     "data": {
      "text/plain": [
       "array([[ 0, 10],\n",
       "       [ 1, 20],\n",
       "       [ 2, 30],\n",
       "       [ 3, 40],\n",
       "       [ 4, 50]])"
      ]
     },
     "execution_count": 77,
     "metadata": {},
     "output_type": "execute_result"
    }
   ],
   "source": [
    "# stack the two columns\n",
    "np.column_stack((one_d_a, one_d_b))"
   ]
  },
  {
   "cell_type": "code",
   "execution_count": 78,
   "metadata": {
    "collapsed": false
   },
   "outputs": [
    {
     "data": {
      "text/plain": [
       "array([[ 0,  1,  2,  3,  4],\n",
       "       [10, 20, 30, 40, 50]])"
      ]
     },
     "execution_count": 78,
     "metadata": {},
     "output_type": "execute_result"
    }
   ],
   "source": [
    "# stack along rows\n",
    "np.row_stack((one_d_a, one_d_b))"
   ]
  },
  {
   "cell_type": "code",
   "execution_count": 79,
   "metadata": {
    "collapsed": false
   },
   "outputs": [
    {
     "data": {
      "text/plain": [
       "array([[ 0,  1,  2,  3],\n",
       "       [ 4,  5,  6,  7],\n",
       "       [ 8,  9, 10, 11]])"
      ]
     },
     "execution_count": 79,
     "metadata": {},
     "output_type": "execute_result"
    }
   ],
   "source": [
    "# sample array\n",
    "a = np.arange(12).reshape(3, 4)\n",
    "a"
   ]
  },
  {
   "cell_type": "code",
   "execution_count": 80,
   "metadata": {
    "collapsed": false
   },
   "outputs": [
    {
     "data": {
      "text/plain": [
       "[array([[0],\n",
       "        [4],\n",
       "        [8]]), array([[1],\n",
       "        [5],\n",
       "        [9]]), array([[ 2],\n",
       "        [ 6],\n",
       "        [10]]), array([[ 3],\n",
       "        [ 7],\n",
       "        [11]])]"
      ]
     },
     "execution_count": 80,
     "metadata": {},
     "output_type": "execute_result"
    }
   ],
   "source": [
    "# horiz split the 2-d array into 4 array columns\n",
    "np.hsplit(a, 4)"
   ]
  },
  {
   "cell_type": "code",
   "execution_count": 81,
   "metadata": {
    "collapsed": false
   },
   "outputs": [
    {
     "data": {
      "text/plain": [
       "[array([[0, 1],\n",
       "        [4, 5],\n",
       "        [8, 9]]), array([[ 2,  3],\n",
       "        [ 6,  7],\n",
       "        [10, 11]])]"
      ]
     },
     "execution_count": 81,
     "metadata": {},
     "output_type": "execute_result"
    }
   ],
   "source": [
    "# horiz split into two array columns\n",
    "np.hsplit(a, 2)"
   ]
  },
  {
   "cell_type": "code",
   "execution_count": 82,
   "metadata": {
    "collapsed": false
   },
   "outputs": [
    {
     "data": {
      "text/plain": [
       "[array([[0],\n",
       "        [4],\n",
       "        [8]]), array([[ 1,  2],\n",
       "        [ 5,  6],\n",
       "        [ 9, 10]]), array([[ 3],\n",
       "        [ 7],\n",
       "        [11]])]"
      ]
     },
     "execution_count": 82,
     "metadata": {},
     "output_type": "execute_result"
    }
   ],
   "source": [
    "# split at columns 1 and 3\n",
    "np.hsplit(a, [1, 3])"
   ]
  },
  {
   "cell_type": "code",
   "execution_count": 83,
   "metadata": {
    "collapsed": false
   },
   "outputs": [
    {
     "data": {
      "text/plain": [
       "[array([[0, 1],\n",
       "        [4, 5],\n",
       "        [8, 9]]), array([[ 2,  3],\n",
       "        [ 6,  7],\n",
       "        [10, 11]])]"
      ]
     },
     "execution_count": 83,
     "metadata": {},
     "output_type": "execute_result"
    }
   ],
   "source": [
    "# along the rows\n",
    "np.split(a, 2, axis = 1)"
   ]
  },
  {
   "cell_type": "code",
   "execution_count": 84,
   "metadata": {
    "collapsed": false
   },
   "outputs": [
    {
     "data": {
      "text/plain": [
       "array([[ 0,  1,  2],\n",
       "       [ 3,  4,  5],\n",
       "       [ 6,  7,  8],\n",
       "       [ 9, 10, 11]])"
      ]
     },
     "execution_count": 84,
     "metadata": {},
     "output_type": "execute_result"
    }
   ],
   "source": [
    "# new array for examples\n",
    "a = np.arange(12).reshape(4, 3)\n",
    "a"
   ]
  },
  {
   "cell_type": "code",
   "execution_count": 85,
   "metadata": {
    "collapsed": false
   },
   "outputs": [
    {
     "data": {
      "text/plain": [
       "[array([[0, 1, 2]]),\n",
       " array([[3, 4, 5]]),\n",
       " array([[6, 7, 8]]),\n",
       " array([[ 9, 10, 11]])]"
      ]
     },
     "execution_count": 85,
     "metadata": {},
     "output_type": "execute_result"
    }
   ],
   "source": [
    "# split into four rows of arrays\n",
    "np.vsplit(a, 4)"
   ]
  },
  {
   "cell_type": "code",
   "execution_count": 86,
   "metadata": {
    "collapsed": false
   },
   "outputs": [
    {
     "data": {
      "text/plain": [
       "[array([[0, 1, 2],\n",
       "        [3, 4, 5]]), array([[ 6,  7,  8],\n",
       "        [ 9, 10, 11]])]"
      ]
     },
     "execution_count": 86,
     "metadata": {},
     "output_type": "execute_result"
    }
   ],
   "source": [
    "# into two rows of arrays\n",
    "np.vsplit(a, 2)"
   ]
  },
  {
   "cell_type": "code",
   "execution_count": 87,
   "metadata": {
    "collapsed": false
   },
   "outputs": [
    {
     "data": {
      "text/plain": [
       "[array([[0, 1, 2]]), array([[3, 4, 5],\n",
       "        [6, 7, 8]]), array([[ 9, 10, 11]])]"
      ]
     },
     "execution_count": 87,
     "metadata": {},
     "output_type": "execute_result"
    }
   ],
   "source": [
    "# split along axis=0\n",
    "# row 0 of original is row 0 of new array\n",
    "# rows 1 and 2 of original are row 1\n",
    "np.vsplit(a, [1, 3])"
   ]
  },
  {
   "cell_type": "code",
   "execution_count": 88,
   "metadata": {
    "collapsed": false
   },
   "outputs": [
    {
     "data": {
      "text/plain": [
       "[array([[0, 1, 2],\n",
       "        [3, 4, 5]]), array([[ 6,  7,  8],\n",
       "        [ 9, 10, 11]])]"
      ]
     },
     "execution_count": 88,
     "metadata": {},
     "output_type": "execute_result"
    }
   ],
   "source": [
    "# split can specify axis\n",
    "np.split(a, 2, axis = 0)"
   ]
  },
  {
   "cell_type": "code",
   "execution_count": 89,
   "metadata": {
    "collapsed": false
   },
   "outputs": [
    {
     "data": {
      "text/plain": [
       "array([[[ 0,  1,  2],\n",
       "        [ 3,  4,  5],\n",
       "        [ 6,  7,  8]],\n",
       "\n",
       "       [[ 9, 10, 11],\n",
       "        [12, 13, 14],\n",
       "        [15, 16, 17]],\n",
       "\n",
       "       [[18, 19, 20],\n",
       "        [21, 22, 23],\n",
       "        [24, 25, 26]]])"
      ]
     },
     "execution_count": 89,
     "metadata": {},
     "output_type": "execute_result"
    }
   ],
   "source": [
    "\n",
    "# 3-d array\n",
    "c = np.arange(27).reshape(3, 3, 3)\n",
    "c"
   ]
  },
  {
   "cell_type": "code",
   "execution_count": 90,
   "metadata": {
    "collapsed": false
   },
   "outputs": [
    {
     "data": {
      "text/plain": [
       "[array([[[ 0],\n",
       "         [ 3],\n",
       "         [ 6]],\n",
       " \n",
       "        [[ 9],\n",
       "         [12],\n",
       "         [15]],\n",
       " \n",
       "        [[18],\n",
       "         [21],\n",
       "         [24]]]), array([[[ 1],\n",
       "         [ 4],\n",
       "         [ 7]],\n",
       " \n",
       "        [[10],\n",
       "         [13],\n",
       "         [16]],\n",
       " \n",
       "        [[19],\n",
       "         [22],\n",
       "         [25]]]), array([[[ 2],\n",
       "         [ 5],\n",
       "         [ 8]],\n",
       " \n",
       "        [[11],\n",
       "         [14],\n",
       "         [17]],\n",
       " \n",
       "        [[20],\n",
       "         [23],\n",
       "         [26]]])]"
      ]
     },
     "execution_count": 90,
     "metadata": {},
     "output_type": "execute_result"
    }
   ],
   "source": [
    "\n",
    "# split into 3 \n",
    "np.dsplit(c, 3)"
   ]
  },
  {
   "cell_type": "code",
   "execution_count": 91,
   "metadata": {
    "collapsed": false
   },
   "outputs": [
    {
     "name": "stdout",
     "output_type": "stream",
     "text": [
      "[[ 0  1  2]\n",
      " [ 3  4  5]\n",
      " [ 6  7  8]\n",
      " [ 9 10 11]]\n",
      "10 min of the entire matrix\n",
      "18 max of entire matrix\n",
      "0 position of the min value\n",
      "8 position of the max value\n",
      "[10 11 12] mins down each column\n",
      "[10 13 16] mins across each row\n",
      "[16 17 18] maxs down each column\n",
      "[12 15 18] maxs across each row\n"
     ]
    }
   ],
   "source": [
    "# demonstrate some of the properties of NumPy arrays\n",
    "m = np.arange(10, 19).reshape(3, 3)\n",
    "print (a)\n",
    "print (\"{0} min of the entire matrix\".format(m.min()))\n",
    "print (\"{0} max of entire matrix\".format(m.max()))\n",
    "print (\"{0} position of the min value\".format(m.argmin()))\n",
    "print (\"{0} position of the max value\".format(m.argmax()))\n",
    "print (\"{0} mins down each column\".format(m.min(axis = 0)))\n",
    "print (\"{0} mins across each row\".format(m.min(axis = 1)))\n",
    "print (\"{0} maxs down each column\".format(m.max(axis = 0)))\n",
    "print (\"{0} maxs across each row\".format(m.max(axis = 1)))"
   ]
  },
  {
   "cell_type": "code",
   "execution_count": 92,
   "metadata": {
    "collapsed": false
   },
   "outputs": [
    {
     "data": {
      "text/plain": [
       "array([0, 1, 2, 3, 4, 5, 6, 7, 8, 9])"
      ]
     },
     "execution_count": 92,
     "metadata": {},
     "output_type": "execute_result"
    }
   ],
   "source": [
    "# demonstrate included statistical methods\n",
    "a = np.arange(10)\n",
    "a"
   ]
  },
  {
   "cell_type": "code",
   "execution_count": 93,
   "metadata": {
    "collapsed": false
   },
   "outputs": [
    {
     "data": {
      "text/plain": [
       "(4.5, 2.8722813232690143, 8.25)"
      ]
     },
     "execution_count": 93,
     "metadata": {},
     "output_type": "execute_result"
    }
   ],
   "source": [
    "a.mean(), a.std(), a.var()"
   ]
  },
  {
   "cell_type": "code",
   "execution_count": 94,
   "metadata": {
    "collapsed": false
   },
   "outputs": [
    {
     "data": {
      "text/plain": [
       "array([1, 2, 3, 4, 5])"
      ]
     },
     "execution_count": 94,
     "metadata": {},
     "output_type": "execute_result"
    }
   ],
   "source": [
    "\n",
    "# demonstrate sum and prod\n",
    "a = np.arange(1, 6)\n",
    "a"
   ]
  },
  {
   "cell_type": "code",
   "execution_count": 95,
   "metadata": {
    "collapsed": false
   },
   "outputs": [
    {
     "data": {
      "text/plain": [
       "(15, 120)"
      ]
     },
     "execution_count": 95,
     "metadata": {},
     "output_type": "execute_result"
    }
   ],
   "source": [
    "a.sum(), a.prod()"
   ]
  },
  {
   "cell_type": "code",
   "execution_count": 96,
   "metadata": {
    "collapsed": false
   },
   "outputs": [
    {
     "data": {
      "text/plain": [
       "(array([ 1,  3,  6, 10, 15], dtype=int32),\n",
       " array([  1,   2,   6,  24, 120], dtype=int32))"
      ]
     },
     "execution_count": 96,
     "metadata": {},
     "output_type": "execute_result"
    }
   ],
   "source": [
    "# and cumulative sum and prod\n",
    "a.cumsum(), a.cumprod()"
   ]
  },
  {
   "cell_type": "code",
   "execution_count": 97,
   "metadata": {
    "collapsed": false
   },
   "outputs": [
    {
     "data": {
      "text/plain": [
       "True"
      ]
     },
     "execution_count": 97,
     "metadata": {},
     "output_type": "execute_result"
    }
   ],
   "source": [
    "\n",
    "# applying logical operators\n",
    "a = np.arange(10)\n",
    "(a < 5).any() # any < 5?"
   ]
  },
  {
   "cell_type": "code",
   "execution_count": 98,
   "metadata": {
    "collapsed": false
   },
   "outputs": [
    {
     "data": {
      "text/plain": [
       "False"
      ]
     },
     "execution_count": 98,
     "metadata": {},
     "output_type": "execute_result"
    }
   ],
   "source": [
    "(a < 5).all() # all < 5?"
   ]
  },
  {
   "cell_type": "code",
   "execution_count": 99,
   "metadata": {
    "collapsed": false
   },
   "outputs": [
    {
     "data": {
      "text/plain": [
       "10"
      ]
     },
     "execution_count": 99,
     "metadata": {},
     "output_type": "execute_result"
    }
   ],
   "source": [
    "# size is always the total number of elements\n",
    "np.arange(10).reshape(2, 5).size"
   ]
  },
  {
   "cell_type": "code",
   "execution_count": 100,
   "metadata": {
    "collapsed": false
   },
   "outputs": [
    {
     "data": {
      "text/plain": [
       "2"
      ]
     },
     "execution_count": 100,
     "metadata": {},
     "output_type": "execute_result"
    }
   ],
   "source": [
    "# .ndim will with you the total # of dimensions\n",
    "np.arange(10).reshape(2,5).ndim"
   ]
  },
  {
   "cell_type": "code",
   "execution_count": 177,
   "metadata": {
    "collapsed": false
   },
   "outputs": [],
   "source": [
    "import pandas as pd\n",
    "import numpy as np\n",
    "import matplotlib.pyplot as plt\n",
    "%matplotlib inline"
   ]
  },
  {
   "cell_type": "code",
   "execution_count": 178,
   "metadata": {
    "collapsed": false
   },
   "outputs": [
    {
     "data": {
      "text/html": [
       "<div style=\"max-height:1000px;max-width:1500px;overflow:auto;\">\n",
       "<table border=\"1\" class=\"dataframe\">\n",
       "  <thead>\n",
       "    <tr style=\"text-align: right;\">\n",
       "      <th></th>\n",
       "      <th>BRTH_YR</th>\n",
       "      <th>GNDR</th>\n",
       "      <th>ETHCTY</th>\n",
       "      <th>NM</th>\n",
       "      <th>CNT</th>\n",
       "      <th>RNK</th>\n",
       "    </tr>\n",
       "  </thead>\n",
       "  <tbody>\n",
       "    <tr>\n",
       "      <th>0</th>\n",
       "      <td> 2011</td>\n",
       "      <td> FEMALE</td>\n",
       "      <td> ASIAN AND PACIFIC ISLANDER</td>\n",
       "      <td> ABIGAIL</td>\n",
       "      <td> 24</td>\n",
       "      <td> 24</td>\n",
       "    </tr>\n",
       "    <tr>\n",
       "      <th>1</th>\n",
       "      <td> 2011</td>\n",
       "      <td> FEMALE</td>\n",
       "      <td> ASIAN AND PACIFIC ISLANDER</td>\n",
       "      <td> ABIGAIL</td>\n",
       "      <td> 24</td>\n",
       "      <td> 24</td>\n",
       "    </tr>\n",
       "    <tr>\n",
       "      <th>2</th>\n",
       "      <td> 2011</td>\n",
       "      <td> FEMALE</td>\n",
       "      <td> ASIAN AND PACIFIC ISLANDER</td>\n",
       "      <td> ABIGAIL</td>\n",
       "      <td> 24</td>\n",
       "      <td> 24</td>\n",
       "    </tr>\n",
       "    <tr>\n",
       "      <th>3</th>\n",
       "      <td> 2011</td>\n",
       "      <td> FEMALE</td>\n",
       "      <td> ASIAN AND PACIFIC ISLANDER</td>\n",
       "      <td>     ADA</td>\n",
       "      <td> 13</td>\n",
       "      <td> 35</td>\n",
       "    </tr>\n",
       "    <tr>\n",
       "      <th>4</th>\n",
       "      <td> 2011</td>\n",
       "      <td> FEMALE</td>\n",
       "      <td> ASIAN AND PACIFIC ISLANDER</td>\n",
       "      <td>     ADA</td>\n",
       "      <td> 13</td>\n",
       "      <td> 35</td>\n",
       "    </tr>\n",
       "  </tbody>\n",
       "</table>\n",
       "</div>"
      ],
      "text/plain": [
       "   BRTH_YR    GNDR                      ETHCTY       NM  CNT  RNK\n",
       "0     2011  FEMALE  ASIAN AND PACIFIC ISLANDER  ABIGAIL   24   24\n",
       "1     2011  FEMALE  ASIAN AND PACIFIC ISLANDER  ABIGAIL   24   24\n",
       "2     2011  FEMALE  ASIAN AND PACIFIC ISLANDER  ABIGAIL   24   24\n",
       "3     2011  FEMALE  ASIAN AND PACIFIC ISLANDER      ADA   13   35\n",
       "4     2011  FEMALE  ASIAN AND PACIFIC ISLANDER      ADA   13   35"
      ]
     },
     "execution_count": 178,
     "metadata": {},
     "output_type": "execute_result"
    }
   ],
   "source": [
    "df = pd.read_csv('data/Most_Popular_Baby_Names_by_Sex_and_Mother_s_Ethnic_Group__New_York_City.csv', parse_dates='BRTH_YR')\n",
    "df.head()"
   ]
  },
  {
   "cell_type": "code",
   "execution_count": 179,
   "metadata": {
    "collapsed": true
   },
   "outputs": [],
   "source": [
    "df['BRTH_YR'] = pd.to_datetime(df['BRTH_YR'], format='%Y')"
   ]
  },
  {
   "cell_type": "code",
   "execution_count": 180,
   "metadata": {
    "collapsed": false
   },
   "outputs": [
    {
     "data": {
      "text/html": [
       "<div style=\"max-height:1000px;max-width:1500px;overflow:auto;\">\n",
       "<table border=\"1\" class=\"dataframe\">\n",
       "  <thead>\n",
       "    <tr style=\"text-align: right;\">\n",
       "      <th></th>\n",
       "      <th>BRTH_YR</th>\n",
       "      <th>GNDR</th>\n",
       "      <th>ETHCTY</th>\n",
       "      <th>NM</th>\n",
       "      <th>CNT</th>\n",
       "      <th>RNK</th>\n",
       "    </tr>\n",
       "  </thead>\n",
       "  <tbody>\n",
       "    <tr>\n",
       "      <th>0</th>\n",
       "      <td>2011-01-01</td>\n",
       "      <td> FEMALE</td>\n",
       "      <td> ASIAN AND PACIFIC ISLANDER</td>\n",
       "      <td> ABIGAIL</td>\n",
       "      <td> 24</td>\n",
       "      <td> 24</td>\n",
       "    </tr>\n",
       "    <tr>\n",
       "      <th>1</th>\n",
       "      <td>2011-01-01</td>\n",
       "      <td> FEMALE</td>\n",
       "      <td> ASIAN AND PACIFIC ISLANDER</td>\n",
       "      <td> ABIGAIL</td>\n",
       "      <td> 24</td>\n",
       "      <td> 24</td>\n",
       "    </tr>\n",
       "    <tr>\n",
       "      <th>2</th>\n",
       "      <td>2011-01-01</td>\n",
       "      <td> FEMALE</td>\n",
       "      <td> ASIAN AND PACIFIC ISLANDER</td>\n",
       "      <td> ABIGAIL</td>\n",
       "      <td> 24</td>\n",
       "      <td> 24</td>\n",
       "    </tr>\n",
       "    <tr>\n",
       "      <th>3</th>\n",
       "      <td>2011-01-01</td>\n",
       "      <td> FEMALE</td>\n",
       "      <td> ASIAN AND PACIFIC ISLANDER</td>\n",
       "      <td>     ADA</td>\n",
       "      <td> 13</td>\n",
       "      <td> 35</td>\n",
       "    </tr>\n",
       "    <tr>\n",
       "      <th>4</th>\n",
       "      <td>2011-01-01</td>\n",
       "      <td> FEMALE</td>\n",
       "      <td> ASIAN AND PACIFIC ISLANDER</td>\n",
       "      <td>     ADA</td>\n",
       "      <td> 13</td>\n",
       "      <td> 35</td>\n",
       "    </tr>\n",
       "  </tbody>\n",
       "</table>\n",
       "</div>"
      ],
      "text/plain": [
       "     BRTH_YR    GNDR                      ETHCTY       NM  CNT  RNK\n",
       "0 2011-01-01  FEMALE  ASIAN AND PACIFIC ISLANDER  ABIGAIL   24   24\n",
       "1 2011-01-01  FEMALE  ASIAN AND PACIFIC ISLANDER  ABIGAIL   24   24\n",
       "2 2011-01-01  FEMALE  ASIAN AND PACIFIC ISLANDER  ABIGAIL   24   24\n",
       "3 2011-01-01  FEMALE  ASIAN AND PACIFIC ISLANDER      ADA   13   35\n",
       "4 2011-01-01  FEMALE  ASIAN AND PACIFIC ISLANDER      ADA   13   35"
      ]
     },
     "execution_count": 180,
     "metadata": {},
     "output_type": "execute_result"
    }
   ],
   "source": [
    "df.head()"
   ]
  },
  {
   "cell_type": "code",
   "execution_count": 181,
   "metadata": {
    "collapsed": false
   },
   "outputs": [
    {
     "data": {
      "text/plain": [
       "BRTH_YR    datetime64[ns]\n",
       "GNDR               object\n",
       "ETHCTY             object\n",
       "NM                 object\n",
       "CNT                 int64\n",
       "RNK                 int64\n",
       "dtype: object"
      ]
     },
     "execution_count": 181,
     "metadata": {},
     "output_type": "execute_result"
    }
   ],
   "source": [
    "df.dtypes"
   ]
  },
  {
   "cell_type": "code",
   "execution_count": 182,
   "metadata": {
    "collapsed": false
   },
   "outputs": [],
   "source": [
    "no_dupes = df.drop_duplicates()"
   ]
  },
  {
   "cell_type": "code",
   "execution_count": 183,
   "metadata": {
    "collapsed": false
   },
   "outputs": [
    {
     "data": {
      "text/html": [
       "<div style=\"max-height:1000px;max-width:1500px;overflow:auto;\">\n",
       "<table border=\"1\" class=\"dataframe\">\n",
       "  <thead>\n",
       "    <tr style=\"text-align: right;\">\n",
       "      <th></th>\n",
       "      <th>BRTH_YR</th>\n",
       "      <th>GNDR</th>\n",
       "      <th>ETHCTY</th>\n",
       "      <th>NM</th>\n",
       "      <th>CNT</th>\n",
       "      <th>RNK</th>\n",
       "    </tr>\n",
       "  </thead>\n",
       "  <tbody>\n",
       "    <tr>\n",
       "      <th>0 </th>\n",
       "      <td>2011-01-01</td>\n",
       "      <td> FEMALE</td>\n",
       "      <td> ASIAN AND PACIFIC ISLANDER</td>\n",
       "      <td> ABIGAIL</td>\n",
       "      <td> 24</td>\n",
       "      <td> 24</td>\n",
       "    </tr>\n",
       "    <tr>\n",
       "      <th>3 </th>\n",
       "      <td>2011-01-01</td>\n",
       "      <td> FEMALE</td>\n",
       "      <td> ASIAN AND PACIFIC ISLANDER</td>\n",
       "      <td>     ADA</td>\n",
       "      <td> 13</td>\n",
       "      <td> 35</td>\n",
       "    </tr>\n",
       "    <tr>\n",
       "      <th>6 </th>\n",
       "      <td>2011-01-01</td>\n",
       "      <td> FEMALE</td>\n",
       "      <td> ASIAN AND PACIFIC ISLANDER</td>\n",
       "      <td>   AISHA</td>\n",
       "      <td> 13</td>\n",
       "      <td> 35</td>\n",
       "    </tr>\n",
       "    <tr>\n",
       "      <th>9 </th>\n",
       "      <td>2011-01-01</td>\n",
       "      <td> FEMALE</td>\n",
       "      <td> ASIAN AND PACIFIC ISLANDER</td>\n",
       "      <td>    AIZA</td>\n",
       "      <td> 10</td>\n",
       "      <td> 38</td>\n",
       "    </tr>\n",
       "    <tr>\n",
       "      <th>12</th>\n",
       "      <td>2011-01-01</td>\n",
       "      <td> FEMALE</td>\n",
       "      <td> ASIAN AND PACIFIC ISLANDER</td>\n",
       "      <td>  ALEENA</td>\n",
       "      <td> 12</td>\n",
       "      <td> 36</td>\n",
       "    </tr>\n",
       "  </tbody>\n",
       "</table>\n",
       "</div>"
      ],
      "text/plain": [
       "      BRTH_YR    GNDR                      ETHCTY       NM  CNT  RNK\n",
       "0  2011-01-01  FEMALE  ASIAN AND PACIFIC ISLANDER  ABIGAIL   24   24\n",
       "3  2011-01-01  FEMALE  ASIAN AND PACIFIC ISLANDER      ADA   13   35\n",
       "6  2011-01-01  FEMALE  ASIAN AND PACIFIC ISLANDER    AISHA   13   35\n",
       "9  2011-01-01  FEMALE  ASIAN AND PACIFIC ISLANDER     AIZA   10   38\n",
       "12 2011-01-01  FEMALE  ASIAN AND PACIFIC ISLANDER   ALEENA   12   36"
      ]
     },
     "execution_count": 183,
     "metadata": {},
     "output_type": "execute_result"
    }
   ],
   "source": [
    "no_dupes.head()"
   ]
  },
  {
   "cell_type": "code",
   "execution_count": 184,
   "metadata": {
    "collapsed": false
   },
   "outputs": [
    {
     "data": {
      "text/html": [
       "<div style=\"max-height:1000px;max-width:1500px;overflow:auto;\">\n",
       "<table border=\"1\" class=\"dataframe\">\n",
       "  <thead>\n",
       "    <tr>\n",
       "      <th></th>\n",
       "      <th colspan=\"4\" halign=\"left\">CNT</th>\n",
       "      <th colspan=\"4\" halign=\"left\">RNK</th>\n",
       "    </tr>\n",
       "    <tr>\n",
       "      <th>ETHCTY</th>\n",
       "      <th>ASIAN AND PACIFIC ISLANDER</th>\n",
       "      <th>BLACK NON HISPANIC</th>\n",
       "      <th>HISPANIC</th>\n",
       "      <th>WHITE NON HISPANIC</th>\n",
       "      <th>ASIAN AND PACIFIC ISLANDER</th>\n",
       "      <th>BLACK NON HISPANIC</th>\n",
       "      <th>HISPANIC</th>\n",
       "      <th>WHITE NON HISPANIC</th>\n",
       "    </tr>\n",
       "    <tr>\n",
       "      <th>NM</th>\n",
       "      <th></th>\n",
       "      <th></th>\n",
       "      <th></th>\n",
       "      <th></th>\n",
       "      <th></th>\n",
       "      <th></th>\n",
       "      <th></th>\n",
       "      <th></th>\n",
       "    </tr>\n",
       "  </thead>\n",
       "  <tbody>\n",
       "    <tr>\n",
       "      <th>AALIYAH</th>\n",
       "      <td>  0</td>\n",
       "      <td> 69</td>\n",
       "      <td>  63</td>\n",
       "      <td>   0</td>\n",
       "      <td>  0</td>\n",
       "      <td>  5</td>\n",
       "      <td> 30</td>\n",
       "      <td>  0</td>\n",
       "    </tr>\n",
       "    <tr>\n",
       "      <th>AARAV</th>\n",
       "      <td> 15</td>\n",
       "      <td>  0</td>\n",
       "      <td>   0</td>\n",
       "      <td>   0</td>\n",
       "      <td> 51</td>\n",
       "      <td>  0</td>\n",
       "      <td>  0</td>\n",
       "      <td>  0</td>\n",
       "    </tr>\n",
       "    <tr>\n",
       "      <th>AARON</th>\n",
       "      <td> 51</td>\n",
       "      <td> 53</td>\n",
       "      <td> 102</td>\n",
       "      <td>  67</td>\n",
       "      <td> 19</td>\n",
       "      <td> 28</td>\n",
       "      <td> 33</td>\n",
       "      <td> 49</td>\n",
       "    </tr>\n",
       "    <tr>\n",
       "      <th>ABBY</th>\n",
       "      <td>  0</td>\n",
       "      <td>  0</td>\n",
       "      <td>  10</td>\n",
       "      <td>   0</td>\n",
       "      <td>  0</td>\n",
       "      <td>  0</td>\n",
       "      <td> 78</td>\n",
       "      <td>  0</td>\n",
       "    </tr>\n",
       "    <tr>\n",
       "      <th>ABDIEL</th>\n",
       "      <td>  0</td>\n",
       "      <td>  0</td>\n",
       "      <td>  12</td>\n",
       "      <td>   0</td>\n",
       "      <td>  0</td>\n",
       "      <td>  0</td>\n",
       "      <td> 92</td>\n",
       "      <td>  0</td>\n",
       "    </tr>\n",
       "    <tr>\n",
       "      <th>ABDOUL</th>\n",
       "      <td>  0</td>\n",
       "      <td> 16</td>\n",
       "      <td>   0</td>\n",
       "      <td>   0</td>\n",
       "      <td>  0</td>\n",
       "      <td> 58</td>\n",
       "      <td>  0</td>\n",
       "      <td>  0</td>\n",
       "    </tr>\n",
       "    <tr>\n",
       "      <th>ABDOULAYE</th>\n",
       "      <td>  0</td>\n",
       "      <td> 13</td>\n",
       "      <td>   0</td>\n",
       "      <td>   0</td>\n",
       "      <td>  0</td>\n",
       "      <td> 61</td>\n",
       "      <td>  0</td>\n",
       "      <td>  0</td>\n",
       "    </tr>\n",
       "    <tr>\n",
       "      <th>ABDUL</th>\n",
       "      <td> 20</td>\n",
       "      <td>  0</td>\n",
       "      <td>   0</td>\n",
       "      <td>   0</td>\n",
       "      <td> 46</td>\n",
       "      <td>  0</td>\n",
       "      <td>  0</td>\n",
       "      <td>  0</td>\n",
       "    </tr>\n",
       "    <tr>\n",
       "      <th>ABDULLAH</th>\n",
       "      <td> 30</td>\n",
       "      <td>  0</td>\n",
       "      <td>   0</td>\n",
       "      <td>   0</td>\n",
       "      <td> 36</td>\n",
       "      <td>  0</td>\n",
       "      <td>  0</td>\n",
       "      <td>  0</td>\n",
       "    </tr>\n",
       "    <tr>\n",
       "      <th>ABEL</th>\n",
       "      <td>  0</td>\n",
       "      <td>  0</td>\n",
       "      <td>  14</td>\n",
       "      <td>   0</td>\n",
       "      <td>  0</td>\n",
       "      <td>  0</td>\n",
       "      <td> 90</td>\n",
       "      <td>  0</td>\n",
       "    </tr>\n",
       "    <tr>\n",
       "      <th>ABIGAIL</th>\n",
       "      <td> 24</td>\n",
       "      <td> 51</td>\n",
       "      <td>  80</td>\n",
       "      <td> 103</td>\n",
       "      <td> 24</td>\n",
       "      <td> 11</td>\n",
       "      <td> 21</td>\n",
       "      <td> 19</td>\n",
       "    </tr>\n",
       "    <tr>\n",
       "      <th>ABRAHAM</th>\n",
       "      <td>  0</td>\n",
       "      <td>  0</td>\n",
       "      <td>  22</td>\n",
       "      <td> 172</td>\n",
       "      <td>  0</td>\n",
       "      <td>  0</td>\n",
       "      <td> 82</td>\n",
       "      <td> 12</td>\n",
       "    </tr>\n",
       "    <tr>\n",
       "      <th>ADA</th>\n",
       "      <td> 13</td>\n",
       "      <td>  0</td>\n",
       "      <td>   0</td>\n",
       "      <td>   0</td>\n",
       "      <td> 35</td>\n",
       "      <td>  0</td>\n",
       "      <td>  0</td>\n",
       "      <td>  0</td>\n",
       "    </tr>\n",
       "    <tr>\n",
       "      <th>ADAM</th>\n",
       "      <td> 28</td>\n",
       "      <td> 28</td>\n",
       "      <td>  32</td>\n",
       "      <td> 129</td>\n",
       "      <td> 38</td>\n",
       "      <td> 46</td>\n",
       "      <td> 72</td>\n",
       "      <td> 21</td>\n",
       "    </tr>\n",
       "    <tr>\n",
       "      <th>ADDISON</th>\n",
       "      <td>  0</td>\n",
       "      <td> 13</td>\n",
       "      <td>   0</td>\n",
       "      <td>  19</td>\n",
       "      <td>  0</td>\n",
       "      <td> 42</td>\n",
       "      <td>  0</td>\n",
       "      <td> 72</td>\n",
       "    </tr>\n",
       "    <tr>\n",
       "      <th>ADELE</th>\n",
       "      <td>  0</td>\n",
       "      <td>  0</td>\n",
       "      <td>   0</td>\n",
       "      <td>  22</td>\n",
       "      <td>  0</td>\n",
       "      <td>  0</td>\n",
       "      <td>  0</td>\n",
       "      <td> 69</td>\n",
       "    </tr>\n",
       "    <tr>\n",
       "      <th>ADELINE</th>\n",
       "      <td>  0</td>\n",
       "      <td>  0</td>\n",
       "      <td>   0</td>\n",
       "      <td>  12</td>\n",
       "      <td>  0</td>\n",
       "      <td>  0</td>\n",
       "      <td>  0</td>\n",
       "      <td> 79</td>\n",
       "    </tr>\n",
       "    <tr>\n",
       "      <th>ADEN</th>\n",
       "      <td>  0</td>\n",
       "      <td> 19</td>\n",
       "      <td>  13</td>\n",
       "      <td>   0</td>\n",
       "      <td>  0</td>\n",
       "      <td> 55</td>\n",
       "      <td> 91</td>\n",
       "      <td>  0</td>\n",
       "    </tr>\n",
       "    <tr>\n",
       "      <th>ADINA</th>\n",
       "      <td>  0</td>\n",
       "      <td>  0</td>\n",
       "      <td>   0</td>\n",
       "      <td>  19</td>\n",
       "      <td>  0</td>\n",
       "      <td>  0</td>\n",
       "      <td>  0</td>\n",
       "      <td> 72</td>\n",
       "    </tr>\n",
       "    <tr>\n",
       "      <th>ADITYA</th>\n",
       "      <td> 14</td>\n",
       "      <td>  0</td>\n",
       "      <td>   0</td>\n",
       "      <td>   0</td>\n",
       "      <td> 52</td>\n",
       "      <td>  0</td>\n",
       "      <td>  0</td>\n",
       "      <td>  0</td>\n",
       "    </tr>\n",
       "    <tr>\n",
       "      <th>ADONIS</th>\n",
       "      <td>  0</td>\n",
       "      <td> 11</td>\n",
       "      <td>  16</td>\n",
       "      <td>   0</td>\n",
       "      <td>  0</td>\n",
       "      <td> 63</td>\n",
       "      <td> 88</td>\n",
       "      <td>  0</td>\n",
       "    </tr>\n",
       "    <tr>\n",
       "      <th>ADRIAN</th>\n",
       "      <td> 19</td>\n",
       "      <td> 18</td>\n",
       "      <td> 157</td>\n",
       "      <td>  35</td>\n",
       "      <td> 47</td>\n",
       "      <td> 56</td>\n",
       "      <td> 19</td>\n",
       "      <td> 72</td>\n",
       "    </tr>\n",
       "    <tr>\n",
       "      <th>ADRIANA</th>\n",
       "      <td>  0</td>\n",
       "      <td>  0</td>\n",
       "      <td>  65</td>\n",
       "      <td>  29</td>\n",
       "      <td>  0</td>\n",
       "      <td>  0</td>\n",
       "      <td> 28</td>\n",
       "      <td> 62</td>\n",
       "    </tr>\n",
       "    <tr>\n",
       "      <th>ADRIANNA</th>\n",
       "      <td>  0</td>\n",
       "      <td>  0</td>\n",
       "      <td>  26</td>\n",
       "      <td>  18</td>\n",
       "      <td>  0</td>\n",
       "      <td>  0</td>\n",
       "      <td> 62</td>\n",
       "      <td> 73</td>\n",
       "    </tr>\n",
       "    <tr>\n",
       "      <th>ADRIEL</th>\n",
       "      <td>  0</td>\n",
       "      <td>  0</td>\n",
       "      <td>  34</td>\n",
       "      <td>   0</td>\n",
       "      <td>  0</td>\n",
       "      <td>  0</td>\n",
       "      <td> 70</td>\n",
       "      <td>  0</td>\n",
       "    </tr>\n",
       "    <tr>\n",
       "      <th>AHARON</th>\n",
       "      <td>  0</td>\n",
       "      <td>  0</td>\n",
       "      <td>   0</td>\n",
       "      <td>  19</td>\n",
       "      <td>  0</td>\n",
       "      <td>  0</td>\n",
       "      <td>  0</td>\n",
       "      <td> 88</td>\n",
       "    </tr>\n",
       "    <tr>\n",
       "      <th>AHMED</th>\n",
       "      <td> 21</td>\n",
       "      <td> 11</td>\n",
       "      <td>   0</td>\n",
       "      <td>  26</td>\n",
       "      <td> 45</td>\n",
       "      <td> 63</td>\n",
       "      <td>  0</td>\n",
       "      <td> 81</td>\n",
       "    </tr>\n",
       "    <tr>\n",
       "      <th>AHRON</th>\n",
       "      <td>  0</td>\n",
       "      <td>  0</td>\n",
       "      <td>   0</td>\n",
       "      <td>  17</td>\n",
       "      <td>  0</td>\n",
       "      <td>  0</td>\n",
       "      <td>  0</td>\n",
       "      <td> 90</td>\n",
       "    </tr>\n",
       "    <tr>\n",
       "      <th>AHUVA</th>\n",
       "      <td>  0</td>\n",
       "      <td>  0</td>\n",
       "      <td>   0</td>\n",
       "      <td>  16</td>\n",
       "      <td>  0</td>\n",
       "      <td>  0</td>\n",
       "      <td>  0</td>\n",
       "      <td> 75</td>\n",
       "    </tr>\n",
       "    <tr>\n",
       "      <th>AICHA</th>\n",
       "      <td>  0</td>\n",
       "      <td> 14</td>\n",
       "      <td>   0</td>\n",
       "      <td>   0</td>\n",
       "      <td>  0</td>\n",
       "      <td> 41</td>\n",
       "      <td>  0</td>\n",
       "      <td>  0</td>\n",
       "    </tr>\n",
       "    <tr>\n",
       "      <th>...</th>\n",
       "      <td>...</td>\n",
       "      <td>...</td>\n",
       "      <td>...</td>\n",
       "      <td>...</td>\n",
       "      <td>...</td>\n",
       "      <td>...</td>\n",
       "      <td>...</td>\n",
       "      <td>...</td>\n",
       "    </tr>\n",
       "    <tr>\n",
       "      <th>YISROEL</th>\n",
       "      <td>  0</td>\n",
       "      <td>  0</td>\n",
       "      <td>   0</td>\n",
       "      <td>  75</td>\n",
       "      <td>  0</td>\n",
       "      <td>  0</td>\n",
       "      <td>  0</td>\n",
       "      <td> 44</td>\n",
       "    </tr>\n",
       "    <tr>\n",
       "      <th>YITTY</th>\n",
       "      <td>  0</td>\n",
       "      <td>  0</td>\n",
       "      <td>   0</td>\n",
       "      <td>  32</td>\n",
       "      <td>  0</td>\n",
       "      <td>  0</td>\n",
       "      <td>  0</td>\n",
       "      <td> 59</td>\n",
       "    </tr>\n",
       "    <tr>\n",
       "      <th>YITZCHAK</th>\n",
       "      <td>  0</td>\n",
       "      <td>  0</td>\n",
       "      <td>   0</td>\n",
       "      <td>  17</td>\n",
       "      <td>  0</td>\n",
       "      <td>  0</td>\n",
       "      <td>  0</td>\n",
       "      <td> 90</td>\n",
       "    </tr>\n",
       "    <tr>\n",
       "      <th>YITZCHOK</th>\n",
       "      <td>  0</td>\n",
       "      <td>  0</td>\n",
       "      <td>   0</td>\n",
       "      <td>  56</td>\n",
       "      <td>  0</td>\n",
       "      <td>  0</td>\n",
       "      <td>  0</td>\n",
       "      <td> 56</td>\n",
       "    </tr>\n",
       "    <tr>\n",
       "      <th>YOCHEVED</th>\n",
       "      <td>  0</td>\n",
       "      <td>  0</td>\n",
       "      <td>   0</td>\n",
       "      <td>  20</td>\n",
       "      <td>  0</td>\n",
       "      <td>  0</td>\n",
       "      <td>  0</td>\n",
       "      <td> 71</td>\n",
       "    </tr>\n",
       "    <tr>\n",
       "      <th>YOEL</th>\n",
       "      <td>  0</td>\n",
       "      <td>  0</td>\n",
       "      <td>   0</td>\n",
       "      <td>  20</td>\n",
       "      <td>  0</td>\n",
       "      <td>  0</td>\n",
       "      <td>  0</td>\n",
       "      <td> 87</td>\n",
       "    </tr>\n",
       "    <tr>\n",
       "      <th>YONAH</th>\n",
       "      <td>  0</td>\n",
       "      <td>  0</td>\n",
       "      <td>   0</td>\n",
       "      <td>  10</td>\n",
       "      <td>  0</td>\n",
       "      <td>  0</td>\n",
       "      <td>  0</td>\n",
       "      <td> 97</td>\n",
       "    </tr>\n",
       "    <tr>\n",
       "      <th>YOSEF</th>\n",
       "      <td>  0</td>\n",
       "      <td>  0</td>\n",
       "      <td>   0</td>\n",
       "      <td> 102</td>\n",
       "      <td>  0</td>\n",
       "      <td>  0</td>\n",
       "      <td>  0</td>\n",
       "      <td> 28</td>\n",
       "    </tr>\n",
       "    <tr>\n",
       "      <th>YOUSEF</th>\n",
       "      <td>  0</td>\n",
       "      <td>  0</td>\n",
       "      <td>   0</td>\n",
       "      <td>  12</td>\n",
       "      <td>  0</td>\n",
       "      <td>  0</td>\n",
       "      <td>  0</td>\n",
       "      <td> 95</td>\n",
       "    </tr>\n",
       "    <tr>\n",
       "      <th>YOUSSEF</th>\n",
       "      <td>  0</td>\n",
       "      <td>  0</td>\n",
       "      <td>   0</td>\n",
       "      <td>  11</td>\n",
       "      <td>  0</td>\n",
       "      <td>  0</td>\n",
       "      <td>  0</td>\n",
       "      <td> 96</td>\n",
       "    </tr>\n",
       "    <tr>\n",
       "      <th>YU</th>\n",
       "      <td> 13</td>\n",
       "      <td>  0</td>\n",
       "      <td>   0</td>\n",
       "      <td>   0</td>\n",
       "      <td> 35</td>\n",
       "      <td>  0</td>\n",
       "      <td>  0</td>\n",
       "      <td>  0</td>\n",
       "    </tr>\n",
       "    <tr>\n",
       "      <th>ZACHARY</th>\n",
       "      <td> 12</td>\n",
       "      <td> 22</td>\n",
       "      <td>  16</td>\n",
       "      <td>  86</td>\n",
       "      <td> 54</td>\n",
       "      <td> 52</td>\n",
       "      <td> 88</td>\n",
       "      <td> 38</td>\n",
       "    </tr>\n",
       "    <tr>\n",
       "      <th>ZAHARA</th>\n",
       "      <td>  0</td>\n",
       "      <td> 10</td>\n",
       "      <td>   0</td>\n",
       "      <td>   0</td>\n",
       "      <td>  0</td>\n",
       "      <td> 45</td>\n",
       "      <td>  0</td>\n",
       "      <td>  0</td>\n",
       "    </tr>\n",
       "    <tr>\n",
       "      <th>ZAHRA</th>\n",
       "      <td> 19</td>\n",
       "      <td>  0</td>\n",
       "      <td>   0</td>\n",
       "      <td>   0</td>\n",
       "      <td> 29</td>\n",
       "      <td>  0</td>\n",
       "      <td>  0</td>\n",
       "      <td>  0</td>\n",
       "    </tr>\n",
       "    <tr>\n",
       "      <th>ZAIN</th>\n",
       "      <td> 12</td>\n",
       "      <td>  0</td>\n",
       "      <td>   0</td>\n",
       "      <td>   0</td>\n",
       "      <td> 54</td>\n",
       "      <td>  0</td>\n",
       "      <td>  0</td>\n",
       "      <td>  0</td>\n",
       "    </tr>\n",
       "    <tr>\n",
       "      <th>ZAINAB</th>\n",
       "      <td> 23</td>\n",
       "      <td>  0</td>\n",
       "      <td>   0</td>\n",
       "      <td>   0</td>\n",
       "      <td> 25</td>\n",
       "      <td>  0</td>\n",
       "      <td>  0</td>\n",
       "      <td>  0</td>\n",
       "    </tr>\n",
       "    <tr>\n",
       "      <th>ZAIRE</th>\n",
       "      <td>  0</td>\n",
       "      <td> 19</td>\n",
       "      <td>   0</td>\n",
       "      <td>   0</td>\n",
       "      <td>  0</td>\n",
       "      <td> 55</td>\n",
       "      <td>  0</td>\n",
       "      <td>  0</td>\n",
       "    </tr>\n",
       "    <tr>\n",
       "      <th>ZALMEN</th>\n",
       "      <td>  0</td>\n",
       "      <td>  0</td>\n",
       "      <td>   0</td>\n",
       "      <td>  14</td>\n",
       "      <td>  0</td>\n",
       "      <td>  0</td>\n",
       "      <td>  0</td>\n",
       "      <td> 93</td>\n",
       "    </tr>\n",
       "    <tr>\n",
       "      <th>ZANIYAH</th>\n",
       "      <td>  0</td>\n",
       "      <td> 10</td>\n",
       "      <td>   0</td>\n",
       "      <td>   0</td>\n",
       "      <td>  0</td>\n",
       "      <td> 45</td>\n",
       "      <td>  0</td>\n",
       "      <td>  0</td>\n",
       "    </tr>\n",
       "    <tr>\n",
       "      <th>ZARA</th>\n",
       "      <td> 14</td>\n",
       "      <td> 11</td>\n",
       "      <td>   0</td>\n",
       "      <td>   0</td>\n",
       "      <td> 34</td>\n",
       "      <td> 44</td>\n",
       "      <td>  0</td>\n",
       "      <td>  0</td>\n",
       "    </tr>\n",
       "    <tr>\n",
       "      <th>ZARIA</th>\n",
       "      <td>  0</td>\n",
       "      <td> 13</td>\n",
       "      <td>   0</td>\n",
       "      <td>   0</td>\n",
       "      <td>  0</td>\n",
       "      <td> 42</td>\n",
       "      <td>  0</td>\n",
       "      <td>  0</td>\n",
       "    </tr>\n",
       "    <tr>\n",
       "      <th>ZARIAH</th>\n",
       "      <td>  0</td>\n",
       "      <td> 14</td>\n",
       "      <td>   0</td>\n",
       "      <td>   0</td>\n",
       "      <td>  0</td>\n",
       "      <td> 41</td>\n",
       "      <td>  0</td>\n",
       "      <td>  0</td>\n",
       "    </tr>\n",
       "    <tr>\n",
       "      <th>ZAYAN</th>\n",
       "      <td> 10</td>\n",
       "      <td>  0</td>\n",
       "      <td>   0</td>\n",
       "      <td>   0</td>\n",
       "      <td> 56</td>\n",
       "      <td>  0</td>\n",
       "      <td>  0</td>\n",
       "      <td>  0</td>\n",
       "    </tr>\n",
       "    <tr>\n",
       "      <th>ZEV</th>\n",
       "      <td>  0</td>\n",
       "      <td>  0</td>\n",
       "      <td>   0</td>\n",
       "      <td>  47</td>\n",
       "      <td>  0</td>\n",
       "      <td>  0</td>\n",
       "      <td>  0</td>\n",
       "      <td> 61</td>\n",
       "    </tr>\n",
       "    <tr>\n",
       "      <th>ZION</th>\n",
       "      <td>  0</td>\n",
       "      <td> 35</td>\n",
       "      <td>  13</td>\n",
       "      <td>   0</td>\n",
       "      <td>  0</td>\n",
       "      <td> 39</td>\n",
       "      <td> 91</td>\n",
       "      <td>  0</td>\n",
       "    </tr>\n",
       "    <tr>\n",
       "      <th>ZISSY</th>\n",
       "      <td>  0</td>\n",
       "      <td>  0</td>\n",
       "      <td>   0</td>\n",
       "      <td>  25</td>\n",
       "      <td>  0</td>\n",
       "      <td>  0</td>\n",
       "      <td>  0</td>\n",
       "      <td> 66</td>\n",
       "    </tr>\n",
       "    <tr>\n",
       "      <th>ZOE</th>\n",
       "      <td> 25</td>\n",
       "      <td> 43</td>\n",
       "      <td>  65</td>\n",
       "      <td>  81</td>\n",
       "      <td> 23</td>\n",
       "      <td> 13</td>\n",
       "      <td> 28</td>\n",
       "      <td> 28</td>\n",
       "    </tr>\n",
       "    <tr>\n",
       "      <th>ZOEY</th>\n",
       "      <td>  0</td>\n",
       "      <td> 29</td>\n",
       "      <td>  27</td>\n",
       "      <td>  21</td>\n",
       "      <td>  0</td>\n",
       "      <td> 26</td>\n",
       "      <td> 61</td>\n",
       "      <td> 70</td>\n",
       "    </tr>\n",
       "    <tr>\n",
       "      <th>ZURI</th>\n",
       "      <td>  0</td>\n",
       "      <td> 10</td>\n",
       "      <td>   0</td>\n",
       "      <td>   0</td>\n",
       "      <td>  0</td>\n",
       "      <td> 45</td>\n",
       "      <td>  0</td>\n",
       "      <td>  0</td>\n",
       "    </tr>\n",
       "    <tr>\n",
       "      <th>ZYAIRE</th>\n",
       "      <td>  0</td>\n",
       "      <td> 14</td>\n",
       "      <td>   0</td>\n",
       "      <td>   0</td>\n",
       "      <td>  0</td>\n",
       "      <td> 60</td>\n",
       "      <td>  0</td>\n",
       "      <td>  0</td>\n",
       "    </tr>\n",
       "  </tbody>\n",
       "</table>\n",
       "<p>1206 rows × 8 columns</p>\n",
       "</div>"
      ],
      "text/plain": [
       "                                 CNT                              \\\n",
       "ETHCTY    ASIAN AND PACIFIC ISLANDER BLACK NON HISPANIC HISPANIC   \n",
       "NM                                                                 \n",
       "AALIYAH                            0                 69       63   \n",
       "AARAV                             15                  0        0   \n",
       "AARON                             51                 53      102   \n",
       "ABBY                               0                  0       10   \n",
       "ABDIEL                             0                  0       12   \n",
       "ABDOUL                             0                 16        0   \n",
       "ABDOULAYE                          0                 13        0   \n",
       "ABDUL                             20                  0        0   \n",
       "ABDULLAH                          30                  0        0   \n",
       "ABEL                               0                  0       14   \n",
       "ABIGAIL                           24                 51       80   \n",
       "ABRAHAM                            0                  0       22   \n",
       "ADA                               13                  0        0   \n",
       "ADAM                              28                 28       32   \n",
       "ADDISON                            0                 13        0   \n",
       "ADELE                              0                  0        0   \n",
       "ADELINE                            0                  0        0   \n",
       "ADEN                               0                 19       13   \n",
       "ADINA                              0                  0        0   \n",
       "ADITYA                            14                  0        0   \n",
       "ADONIS                             0                 11       16   \n",
       "ADRIAN                            19                 18      157   \n",
       "ADRIANA                            0                  0       65   \n",
       "ADRIANNA                           0                  0       26   \n",
       "ADRIEL                             0                  0       34   \n",
       "AHARON                             0                  0        0   \n",
       "AHMED                             21                 11        0   \n",
       "AHRON                              0                  0        0   \n",
       "AHUVA                              0                  0        0   \n",
       "AICHA                              0                 14        0   \n",
       "...                              ...                ...      ...   \n",
       "YISROEL                            0                  0        0   \n",
       "YITTY                              0                  0        0   \n",
       "YITZCHAK                           0                  0        0   \n",
       "YITZCHOK                           0                  0        0   \n",
       "YOCHEVED                           0                  0        0   \n",
       "YOEL                               0                  0        0   \n",
       "YONAH                              0                  0        0   \n",
       "YOSEF                              0                  0        0   \n",
       "YOUSEF                             0                  0        0   \n",
       "YOUSSEF                            0                  0        0   \n",
       "YU                                13                  0        0   \n",
       "ZACHARY                           12                 22       16   \n",
       "ZAHARA                             0                 10        0   \n",
       "ZAHRA                             19                  0        0   \n",
       "ZAIN                              12                  0        0   \n",
       "ZAINAB                            23                  0        0   \n",
       "ZAIRE                              0                 19        0   \n",
       "ZALMEN                             0                  0        0   \n",
       "ZANIYAH                            0                 10        0   \n",
       "ZARA                              14                 11        0   \n",
       "ZARIA                              0                 13        0   \n",
       "ZARIAH                             0                 14        0   \n",
       "ZAYAN                             10                  0        0   \n",
       "ZEV                                0                  0        0   \n",
       "ZION                               0                 35       13   \n",
       "ZISSY                              0                  0        0   \n",
       "ZOE                               25                 43       65   \n",
       "ZOEY                               0                 29       27   \n",
       "ZURI                               0                 10        0   \n",
       "ZYAIRE                             0                 14        0   \n",
       "\n",
       "                                                    RNK                     \\\n",
       "ETHCTY    WHITE NON HISPANIC ASIAN AND PACIFIC ISLANDER BLACK NON HISPANIC   \n",
       "NM                                                                           \n",
       "AALIYAH                    0                          0                  5   \n",
       "AARAV                      0                         51                  0   \n",
       "AARON                     67                         19                 28   \n",
       "ABBY                       0                          0                  0   \n",
       "ABDIEL                     0                          0                  0   \n",
       "ABDOUL                     0                          0                 58   \n",
       "ABDOULAYE                  0                          0                 61   \n",
       "ABDUL                      0                         46                  0   \n",
       "ABDULLAH                   0                         36                  0   \n",
       "ABEL                       0                          0                  0   \n",
       "ABIGAIL                  103                         24                 11   \n",
       "ABRAHAM                  172                          0                  0   \n",
       "ADA                        0                         35                  0   \n",
       "ADAM                     129                         38                 46   \n",
       "ADDISON                   19                          0                 42   \n",
       "ADELE                     22                          0                  0   \n",
       "ADELINE                   12                          0                  0   \n",
       "ADEN                       0                          0                 55   \n",
       "ADINA                     19                          0                  0   \n",
       "ADITYA                     0                         52                  0   \n",
       "ADONIS                     0                          0                 63   \n",
       "ADRIAN                    35                         47                 56   \n",
       "ADRIANA                   29                          0                  0   \n",
       "ADRIANNA                  18                          0                  0   \n",
       "ADRIEL                     0                          0                  0   \n",
       "AHARON                    19                          0                  0   \n",
       "AHMED                     26                         45                 63   \n",
       "AHRON                     17                          0                  0   \n",
       "AHUVA                     16                          0                  0   \n",
       "AICHA                      0                          0                 41   \n",
       "...                      ...                        ...                ...   \n",
       "YISROEL                   75                          0                  0   \n",
       "YITTY                     32                          0                  0   \n",
       "YITZCHAK                  17                          0                  0   \n",
       "YITZCHOK                  56                          0                  0   \n",
       "YOCHEVED                  20                          0                  0   \n",
       "YOEL                      20                          0                  0   \n",
       "YONAH                     10                          0                  0   \n",
       "YOSEF                    102                          0                  0   \n",
       "YOUSEF                    12                          0                  0   \n",
       "YOUSSEF                   11                          0                  0   \n",
       "YU                         0                         35                  0   \n",
       "ZACHARY                   86                         54                 52   \n",
       "ZAHARA                     0                          0                 45   \n",
       "ZAHRA                      0                         29                  0   \n",
       "ZAIN                       0                         54                  0   \n",
       "ZAINAB                     0                         25                  0   \n",
       "ZAIRE                      0                          0                 55   \n",
       "ZALMEN                    14                          0                  0   \n",
       "ZANIYAH                    0                          0                 45   \n",
       "ZARA                       0                         34                 44   \n",
       "ZARIA                      0                          0                 42   \n",
       "ZARIAH                     0                          0                 41   \n",
       "ZAYAN                      0                         56                  0   \n",
       "ZEV                       47                          0                  0   \n",
       "ZION                       0                          0                 39   \n",
       "ZISSY                     25                          0                  0   \n",
       "ZOE                       81                         23                 13   \n",
       "ZOEY                      21                          0                 26   \n",
       "ZURI                       0                          0                 45   \n",
       "ZYAIRE                     0                          0                 60   \n",
       "\n",
       "                                       \n",
       "ETHCTY    HISPANIC WHITE NON HISPANIC  \n",
       "NM                                     \n",
       "AALIYAH         30                  0  \n",
       "AARAV            0                  0  \n",
       "AARON           33                 49  \n",
       "ABBY            78                  0  \n",
       "ABDIEL          92                  0  \n",
       "ABDOUL           0                  0  \n",
       "ABDOULAYE        0                  0  \n",
       "ABDUL            0                  0  \n",
       "ABDULLAH         0                  0  \n",
       "ABEL            90                  0  \n",
       "ABIGAIL         21                 19  \n",
       "ABRAHAM         82                 12  \n",
       "ADA              0                  0  \n",
       "ADAM            72                 21  \n",
       "ADDISON          0                 72  \n",
       "ADELE            0                 69  \n",
       "ADELINE          0                 79  \n",
       "ADEN            91                  0  \n",
       "ADINA            0                 72  \n",
       "ADITYA           0                  0  \n",
       "ADONIS          88                  0  \n",
       "ADRIAN          19                 72  \n",
       "ADRIANA         28                 62  \n",
       "ADRIANNA        62                 73  \n",
       "ADRIEL          70                  0  \n",
       "AHARON           0                 88  \n",
       "AHMED            0                 81  \n",
       "AHRON            0                 90  \n",
       "AHUVA            0                 75  \n",
       "AICHA            0                  0  \n",
       "...            ...                ...  \n",
       "YISROEL          0                 44  \n",
       "YITTY            0                 59  \n",
       "YITZCHAK         0                 90  \n",
       "YITZCHOK         0                 56  \n",
       "YOCHEVED         0                 71  \n",
       "YOEL             0                 87  \n",
       "YONAH            0                 97  \n",
       "YOSEF            0                 28  \n",
       "YOUSEF           0                 95  \n",
       "YOUSSEF          0                 96  \n",
       "YU               0                  0  \n",
       "ZACHARY         88                 38  \n",
       "ZAHARA           0                  0  \n",
       "ZAHRA            0                  0  \n",
       "ZAIN             0                  0  \n",
       "ZAINAB           0                  0  \n",
       "ZAIRE            0                  0  \n",
       "ZALMEN           0                 93  \n",
       "ZANIYAH          0                  0  \n",
       "ZARA             0                  0  \n",
       "ZARIA            0                  0  \n",
       "ZARIAH           0                  0  \n",
       "ZAYAN            0                  0  \n",
       "ZEV              0                 61  \n",
       "ZION            91                  0  \n",
       "ZISSY            0                 66  \n",
       "ZOE             28                 28  \n",
       "ZOEY            61                 70  \n",
       "ZURI             0                  0  \n",
       "ZYAIRE           0                  0  \n",
       "\n",
       "[1206 rows x 8 columns]"
      ]
     },
     "execution_count": 184,
     "metadata": {},
     "output_type": "execute_result"
    }
   ],
   "source": [
    "no_dupes.pivot_table(index = ['NM'],columns='ETHCTY',aggfunc=sum,fill_value=0)"
   ]
  },
  {
   "cell_type": "code",
   "execution_count": 185,
   "metadata": {
    "collapsed": false
   },
   "outputs": [],
   "source": [
    "G2 = no_dupes.groupby(['ETHCTY']).get_group('HISPANIC')"
   ]
  },
  {
   "cell_type": "code",
   "execution_count": 186,
   "metadata": {
    "collapsed": false
   },
   "outputs": [
    {
     "data": {
      "text/html": [
       "<div style=\"max-height:1000px;max-width:1500px;overflow:auto;\">\n",
       "<table border=\"1\" class=\"dataframe\">\n",
       "  <thead>\n",
       "    <tr style=\"text-align: right;\">\n",
       "      <th></th>\n",
       "      <th>BRTH_YR</th>\n",
       "      <th>GNDR</th>\n",
       "      <th>ETHCTY</th>\n",
       "      <th>NM</th>\n",
       "      <th>CNT</th>\n",
       "      <th>RNK</th>\n",
       "    </tr>\n",
       "  </thead>\n",
       "  <tbody>\n",
       "    <tr>\n",
       "      <th>4512</th>\n",
       "      <td>2011-01-01</td>\n",
       "      <td>   MALE</td>\n",
       "      <td> HISPANIC</td>\n",
       "      <td>      JAYDEN</td>\n",
       "      <td> 426</td>\n",
       "      <td>  1</td>\n",
       "    </tr>\n",
       "    <tr>\n",
       "      <th>1440</th>\n",
       "      <td>2011-01-01</td>\n",
       "      <td> FEMALE</td>\n",
       "      <td> HISPANIC</td>\n",
       "      <td>    ISABELLA</td>\n",
       "      <td> 331</td>\n",
       "      <td>  1</td>\n",
       "    </tr>\n",
       "    <tr>\n",
       "      <th>4620</th>\n",
       "      <td>2011-01-01</td>\n",
       "      <td>   MALE</td>\n",
       "      <td> HISPANIC</td>\n",
       "      <td>      JUSTIN</td>\n",
       "      <td> 310</td>\n",
       "      <td>  2</td>\n",
       "    </tr>\n",
       "    <tr>\n",
       "      <th>4467</th>\n",
       "      <td>2011-01-01</td>\n",
       "      <td>   MALE</td>\n",
       "      <td> HISPANIC</td>\n",
       "      <td>       JACOB</td>\n",
       "      <td> 303</td>\n",
       "      <td>  3</td>\n",
       "    </tr>\n",
       "    <tr>\n",
       "      <th>4722</th>\n",
       "      <td>2011-01-01</td>\n",
       "      <td>   MALE</td>\n",
       "      <td> HISPANIC</td>\n",
       "      <td>     MATTHEW</td>\n",
       "      <td> 276</td>\n",
       "      <td>  4</td>\n",
       "    </tr>\n",
       "    <tr>\n",
       "      <th>4152</th>\n",
       "      <td>2011-01-01</td>\n",
       "      <td>   MALE</td>\n",
       "      <td> HISPANIC</td>\n",
       "      <td>       ANGEL</td>\n",
       "      <td> 253</td>\n",
       "      <td>  5</td>\n",
       "    </tr>\n",
       "    <tr>\n",
       "      <th>4371</th>\n",
       "      <td>2011-01-01</td>\n",
       "      <td>   MALE</td>\n",
       "      <td> HISPANIC</td>\n",
       "      <td>       ETHAN</td>\n",
       "      <td> 251</td>\n",
       "      <td>  6</td>\n",
       "    </tr>\n",
       "    <tr>\n",
       "      <th>4248</th>\n",
       "      <td>2011-01-01</td>\n",
       "      <td>   MALE</td>\n",
       "      <td> HISPANIC</td>\n",
       "      <td> CHRISTOPHER</td>\n",
       "      <td> 239</td>\n",
       "      <td>  7</td>\n",
       "    </tr>\n",
       "    <tr>\n",
       "      <th>1740</th>\n",
       "      <td>2011-01-01</td>\n",
       "      <td> FEMALE</td>\n",
       "      <td> HISPANIC</td>\n",
       "      <td>         MIA</td>\n",
       "      <td> 229</td>\n",
       "      <td>  2</td>\n",
       "    </tr>\n",
       "    <tr>\n",
       "      <th>1920</th>\n",
       "      <td>2011-01-01</td>\n",
       "      <td> FEMALE</td>\n",
       "      <td> HISPANIC</td>\n",
       "      <td>      SOPHIA</td>\n",
       "      <td> 223</td>\n",
       "      <td>  3</td>\n",
       "    </tr>\n",
       "    <tr>\n",
       "      <th>4266</th>\n",
       "      <td>2011-01-01</td>\n",
       "      <td>   MALE</td>\n",
       "      <td> HISPANIC</td>\n",
       "      <td>      DANIEL</td>\n",
       "      <td> 221</td>\n",
       "      <td>  8</td>\n",
       "    </tr>\n",
       "    <tr>\n",
       "      <th>4116</th>\n",
       "      <td>2011-01-01</td>\n",
       "      <td>   MALE</td>\n",
       "      <td> HISPANIC</td>\n",
       "      <td>   ALEXANDER</td>\n",
       "      <td> 219</td>\n",
       "      <td>  9</td>\n",
       "    </tr>\n",
       "    <tr>\n",
       "      <th>4158</th>\n",
       "      <td>2011-01-01</td>\n",
       "      <td>   MALE</td>\n",
       "      <td> HISPANIC</td>\n",
       "      <td>     ANTHONY</td>\n",
       "      <td> 207</td>\n",
       "      <td> 10</td>\n",
       "    </tr>\n",
       "    <tr>\n",
       "      <th>1164</th>\n",
       "      <td>2011-01-01</td>\n",
       "      <td> FEMALE</td>\n",
       "      <td> HISPANIC</td>\n",
       "      <td>      ASHLEY</td>\n",
       "      <td> 190</td>\n",
       "      <td>  4</td>\n",
       "    </tr>\n",
       "    <tr>\n",
       "      <th>4593</th>\n",
       "      <td>2011-01-01</td>\n",
       "      <td>   MALE</td>\n",
       "      <td> HISPANIC</td>\n",
       "      <td>      JOSHUA</td>\n",
       "      <td> 190</td>\n",
       "      <td> 11</td>\n",
       "    </tr>\n",
       "    <tr>\n",
       "      <th>4095</th>\n",
       "      <td>2011-01-01</td>\n",
       "      <td>   MALE</td>\n",
       "      <td> HISPANIC</td>\n",
       "      <td>       AIDEN</td>\n",
       "      <td> 188</td>\n",
       "      <td> 12</td>\n",
       "    </tr>\n",
       "    <tr>\n",
       "      <th>1218</th>\n",
       "      <td>2011-01-01</td>\n",
       "      <td> FEMALE</td>\n",
       "      <td> HISPANIC</td>\n",
       "      <td>      CAMILA</td>\n",
       "      <td> 188</td>\n",
       "      <td>  5</td>\n",
       "    </tr>\n",
       "    <tr>\n",
       "      <th>4197</th>\n",
       "      <td>2011-01-01</td>\n",
       "      <td>   MALE</td>\n",
       "      <td> HISPANIC</td>\n",
       "      <td>     BRANDON</td>\n",
       "      <td> 184</td>\n",
       "      <td> 13</td>\n",
       "    </tr>\n",
       "    <tr>\n",
       "      <th>4578</th>\n",
       "      <td>2011-01-01</td>\n",
       "      <td>   MALE</td>\n",
       "      <td> HISPANIC</td>\n",
       "      <td>    JONATHAN</td>\n",
       "      <td> 183</td>\n",
       "      <td> 14</td>\n",
       "    </tr>\n",
       "    <tr>\n",
       "      <th>4638</th>\n",
       "      <td>2011-01-01</td>\n",
       "      <td>   MALE</td>\n",
       "      <td> HISPANIC</td>\n",
       "      <td>       KEVIN</td>\n",
       "      <td> 183</td>\n",
       "      <td> 14</td>\n",
       "    </tr>\n",
       "    <tr>\n",
       "      <th>4860</th>\n",
       "      <td>2011-01-01</td>\n",
       "      <td>   MALE</td>\n",
       "      <td> HISPANIC</td>\n",
       "      <td>   SEBASTIAN</td>\n",
       "      <td> 183</td>\n",
       "      <td> 14</td>\n",
       "    </tr>\n",
       "    <tr>\n",
       "      <th>4281</th>\n",
       "      <td>2011-01-01</td>\n",
       "      <td>   MALE</td>\n",
       "      <td> HISPANIC</td>\n",
       "      <td>       DAVID</td>\n",
       "      <td> 178</td>\n",
       "      <td> 15</td>\n",
       "    </tr>\n",
       "    <tr>\n",
       "      <th>4743</th>\n",
       "      <td>2011-01-01</td>\n",
       "      <td>   MALE</td>\n",
       "      <td> HISPANIC</td>\n",
       "      <td>     MICHAEL</td>\n",
       "      <td> 174</td>\n",
       "      <td> 16</td>\n",
       "    </tr>\n",
       "    <tr>\n",
       "      <th>4710</th>\n",
       "      <td>2011-01-01</td>\n",
       "      <td>   MALE</td>\n",
       "      <td> HISPANIC</td>\n",
       "      <td>       MASON</td>\n",
       "      <td> 173</td>\n",
       "      <td> 17</td>\n",
       "    </tr>\n",
       "    <tr>\n",
       "      <th>1917</th>\n",
       "      <td>2011-01-01</td>\n",
       "      <td> FEMALE</td>\n",
       "      <td> HISPANIC</td>\n",
       "      <td>       SOFIA</td>\n",
       "      <td> 165</td>\n",
       "      <td>  6</td>\n",
       "    </tr>\n",
       "    <tr>\n",
       "      <th>1329</th>\n",
       "      <td>2011-01-01</td>\n",
       "      <td> FEMALE</td>\n",
       "      <td> HISPANIC</td>\n",
       "      <td>       EMILY</td>\n",
       "      <td> 162</td>\n",
       "      <td>  7</td>\n",
       "    </tr>\n",
       "    <tr>\n",
       "      <th>4401</th>\n",
       "      <td>2011-01-01</td>\n",
       "      <td>   MALE</td>\n",
       "      <td> HISPANIC</td>\n",
       "      <td>     GABRIEL</td>\n",
       "      <td> 158</td>\n",
       "      <td> 18</td>\n",
       "    </tr>\n",
       "    <tr>\n",
       "      <th>4086</th>\n",
       "      <td>2011-01-01</td>\n",
       "      <td>   MALE</td>\n",
       "      <td> HISPANIC</td>\n",
       "      <td>      ADRIAN</td>\n",
       "      <td> 157</td>\n",
       "      <td> 19</td>\n",
       "    </tr>\n",
       "    <tr>\n",
       "      <th>4770</th>\n",
       "      <td>2011-01-01</td>\n",
       "      <td>   MALE</td>\n",
       "      <td> HISPANIC</td>\n",
       "      <td>        NOAH</td>\n",
       "      <td> 157</td>\n",
       "      <td> 19</td>\n",
       "    </tr>\n",
       "    <tr>\n",
       "      <th>4245</th>\n",
       "      <td>2011-01-01</td>\n",
       "      <td>   MALE</td>\n",
       "      <td> HISPANIC</td>\n",
       "      <td>   CHRISTIAN</td>\n",
       "      <td> 151</td>\n",
       "      <td> 20</td>\n",
       "    </tr>\n",
       "    <tr>\n",
       "      <th>...</th>\n",
       "      <td>...</td>\n",
       "      <td>...</td>\n",
       "      <td>...</td>\n",
       "      <td>...</td>\n",
       "      <td>...</td>\n",
       "      <td>...</td>\n",
       "    </tr>\n",
       "    <tr>\n",
       "      <th>1575</th>\n",
       "      <td>2011-01-01</td>\n",
       "      <td> FEMALE</td>\n",
       "      <td> HISPANIC</td>\n",
       "      <td>    KATELYNN</td>\n",
       "      <td>  10</td>\n",
       "      <td> 78</td>\n",
       "    </tr>\n",
       "    <tr>\n",
       "      <th>4644</th>\n",
       "      <td>2011-01-01</td>\n",
       "      <td>   MALE</td>\n",
       "      <td> HISPANIC</td>\n",
       "      <td>       LARRY</td>\n",
       "      <td>  10</td>\n",
       "      <td> 94</td>\n",
       "    </tr>\n",
       "    <tr>\n",
       "      <th>1254</th>\n",
       "      <td>2011-01-01</td>\n",
       "      <td> FEMALE</td>\n",
       "      <td> HISPANIC</td>\n",
       "      <td>    CRISTINA</td>\n",
       "      <td>  10</td>\n",
       "      <td> 78</td>\n",
       "    </tr>\n",
       "    <tr>\n",
       "      <th>1260</th>\n",
       "      <td>2011-01-01</td>\n",
       "      <td> FEMALE</td>\n",
       "      <td> HISPANIC</td>\n",
       "      <td>     CYNTHIA</td>\n",
       "      <td>  10</td>\n",
       "      <td> 78</td>\n",
       "    </tr>\n",
       "    <tr>\n",
       "      <th>1500</th>\n",
       "      <td>2011-01-01</td>\n",
       "      <td> FEMALE</td>\n",
       "      <td> HISPANIC</td>\n",
       "      <td>      JAYLYN</td>\n",
       "      <td>  10</td>\n",
       "      <td> 78</td>\n",
       "    </tr>\n",
       "    <tr>\n",
       "      <th>1791</th>\n",
       "      <td>2011-01-01</td>\n",
       "      <td> FEMALE</td>\n",
       "      <td> HISPANIC</td>\n",
       "      <td>    NATHALIA</td>\n",
       "      <td>  10</td>\n",
       "      <td> 78</td>\n",
       "    </tr>\n",
       "    <tr>\n",
       "      <th>1482</th>\n",
       "      <td>2011-01-01</td>\n",
       "      <td> FEMALE</td>\n",
       "      <td> HISPANIC</td>\n",
       "      <td>       JAYDA</td>\n",
       "      <td>  10</td>\n",
       "      <td> 78</td>\n",
       "    </tr>\n",
       "    <tr>\n",
       "      <th>4545</th>\n",
       "      <td>2011-01-01</td>\n",
       "      <td>   MALE</td>\n",
       "      <td> HISPANIC</td>\n",
       "      <td>       JESSE</td>\n",
       "      <td>  10</td>\n",
       "      <td> 94</td>\n",
       "    </tr>\n",
       "    <tr>\n",
       "      <th>4416</th>\n",
       "      <td>2011-01-01</td>\n",
       "      <td>   MALE</td>\n",
       "      <td> HISPANIC</td>\n",
       "      <td>     GIOVANI</td>\n",
       "      <td>  10</td>\n",
       "      <td> 94</td>\n",
       "    </tr>\n",
       "    <tr>\n",
       "      <th>4521</th>\n",
       "      <td>2011-01-01</td>\n",
       "      <td>   MALE</td>\n",
       "      <td> HISPANIC</td>\n",
       "      <td>  JEANCARLOS</td>\n",
       "      <td>  10</td>\n",
       "      <td> 94</td>\n",
       "    </tr>\n",
       "    <tr>\n",
       "      <th>1437</th>\n",
       "      <td>2011-01-01</td>\n",
       "      <td> FEMALE</td>\n",
       "      <td> HISPANIC</td>\n",
       "      <td>     ISABELA</td>\n",
       "      <td>  10</td>\n",
       "      <td> 78</td>\n",
       "    </tr>\n",
       "    <tr>\n",
       "      <th>1431</th>\n",
       "      <td>2011-01-01</td>\n",
       "      <td> FEMALE</td>\n",
       "      <td> HISPANIC</td>\n",
       "      <td>        IRIS</td>\n",
       "      <td>  10</td>\n",
       "      <td> 78</td>\n",
       "    </tr>\n",
       "    <tr>\n",
       "      <th>4215</th>\n",
       "      <td>2011-01-01</td>\n",
       "      <td>   MALE</td>\n",
       "      <td> HISPANIC</td>\n",
       "      <td>       BRYCE</td>\n",
       "      <td>  10</td>\n",
       "      <td> 94</td>\n",
       "    </tr>\n",
       "    <tr>\n",
       "      <th>4701</th>\n",
       "      <td>2011-01-01</td>\n",
       "      <td>   MALE</td>\n",
       "      <td> HISPANIC</td>\n",
       "      <td>      MARLON</td>\n",
       "      <td>  10</td>\n",
       "      <td> 94</td>\n",
       "    </tr>\n",
       "    <tr>\n",
       "      <th>1623</th>\n",
       "      <td>2011-01-01</td>\n",
       "      <td> FEMALE</td>\n",
       "      <td> HISPANIC</td>\n",
       "      <td>       KYLEE</td>\n",
       "      <td>  10</td>\n",
       "      <td> 78</td>\n",
       "    </tr>\n",
       "    <tr>\n",
       "      <th>1641</th>\n",
       "      <td>2011-01-01</td>\n",
       "      <td> FEMALE</td>\n",
       "      <td> HISPANIC</td>\n",
       "      <td>         LEA</td>\n",
       "      <td>  10</td>\n",
       "      <td> 78</td>\n",
       "    </tr>\n",
       "    <tr>\n",
       "      <th>4488</th>\n",
       "      <td>2011-01-01</td>\n",
       "      <td>   MALE</td>\n",
       "      <td> HISPANIC</td>\n",
       "      <td>      JANIEL</td>\n",
       "      <td>  10</td>\n",
       "      <td> 94</td>\n",
       "    </tr>\n",
       "    <tr>\n",
       "      <th>1203</th>\n",
       "      <td>2011-01-01</td>\n",
       "      <td> FEMALE</td>\n",
       "      <td> HISPANIC</td>\n",
       "      <td>     BRIANNY</td>\n",
       "      <td>  10</td>\n",
       "      <td> 78</td>\n",
       "    </tr>\n",
       "    <tr>\n",
       "      <th>4173</th>\n",
       "      <td>2011-01-01</td>\n",
       "      <td>   MALE</td>\n",
       "      <td> HISPANIC</td>\n",
       "      <td>      ARTURO</td>\n",
       "      <td>  10</td>\n",
       "      <td> 94</td>\n",
       "    </tr>\n",
       "    <tr>\n",
       "      <th>1662</th>\n",
       "      <td>2011-01-01</td>\n",
       "      <td> FEMALE</td>\n",
       "      <td> HISPANIC</td>\n",
       "      <td>       LEYLA</td>\n",
       "      <td>  10</td>\n",
       "      <td> 78</td>\n",
       "    </tr>\n",
       "    <tr>\n",
       "      <th>4140</th>\n",
       "      <td>2011-01-01</td>\n",
       "      <td>   MALE</td>\n",
       "      <td> HISPANIC</td>\n",
       "      <td>       ANDRE</td>\n",
       "      <td>  10</td>\n",
       "      <td> 94</td>\n",
       "    </tr>\n",
       "    <tr>\n",
       "      <th>4131</th>\n",
       "      <td>2011-01-01</td>\n",
       "      <td>   MALE</td>\n",
       "      <td> HISPANIC</td>\n",
       "      <td>       ALVIN</td>\n",
       "      <td>  10</td>\n",
       "      <td> 94</td>\n",
       "    </tr>\n",
       "    <tr>\n",
       "      <th>4125</th>\n",
       "      <td>2011-01-01</td>\n",
       "      <td>   MALE</td>\n",
       "      <td> HISPANIC</td>\n",
       "      <td>       ALLAN</td>\n",
       "      <td>  10</td>\n",
       "      <td> 94</td>\n",
       "    </tr>\n",
       "    <tr>\n",
       "      <th>1716</th>\n",
       "      <td>2011-01-01</td>\n",
       "      <td> FEMALE</td>\n",
       "      <td> HISPANIC</td>\n",
       "      <td>     MARILYN</td>\n",
       "      <td>  10</td>\n",
       "      <td> 78</td>\n",
       "    </tr>\n",
       "    <tr>\n",
       "      <th>1719</th>\n",
       "      <td>2011-01-01</td>\n",
       "      <td> FEMALE</td>\n",
       "      <td> HISPANIC</td>\n",
       "      <td>     MARISOL</td>\n",
       "      <td>  10</td>\n",
       "      <td> 78</td>\n",
       "    </tr>\n",
       "    <tr>\n",
       "      <th>4107</th>\n",
       "      <td>2011-01-01</td>\n",
       "      <td>   MALE</td>\n",
       "      <td> HISPANIC</td>\n",
       "      <td>        ALDO</td>\n",
       "      <td>  10</td>\n",
       "      <td> 94</td>\n",
       "    </tr>\n",
       "    <tr>\n",
       "      <th>1155</th>\n",
       "      <td>2011-01-01</td>\n",
       "      <td> FEMALE</td>\n",
       "      <td> HISPANIC</td>\n",
       "      <td>     ARIANNY</td>\n",
       "      <td>  10</td>\n",
       "      <td> 78</td>\n",
       "    </tr>\n",
       "    <tr>\n",
       "      <th>1773</th>\n",
       "      <td>2011-01-01</td>\n",
       "      <td> FEMALE</td>\n",
       "      <td> HISPANIC</td>\n",
       "      <td>       NANCY</td>\n",
       "      <td>  10</td>\n",
       "      <td> 78</td>\n",
       "    </tr>\n",
       "    <tr>\n",
       "      <th>1962</th>\n",
       "      <td>2011-01-01</td>\n",
       "      <td> FEMALE</td>\n",
       "      <td> HISPANIC</td>\n",
       "      <td>    VERONICA</td>\n",
       "      <td>  10</td>\n",
       "      <td> 78</td>\n",
       "    </tr>\n",
       "    <tr>\n",
       "      <th>1845</th>\n",
       "      <td>2011-01-01</td>\n",
       "      <td> FEMALE</td>\n",
       "      <td> HISPANIC</td>\n",
       "      <td>        ROSA</td>\n",
       "      <td>  10</td>\n",
       "      <td> 78</td>\n",
       "    </tr>\n",
       "  </tbody>\n",
       "</table>\n",
       "<p>618 rows × 6 columns</p>\n",
       "</div>"
      ],
      "text/plain": [
       "        BRTH_YR    GNDR    ETHCTY           NM  CNT  RNK\n",
       "4512 2011-01-01    MALE  HISPANIC       JAYDEN  426    1\n",
       "1440 2011-01-01  FEMALE  HISPANIC     ISABELLA  331    1\n",
       "4620 2011-01-01    MALE  HISPANIC       JUSTIN  310    2\n",
       "4467 2011-01-01    MALE  HISPANIC        JACOB  303    3\n",
       "4722 2011-01-01    MALE  HISPANIC      MATTHEW  276    4\n",
       "4152 2011-01-01    MALE  HISPANIC        ANGEL  253    5\n",
       "4371 2011-01-01    MALE  HISPANIC        ETHAN  251    6\n",
       "4248 2011-01-01    MALE  HISPANIC  CHRISTOPHER  239    7\n",
       "1740 2011-01-01  FEMALE  HISPANIC          MIA  229    2\n",
       "1920 2011-01-01  FEMALE  HISPANIC       SOPHIA  223    3\n",
       "4266 2011-01-01    MALE  HISPANIC       DANIEL  221    8\n",
       "4116 2011-01-01    MALE  HISPANIC    ALEXANDER  219    9\n",
       "4158 2011-01-01    MALE  HISPANIC      ANTHONY  207   10\n",
       "1164 2011-01-01  FEMALE  HISPANIC       ASHLEY  190    4\n",
       "4593 2011-01-01    MALE  HISPANIC       JOSHUA  190   11\n",
       "4095 2011-01-01    MALE  HISPANIC        AIDEN  188   12\n",
       "1218 2011-01-01  FEMALE  HISPANIC       CAMILA  188    5\n",
       "4197 2011-01-01    MALE  HISPANIC      BRANDON  184   13\n",
       "4578 2011-01-01    MALE  HISPANIC     JONATHAN  183   14\n",
       "4638 2011-01-01    MALE  HISPANIC        KEVIN  183   14\n",
       "4860 2011-01-01    MALE  HISPANIC    SEBASTIAN  183   14\n",
       "4281 2011-01-01    MALE  HISPANIC        DAVID  178   15\n",
       "4743 2011-01-01    MALE  HISPANIC      MICHAEL  174   16\n",
       "4710 2011-01-01    MALE  HISPANIC        MASON  173   17\n",
       "1917 2011-01-01  FEMALE  HISPANIC        SOFIA  165    6\n",
       "1329 2011-01-01  FEMALE  HISPANIC        EMILY  162    7\n",
       "4401 2011-01-01    MALE  HISPANIC      GABRIEL  158   18\n",
       "4086 2011-01-01    MALE  HISPANIC       ADRIAN  157   19\n",
       "4770 2011-01-01    MALE  HISPANIC         NOAH  157   19\n",
       "4245 2011-01-01    MALE  HISPANIC    CHRISTIAN  151   20\n",
       "...         ...     ...       ...          ...  ...  ...\n",
       "1575 2011-01-01  FEMALE  HISPANIC     KATELYNN   10   78\n",
       "4644 2011-01-01    MALE  HISPANIC        LARRY   10   94\n",
       "1254 2011-01-01  FEMALE  HISPANIC     CRISTINA   10   78\n",
       "1260 2011-01-01  FEMALE  HISPANIC      CYNTHIA   10   78\n",
       "1500 2011-01-01  FEMALE  HISPANIC       JAYLYN   10   78\n",
       "1791 2011-01-01  FEMALE  HISPANIC     NATHALIA   10   78\n",
       "1482 2011-01-01  FEMALE  HISPANIC        JAYDA   10   78\n",
       "4545 2011-01-01    MALE  HISPANIC        JESSE   10   94\n",
       "4416 2011-01-01    MALE  HISPANIC      GIOVANI   10   94\n",
       "4521 2011-01-01    MALE  HISPANIC   JEANCARLOS   10   94\n",
       "1437 2011-01-01  FEMALE  HISPANIC      ISABELA   10   78\n",
       "1431 2011-01-01  FEMALE  HISPANIC         IRIS   10   78\n",
       "4215 2011-01-01    MALE  HISPANIC        BRYCE   10   94\n",
       "4701 2011-01-01    MALE  HISPANIC       MARLON   10   94\n",
       "1623 2011-01-01  FEMALE  HISPANIC        KYLEE   10   78\n",
       "1641 2011-01-01  FEMALE  HISPANIC          LEA   10   78\n",
       "4488 2011-01-01    MALE  HISPANIC       JANIEL   10   94\n",
       "1203 2011-01-01  FEMALE  HISPANIC      BRIANNY   10   78\n",
       "4173 2011-01-01    MALE  HISPANIC       ARTURO   10   94\n",
       "1662 2011-01-01  FEMALE  HISPANIC        LEYLA   10   78\n",
       "4140 2011-01-01    MALE  HISPANIC        ANDRE   10   94\n",
       "4131 2011-01-01    MALE  HISPANIC        ALVIN   10   94\n",
       "4125 2011-01-01    MALE  HISPANIC        ALLAN   10   94\n",
       "1716 2011-01-01  FEMALE  HISPANIC      MARILYN   10   78\n",
       "1719 2011-01-01  FEMALE  HISPANIC      MARISOL   10   78\n",
       "4107 2011-01-01    MALE  HISPANIC         ALDO   10   94\n",
       "1155 2011-01-01  FEMALE  HISPANIC      ARIANNY   10   78\n",
       "1773 2011-01-01  FEMALE  HISPANIC        NANCY   10   78\n",
       "1962 2011-01-01  FEMALE  HISPANIC     VERONICA   10   78\n",
       "1845 2011-01-01  FEMALE  HISPANIC         ROSA   10   78\n",
       "\n",
       "[618 rows x 6 columns]"
      ]
     },
     "execution_count": 186,
     "metadata": {},
     "output_type": "execute_result"
    }
   ],
   "source": [
    "G2.sort('CNT', ascending=False)"
   ]
  },
  {
   "cell_type": "code",
   "execution_count": 187,
   "metadata": {
    "collapsed": false
   },
   "outputs": [
    {
     "data": {
      "text/html": [
       "<div style=\"max-height:1000px;max-width:1500px;overflow:auto;\">\n",
       "<table border=\"1\" class=\"dataframe\">\n",
       "  <thead>\n",
       "    <tr style=\"text-align: right;\">\n",
       "      <th></th>\n",
       "      <th></th>\n",
       "      <th>NM</th>\n",
       "    </tr>\n",
       "    <tr>\n",
       "      <th>ETHCTY</th>\n",
       "      <th>RNK</th>\n",
       "      <th></th>\n",
       "    </tr>\n",
       "  </thead>\n",
       "  <tbody>\n",
       "    <tr>\n",
       "      <th rowspan=\"30\" valign=\"top\">ASIAN AND PACIFIC ISLANDER</th>\n",
       "      <th>1 </th>\n",
       "      <td>   SOPHIA</td>\n",
       "    </tr>\n",
       "    <tr>\n",
       "      <th>2 </th>\n",
       "      <td>   JAYDEN</td>\n",
       "    </tr>\n",
       "    <tr>\n",
       "      <th>3 </th>\n",
       "      <td>     RYAN</td>\n",
       "    </tr>\n",
       "    <tr>\n",
       "      <th>4 </th>\n",
       "      <td>   OLIVIA</td>\n",
       "    </tr>\n",
       "    <tr>\n",
       "      <th>5 </th>\n",
       "      <td>    LUCAS</td>\n",
       "    </tr>\n",
       "    <tr>\n",
       "      <th>6 </th>\n",
       "      <td>    JASON</td>\n",
       "    </tr>\n",
       "    <tr>\n",
       "      <th>7 </th>\n",
       "      <td>  TIFFANY</td>\n",
       "    </tr>\n",
       "    <tr>\n",
       "      <th>8 </th>\n",
       "      <td>    KEVIN</td>\n",
       "    </tr>\n",
       "    <tr>\n",
       "      <th>9 </th>\n",
       "      <td>    FIONA</td>\n",
       "    </tr>\n",
       "    <tr>\n",
       "      <th>10</th>\n",
       "      <td>   DANIEL</td>\n",
       "    </tr>\n",
       "    <tr>\n",
       "      <th>11</th>\n",
       "      <td>   VIVIAN</td>\n",
       "    </tr>\n",
       "    <tr>\n",
       "      <th>12</th>\n",
       "      <td> MICHELLE</td>\n",
       "    </tr>\n",
       "    <tr>\n",
       "      <th>13</th>\n",
       "      <td>  VINCENT</td>\n",
       "    </tr>\n",
       "    <tr>\n",
       "      <th>14</th>\n",
       "      <td>      MIA</td>\n",
       "    </tr>\n",
       "    <tr>\n",
       "      <th>15</th>\n",
       "      <td>  WILLIAM</td>\n",
       "    </tr>\n",
       "    <tr>\n",
       "      <th>16</th>\n",
       "      <td>   NICOLE</td>\n",
       "    </tr>\n",
       "    <tr>\n",
       "      <th>17</th>\n",
       "      <td>    VICKY</td>\n",
       "    </tr>\n",
       "    <tr>\n",
       "      <th>18</th>\n",
       "      <td>  JASMINE</td>\n",
       "    </tr>\n",
       "    <tr>\n",
       "      <th>19</th>\n",
       "      <td>     EVAN</td>\n",
       "    </tr>\n",
       "    <tr>\n",
       "      <th>20</th>\n",
       "      <td> JONATHAN</td>\n",
       "    </tr>\n",
       "    <tr>\n",
       "      <th>21</th>\n",
       "      <td>     MAYA</td>\n",
       "    </tr>\n",
       "    <tr>\n",
       "      <th>22</th>\n",
       "      <td>   TENZIN</td>\n",
       "    </tr>\n",
       "    <tr>\n",
       "      <th>23</th>\n",
       "      <td>      ZOE</td>\n",
       "    </tr>\n",
       "    <tr>\n",
       "      <th>24</th>\n",
       "      <td>     SARA</td>\n",
       "    </tr>\n",
       "    <tr>\n",
       "      <th>25</th>\n",
       "      <td>   ZAINAB</td>\n",
       "    </tr>\n",
       "    <tr>\n",
       "      <th>26</th>\n",
       "      <td> VICTORIA</td>\n",
       "    </tr>\n",
       "    <tr>\n",
       "      <th>27</th>\n",
       "      <td>     NINA</td>\n",
       "    </tr>\n",
       "    <tr>\n",
       "      <th>28</th>\n",
       "      <td>   SHARON</td>\n",
       "    </tr>\n",
       "    <tr>\n",
       "      <th>29</th>\n",
       "      <td>    ZAHRA</td>\n",
       "    </tr>\n",
       "    <tr>\n",
       "      <th>30</th>\n",
       "      <td>      XIN</td>\n",
       "    </tr>\n",
       "    <tr>\n",
       "      <th>...</th>\n",
       "      <th>...</th>\n",
       "      <td>...</td>\n",
       "    </tr>\n",
       "    <tr>\n",
       "      <th rowspan=\"30\" valign=\"top\">WHITE NON HISPANIC</th>\n",
       "      <th>68</th>\n",
       "      <td>  YEHUDIS</td>\n",
       "    </tr>\n",
       "    <tr>\n",
       "      <th>69</th>\n",
       "      <td> VERONICA</td>\n",
       "    </tr>\n",
       "    <tr>\n",
       "      <th>70</th>\n",
       "      <td>     ZOEY</td>\n",
       "    </tr>\n",
       "    <tr>\n",
       "      <th>71</th>\n",
       "      <td> YOCHEVED</td>\n",
       "    </tr>\n",
       "    <tr>\n",
       "      <th>72</th>\n",
       "      <td>     VERA</td>\n",
       "    </tr>\n",
       "    <tr>\n",
       "      <th>73</th>\n",
       "      <td>   VICTOR</td>\n",
       "    </tr>\n",
       "    <tr>\n",
       "      <th>74</th>\n",
       "      <td>   SLOANE</td>\n",
       "    </tr>\n",
       "    <tr>\n",
       "      <th>75</th>\n",
       "      <td>   SUMMER</td>\n",
       "    </tr>\n",
       "    <tr>\n",
       "      <th>76</th>\n",
       "      <td>   SIMONE</td>\n",
       "    </tr>\n",
       "    <tr>\n",
       "      <th>77</th>\n",
       "      <td>  VANESSA</td>\n",
       "    </tr>\n",
       "    <tr>\n",
       "      <th>78</th>\n",
       "      <td>   YACHET</td>\n",
       "    </tr>\n",
       "    <tr>\n",
       "      <th>79</th>\n",
       "      <td>  TZIPORA</td>\n",
       "    </tr>\n",
       "    <tr>\n",
       "      <th>80</th>\n",
       "      <td>  YECHIEL</td>\n",
       "    </tr>\n",
       "    <tr>\n",
       "      <th>81</th>\n",
       "      <td>  YASMINE</td>\n",
       "    </tr>\n",
       "    <tr>\n",
       "      <th>82</th>\n",
       "      <td>    WYATT</td>\n",
       "    </tr>\n",
       "    <tr>\n",
       "      <th>83</th>\n",
       "      <td>  TRISTAN</td>\n",
       "    </tr>\n",
       "    <tr>\n",
       "      <th>84</th>\n",
       "      <td>    LOUIS</td>\n",
       "    </tr>\n",
       "    <tr>\n",
       "      <th>85</th>\n",
       "      <td> YEHOSHUA</td>\n",
       "    </tr>\n",
       "    <tr>\n",
       "      <th>86</th>\n",
       "      <td>   SHOLOM</td>\n",
       "    </tr>\n",
       "    <tr>\n",
       "      <th>87</th>\n",
       "      <td>     YOEL</td>\n",
       "    </tr>\n",
       "    <tr>\n",
       "      <th>88</th>\n",
       "      <td>    ROCCO</td>\n",
       "    </tr>\n",
       "    <tr>\n",
       "      <th>89</th>\n",
       "      <td>   XAVIER</td>\n",
       "    </tr>\n",
       "    <tr>\n",
       "      <th>90</th>\n",
       "      <td> YITZCHAK</td>\n",
       "    </tr>\n",
       "    <tr>\n",
       "      <th>91</th>\n",
       "      <td>     SHEA</td>\n",
       "    </tr>\n",
       "    <tr>\n",
       "      <th>92</th>\n",
       "      <td>  SPENCER</td>\n",
       "    </tr>\n",
       "    <tr>\n",
       "      <th>93</th>\n",
       "      <td>   ZALMEN</td>\n",
       "    </tr>\n",
       "    <tr>\n",
       "      <th>94</th>\n",
       "      <td>     YIDA</td>\n",
       "    </tr>\n",
       "    <tr>\n",
       "      <th>95</th>\n",
       "      <td>   YOUSEF</td>\n",
       "    </tr>\n",
       "    <tr>\n",
       "      <th>96</th>\n",
       "      <td>  YOUSSEF</td>\n",
       "    </tr>\n",
       "    <tr>\n",
       "      <th>97</th>\n",
       "      <td>    YONAH</td>\n",
       "    </tr>\n",
       "  </tbody>\n",
       "</table>\n",
       "<p>311 rows × 1 columns</p>\n",
       "</div>"
      ],
      "text/plain": [
       "                                      NM\n",
       "ETHCTY                     RNK          \n",
       "ASIAN AND PACIFIC ISLANDER 1      SOPHIA\n",
       "                           2      JAYDEN\n",
       "                           3        RYAN\n",
       "                           4      OLIVIA\n",
       "                           5       LUCAS\n",
       "                           6       JASON\n",
       "                           7     TIFFANY\n",
       "                           8       KEVIN\n",
       "                           9       FIONA\n",
       "                           10     DANIEL\n",
       "                           11     VIVIAN\n",
       "                           12   MICHELLE\n",
       "                           13    VINCENT\n",
       "                           14        MIA\n",
       "                           15    WILLIAM\n",
       "                           16     NICOLE\n",
       "                           17      VICKY\n",
       "                           18    JASMINE\n",
       "                           19       EVAN\n",
       "                           20   JONATHAN\n",
       "                           21       MAYA\n",
       "                           22     TENZIN\n",
       "                           23        ZOE\n",
       "                           24       SARA\n",
       "                           25     ZAINAB\n",
       "                           26   VICTORIA\n",
       "                           27       NINA\n",
       "                           28     SHARON\n",
       "                           29      ZAHRA\n",
       "                           30        XIN\n",
       "...                                  ...\n",
       "WHITE NON HISPANIC         68    YEHUDIS\n",
       "                           69   VERONICA\n",
       "                           70       ZOEY\n",
       "                           71   YOCHEVED\n",
       "                           72       VERA\n",
       "                           73     VICTOR\n",
       "                           74     SLOANE\n",
       "                           75     SUMMER\n",
       "                           76     SIMONE\n",
       "                           77    VANESSA\n",
       "                           78     YACHET\n",
       "                           79    TZIPORA\n",
       "                           80    YECHIEL\n",
       "                           81    YASMINE\n",
       "                           82      WYATT\n",
       "                           83    TRISTAN\n",
       "                           84      LOUIS\n",
       "                           85   YEHOSHUA\n",
       "                           86     SHOLOM\n",
       "                           87       YOEL\n",
       "                           88      ROCCO\n",
       "                           89     XAVIER\n",
       "                           90   YITZCHAK\n",
       "                           91       SHEA\n",
       "                           92    SPENCER\n",
       "                           93     ZALMEN\n",
       "                           94       YIDA\n",
       "                           95     YOUSEF\n",
       "                           96    YOUSSEF\n",
       "                           97      YONAH\n",
       "\n",
       "[311 rows x 1 columns]"
      ]
     },
     "execution_count": 187,
     "metadata": {},
     "output_type": "execute_result"
    }
   ],
   "source": [
    "no_dupes.pivot_table(index=['ETHCTY','RNK'],values=['NM'],aggfunc = max)"
   ]
  },
  {
   "cell_type": "code",
   "execution_count": 188,
   "metadata": {
    "collapsed": true
   },
   "outputs": [],
   "source": [
    "df3 = no_dupes.groupby(['NM']).agg({'CNT':sum})"
   ]
  },
  {
   "cell_type": "code",
   "execution_count": 189,
   "metadata": {
    "collapsed": false
   },
   "outputs": [
    {
     "data": {
      "text/html": [
       "<div style=\"max-height:1000px;max-width:1500px;overflow:auto;\">\n",
       "<table border=\"1\" class=\"dataframe\">\n",
       "  <thead>\n",
       "    <tr style=\"text-align: right;\">\n",
       "      <th></th>\n",
       "      <th>CNT</th>\n",
       "    </tr>\n",
       "    <tr>\n",
       "      <th>NM</th>\n",
       "      <th></th>\n",
       "    </tr>\n",
       "  </thead>\n",
       "  <tbody>\n",
       "    <tr>\n",
       "      <th>AALIYAH</th>\n",
       "      <td> 132</td>\n",
       "    </tr>\n",
       "    <tr>\n",
       "      <th>AARAV</th>\n",
       "      <td>  15</td>\n",
       "    </tr>\n",
       "    <tr>\n",
       "      <th>AARON</th>\n",
       "      <td> 273</td>\n",
       "    </tr>\n",
       "    <tr>\n",
       "      <th>ABBY</th>\n",
       "      <td>  10</td>\n",
       "    </tr>\n",
       "    <tr>\n",
       "      <th>ABDIEL</th>\n",
       "      <td>  12</td>\n",
       "    </tr>\n",
       "  </tbody>\n",
       "</table>\n",
       "</div>"
      ],
      "text/plain": [
       "         CNT\n",
       "NM          \n",
       "AALIYAH  132\n",
       "AARAV     15\n",
       "AARON    273\n",
       "ABBY      10\n",
       "ABDIEL    12"
      ]
     },
     "execution_count": 189,
     "metadata": {},
     "output_type": "execute_result"
    }
   ],
   "source": [
    "df3.head()"
   ]
  },
  {
   "cell_type": "code",
   "execution_count": 190,
   "metadata": {
    "collapsed": false
   },
   "outputs": [
    {
     "data": {
      "text/html": [
       "<div style=\"max-height:1000px;max-width:1500px;overflow:auto;\">\n",
       "<table border=\"1\" class=\"dataframe\">\n",
       "  <thead>\n",
       "    <tr style=\"text-align: right;\">\n",
       "      <th></th>\n",
       "      <th>CNT</th>\n",
       "    </tr>\n",
       "    <tr>\n",
       "      <th>NM</th>\n",
       "      <th></th>\n",
       "    </tr>\n",
       "  </thead>\n",
       "  <tbody>\n",
       "    <tr>\n",
       "      <th>JAYDEN</th>\n",
       "      <td> 822</td>\n",
       "    </tr>\n",
       "    <tr>\n",
       "      <th>JACOB</th>\n",
       "      <td> 699</td>\n",
       "    </tr>\n",
       "    <tr>\n",
       "      <th>ETHAN</th>\n",
       "      <td> 670</td>\n",
       "    </tr>\n",
       "    <tr>\n",
       "      <th>MATTHEW</th>\n",
       "      <td> 598</td>\n",
       "    </tr>\n",
       "    <tr>\n",
       "      <th>MICHAEL</th>\n",
       "      <td> 597</td>\n",
       "    </tr>\n",
       "    <tr>\n",
       "      <th>DANIEL</th>\n",
       "      <td> 596</td>\n",
       "    </tr>\n",
       "    <tr>\n",
       "      <th>ISABELLA</th>\n",
       "      <td> 593</td>\n",
       "    </tr>\n",
       "    <tr>\n",
       "      <th>SOPHIA</th>\n",
       "      <td> 552</td>\n",
       "    </tr>\n",
       "    <tr>\n",
       "      <th>JUSTIN</th>\n",
       "      <td> 551</td>\n",
       "    </tr>\n",
       "    <tr>\n",
       "      <th>DAVID</th>\n",
       "      <td> 548</td>\n",
       "    </tr>\n",
       "    <tr>\n",
       "      <th>AIDEN</th>\n",
       "      <td> 529</td>\n",
       "    </tr>\n",
       "    <tr>\n",
       "      <th>ALEXANDER</th>\n",
       "      <td> 502</td>\n",
       "    </tr>\n",
       "    <tr>\n",
       "      <th>JOSEPH</th>\n",
       "      <td> 477</td>\n",
       "    </tr>\n",
       "    <tr>\n",
       "      <th>ANTHONY</th>\n",
       "      <td> 454</td>\n",
       "    </tr>\n",
       "    <tr>\n",
       "      <th>RYAN</th>\n",
       "      <td> 453</td>\n",
       "    </tr>\n",
       "    <tr>\n",
       "      <th>JOSHUA</th>\n",
       "      <td> 443</td>\n",
       "    </tr>\n",
       "    <tr>\n",
       "      <th>OLIVIA</th>\n",
       "      <td> 440</td>\n",
       "    </tr>\n",
       "    <tr>\n",
       "      <th>CHRISTOPHER</th>\n",
       "      <td> 432</td>\n",
       "    </tr>\n",
       "    <tr>\n",
       "      <th>EMMA</th>\n",
       "      <td> 417</td>\n",
       "    </tr>\n",
       "    <tr>\n",
       "      <th>MIA</th>\n",
       "      <td> 417</td>\n",
       "    </tr>\n",
       "    <tr>\n",
       "      <th>EMILY</th>\n",
       "      <td> 404</td>\n",
       "    </tr>\n",
       "    <tr>\n",
       "      <th>DYLAN</th>\n",
       "      <td> 389</td>\n",
       "    </tr>\n",
       "    <tr>\n",
       "      <th>MADISON</th>\n",
       "      <td> 374</td>\n",
       "    </tr>\n",
       "    <tr>\n",
       "      <th>NOAH</th>\n",
       "      <td> 366</td>\n",
       "    </tr>\n",
       "    <tr>\n",
       "      <th>LUCAS</th>\n",
       "      <td> 365</td>\n",
       "    </tr>\n",
       "    <tr>\n",
       "      <th>MASON</th>\n",
       "      <td> 365</td>\n",
       "    </tr>\n",
       "    <tr>\n",
       "      <th>ANDREW</th>\n",
       "      <td> 364</td>\n",
       "    </tr>\n",
       "    <tr>\n",
       "      <th>LEAH</th>\n",
       "      <td> 361</td>\n",
       "    </tr>\n",
       "    <tr>\n",
       "      <th>WILLIAM</th>\n",
       "      <td> 361</td>\n",
       "    </tr>\n",
       "    <tr>\n",
       "      <th>JONATHAN</th>\n",
       "      <td> 357</td>\n",
       "    </tr>\n",
       "    <tr>\n",
       "      <th>...</th>\n",
       "      <td>...</td>\n",
       "    </tr>\n",
       "    <tr>\n",
       "      <th>CELIA</th>\n",
       "      <td>  10</td>\n",
       "    </tr>\n",
       "    <tr>\n",
       "      <th>CASSANDRA</th>\n",
       "      <td>  10</td>\n",
       "    </tr>\n",
       "    <tr>\n",
       "      <th>NOSSON</th>\n",
       "      <td>  10</td>\n",
       "    </tr>\n",
       "    <tr>\n",
       "      <th>TOMAS</th>\n",
       "      <td>  10</td>\n",
       "    </tr>\n",
       "    <tr>\n",
       "      <th>AUGUSTUS</th>\n",
       "      <td>  10</td>\n",
       "    </tr>\n",
       "    <tr>\n",
       "      <th>SHAUL</th>\n",
       "      <td>  10</td>\n",
       "    </tr>\n",
       "    <tr>\n",
       "      <th>LEYLA</th>\n",
       "      <td>  10</td>\n",
       "    </tr>\n",
       "    <tr>\n",
       "      <th>WESLEY</th>\n",
       "      <td>  10</td>\n",
       "    </tr>\n",
       "    <tr>\n",
       "      <th>MIRI</th>\n",
       "      <td>  10</td>\n",
       "    </tr>\n",
       "    <tr>\n",
       "      <th>AYLA</th>\n",
       "      <td>  10</td>\n",
       "    </tr>\n",
       "    <tr>\n",
       "      <th>DERRICK</th>\n",
       "      <td>  10</td>\n",
       "    </tr>\n",
       "    <tr>\n",
       "      <th>LEV</th>\n",
       "      <td>  10</td>\n",
       "    </tr>\n",
       "    <tr>\n",
       "      <th>SHEVY</th>\n",
       "      <td>  10</td>\n",
       "    </tr>\n",
       "    <tr>\n",
       "      <th>FRIMET</th>\n",
       "      <td>  10</td>\n",
       "    </tr>\n",
       "    <tr>\n",
       "      <th>BENNETT</th>\n",
       "      <td>  10</td>\n",
       "    </tr>\n",
       "    <tr>\n",
       "      <th>LEELA</th>\n",
       "      <td>  10</td>\n",
       "    </tr>\n",
       "    <tr>\n",
       "      <th>BERISH</th>\n",
       "      <td>  10</td>\n",
       "    </tr>\n",
       "    <tr>\n",
       "      <th>LARRY</th>\n",
       "      <td>  10</td>\n",
       "    </tr>\n",
       "    <tr>\n",
       "      <th>BONNIE</th>\n",
       "      <td>  10</td>\n",
       "    </tr>\n",
       "    <tr>\n",
       "      <th>KYLEE</th>\n",
       "      <td>  10</td>\n",
       "    </tr>\n",
       "    <tr>\n",
       "      <th>BRIANNY</th>\n",
       "      <td>  10</td>\n",
       "    </tr>\n",
       "    <tr>\n",
       "      <th>PAOLA</th>\n",
       "      <td>  10</td>\n",
       "    </tr>\n",
       "    <tr>\n",
       "      <th>RODNEY</th>\n",
       "      <td>  10</td>\n",
       "    </tr>\n",
       "    <tr>\n",
       "      <th>JAYLYN</th>\n",
       "      <td>  10</td>\n",
       "    </tr>\n",
       "    <tr>\n",
       "      <th>CADEN</th>\n",
       "      <td>  10</td>\n",
       "    </tr>\n",
       "    <tr>\n",
       "      <th>TZIPPY</th>\n",
       "      <td>  10</td>\n",
       "    </tr>\n",
       "    <tr>\n",
       "      <th>TZIPORAH</th>\n",
       "      <td>  10</td>\n",
       "    </tr>\n",
       "    <tr>\n",
       "      <th>KENYA</th>\n",
       "      <td>  10</td>\n",
       "    </tr>\n",
       "    <tr>\n",
       "      <th>JEANCARLOS</th>\n",
       "      <td>  10</td>\n",
       "    </tr>\n",
       "    <tr>\n",
       "      <th>ROSA</th>\n",
       "      <td>  10</td>\n",
       "    </tr>\n",
       "  </tbody>\n",
       "</table>\n",
       "<p>1206 rows × 1 columns</p>\n",
       "</div>"
      ],
      "text/plain": [
       "             CNT\n",
       "NM              \n",
       "JAYDEN       822\n",
       "JACOB        699\n",
       "ETHAN        670\n",
       "MATTHEW      598\n",
       "MICHAEL      597\n",
       "DANIEL       596\n",
       "ISABELLA     593\n",
       "SOPHIA       552\n",
       "JUSTIN       551\n",
       "DAVID        548\n",
       "AIDEN        529\n",
       "ALEXANDER    502\n",
       "JOSEPH       477\n",
       "ANTHONY      454\n",
       "RYAN         453\n",
       "JOSHUA       443\n",
       "OLIVIA       440\n",
       "CHRISTOPHER  432\n",
       "EMMA         417\n",
       "MIA          417\n",
       "EMILY        404\n",
       "DYLAN        389\n",
       "MADISON      374\n",
       "NOAH         366\n",
       "LUCAS        365\n",
       "MASON        365\n",
       "ANDREW       364\n",
       "LEAH         361\n",
       "WILLIAM      361\n",
       "JONATHAN     357\n",
       "...          ...\n",
       "CELIA         10\n",
       "CASSANDRA     10\n",
       "NOSSON        10\n",
       "TOMAS         10\n",
       "AUGUSTUS      10\n",
       "SHAUL         10\n",
       "LEYLA         10\n",
       "WESLEY        10\n",
       "MIRI          10\n",
       "AYLA          10\n",
       "DERRICK       10\n",
       "LEV           10\n",
       "SHEVY         10\n",
       "FRIMET        10\n",
       "BENNETT       10\n",
       "LEELA         10\n",
       "BERISH        10\n",
       "LARRY         10\n",
       "BONNIE        10\n",
       "KYLEE         10\n",
       "BRIANNY       10\n",
       "PAOLA         10\n",
       "RODNEY        10\n",
       "JAYLYN        10\n",
       "CADEN         10\n",
       "TZIPPY        10\n",
       "TZIPORAH      10\n",
       "KENYA         10\n",
       "JEANCARLOS    10\n",
       "ROSA          10\n",
       "\n",
       "[1206 rows x 1 columns]"
      ]
     },
     "execution_count": 190,
     "metadata": {},
     "output_type": "execute_result"
    }
   ],
   "source": [
    "df3.sort('CNT', ascending=False)"
   ]
  },
  {
   "cell_type": "code",
   "execution_count": 191,
   "metadata": {
    "collapsed": true
   },
   "outputs": [],
   "source": [
    "df4 = no_dupes.groupby(['GNDR','RNK']).max()"
   ]
  },
  {
   "cell_type": "code",
   "execution_count": 192,
   "metadata": {
    "collapsed": false
   },
   "outputs": [
    {
     "data": {
      "text/html": [
       "<div style=\"max-height:1000px;max-width:1500px;overflow:auto;\">\n",
       "<table border=\"1\" class=\"dataframe\">\n",
       "  <thead>\n",
       "    <tr style=\"text-align: right;\">\n",
       "      <th></th>\n",
       "      <th></th>\n",
       "      <th>BRTH_YR</th>\n",
       "      <th>ETHCTY</th>\n",
       "      <th>NM</th>\n",
       "      <th>CNT</th>\n",
       "    </tr>\n",
       "    <tr>\n",
       "      <th>GNDR</th>\n",
       "      <th>RNK</th>\n",
       "      <th></th>\n",
       "      <th></th>\n",
       "      <th></th>\n",
       "      <th></th>\n",
       "    </tr>\n",
       "  </thead>\n",
       "  <tbody>\n",
       "    <tr>\n",
       "      <th rowspan=\"30\" valign=\"top\">FEMALE</th>\n",
       "      <th>1 </th>\n",
       "      <td>2011-01-01</td>\n",
       "      <td> WHITE NON HISPANIC</td>\n",
       "      <td>   SOPHIA</td>\n",
       "      <td> 331</td>\n",
       "    </tr>\n",
       "    <tr>\n",
       "      <th>2 </th>\n",
       "      <td>2011-01-01</td>\n",
       "      <td> WHITE NON HISPANIC</td>\n",
       "      <td>   OLIVIA</td>\n",
       "      <td> 229</td>\n",
       "    </tr>\n",
       "    <tr>\n",
       "      <th>3 </th>\n",
       "      <td>2011-01-01</td>\n",
       "      <td> WHITE NON HISPANIC</td>\n",
       "      <td>   SOPHIA</td>\n",
       "      <td> 223</td>\n",
       "    </tr>\n",
       "    <tr>\n",
       "      <th>4 </th>\n",
       "      <td>2011-01-01</td>\n",
       "      <td> WHITE NON HISPANIC</td>\n",
       "      <td>   SOPHIA</td>\n",
       "      <td> 190</td>\n",
       "    </tr>\n",
       "    <tr>\n",
       "      <th>5 </th>\n",
       "      <td>2011-01-01</td>\n",
       "      <td> WHITE NON HISPANIC</td>\n",
       "      <td>     EMMA</td>\n",
       "      <td> 188</td>\n",
       "    </tr>\n",
       "    <tr>\n",
       "      <th>6 </th>\n",
       "      <td>2011-01-01</td>\n",
       "      <td> WHITE NON HISPANIC</td>\n",
       "      <td>    SOFIA</td>\n",
       "      <td> 177</td>\n",
       "    </tr>\n",
       "    <tr>\n",
       "      <th>7 </th>\n",
       "      <td>2011-01-01</td>\n",
       "      <td> WHITE NON HISPANIC</td>\n",
       "      <td>  TIFFANY</td>\n",
       "      <td> 171</td>\n",
       "    </tr>\n",
       "    <tr>\n",
       "      <th>8 </th>\n",
       "      <td>2011-01-01</td>\n",
       "      <td> WHITE NON HISPANIC</td>\n",
       "      <td>   HAILEY</td>\n",
       "      <td> 162</td>\n",
       "    </tr>\n",
       "    <tr>\n",
       "      <th>9 </th>\n",
       "      <td>2011-01-01</td>\n",
       "      <td> WHITE NON HISPANIC</td>\n",
       "      <td>   TAYLOR</td>\n",
       "      <td> 160</td>\n",
       "    </tr>\n",
       "    <tr>\n",
       "      <th>10</th>\n",
       "      <td>2011-01-01</td>\n",
       "      <td> WHITE NON HISPANIC</td>\n",
       "      <td> SERENITY</td>\n",
       "      <td> 132</td>\n",
       "    </tr>\n",
       "    <tr>\n",
       "      <th>11</th>\n",
       "      <td>2011-01-01</td>\n",
       "      <td> WHITE NON HISPANIC</td>\n",
       "      <td>   VIVIAN</td>\n",
       "      <td> 131</td>\n",
       "    </tr>\n",
       "    <tr>\n",
       "      <th>12</th>\n",
       "      <td>2011-01-01</td>\n",
       "      <td> WHITE NON HISPANIC</td>\n",
       "      <td> MICHELLE</td>\n",
       "      <td> 127</td>\n",
       "    </tr>\n",
       "    <tr>\n",
       "      <th>13</th>\n",
       "      <td>2011-01-01</td>\n",
       "      <td> WHITE NON HISPANIC</td>\n",
       "      <td>      ZOE</td>\n",
       "      <td> 122</td>\n",
       "    </tr>\n",
       "    <tr>\n",
       "      <th>14</th>\n",
       "      <td>2011-01-01</td>\n",
       "      <td> WHITE NON HISPANIC</td>\n",
       "      <td> SAVANNAH</td>\n",
       "      <td> 119</td>\n",
       "    </tr>\n",
       "    <tr>\n",
       "      <th>15</th>\n",
       "      <td>2011-01-01</td>\n",
       "      <td> WHITE NON HISPANIC</td>\n",
       "      <td>    SARAH</td>\n",
       "      <td> 116</td>\n",
       "    </tr>\n",
       "    <tr>\n",
       "      <th>16</th>\n",
       "      <td>2011-01-01</td>\n",
       "      <td> WHITE NON HISPANIC</td>\n",
       "      <td>    RIVKA</td>\n",
       "      <td> 113</td>\n",
       "    </tr>\n",
       "    <tr>\n",
       "      <th>17</th>\n",
       "      <td>2011-01-01</td>\n",
       "      <td> WHITE NON HISPANIC</td>\n",
       "      <td>    VICKY</td>\n",
       "      <td> 109</td>\n",
       "    </tr>\n",
       "    <tr>\n",
       "      <th>18</th>\n",
       "      <td>2011-01-01</td>\n",
       "      <td> WHITE NON HISPANIC</td>\n",
       "      <td>     SARA</td>\n",
       "      <td> 107</td>\n",
       "    </tr>\n",
       "    <tr>\n",
       "      <th>19</th>\n",
       "      <td>2011-01-01</td>\n",
       "      <td> WHITE NON HISPANIC</td>\n",
       "      <td> VICTORIA</td>\n",
       "      <td> 103</td>\n",
       "    </tr>\n",
       "    <tr>\n",
       "      <th>20</th>\n",
       "      <td>2011-01-01</td>\n",
       "      <td> WHITE NON HISPANIC</td>\n",
       "      <td>   KAYLEE</td>\n",
       "      <td> 102</td>\n",
       "    </tr>\n",
       "    <tr>\n",
       "      <th>21</th>\n",
       "      <td>2011-01-01</td>\n",
       "      <td> WHITE NON HISPANIC</td>\n",
       "      <td>    NAOMI</td>\n",
       "      <td> 100</td>\n",
       "    </tr>\n",
       "    <tr>\n",
       "      <th>22</th>\n",
       "      <td>2011-01-01</td>\n",
       "      <td> WHITE NON HISPANIC</td>\n",
       "      <td>   TENZIN</td>\n",
       "      <td>  95</td>\n",
       "    </tr>\n",
       "    <tr>\n",
       "      <th>23</th>\n",
       "      <td>2011-01-01</td>\n",
       "      <td> WHITE NON HISPANIC</td>\n",
       "      <td>      ZOE</td>\n",
       "      <td>  94</td>\n",
       "    </tr>\n",
       "    <tr>\n",
       "      <th>24</th>\n",
       "      <td>2011-01-01</td>\n",
       "      <td> WHITE NON HISPANIC</td>\n",
       "      <td>     SARA</td>\n",
       "      <td>  93</td>\n",
       "    </tr>\n",
       "    <tr>\n",
       "      <th>25</th>\n",
       "      <td>2011-01-01</td>\n",
       "      <td> WHITE NON HISPANIC</td>\n",
       "      <td>   ZAINAB</td>\n",
       "      <td>  85</td>\n",
       "    </tr>\n",
       "    <tr>\n",
       "      <th>26</th>\n",
       "      <td>2011-01-01</td>\n",
       "      <td> WHITE NON HISPANIC</td>\n",
       "      <td>     ZOEY</td>\n",
       "      <td>  84</td>\n",
       "    </tr>\n",
       "    <tr>\n",
       "      <th>27</th>\n",
       "      <td>2011-01-01</td>\n",
       "      <td> WHITE NON HISPANIC</td>\n",
       "      <td>  TRINITY</td>\n",
       "      <td>  82</td>\n",
       "    </tr>\n",
       "    <tr>\n",
       "      <th>28</th>\n",
       "      <td>2011-01-01</td>\n",
       "      <td> WHITE NON HISPANIC</td>\n",
       "      <td>      ZOE</td>\n",
       "      <td>  81</td>\n",
       "    </tr>\n",
       "    <tr>\n",
       "      <th>29</th>\n",
       "      <td>2011-01-01</td>\n",
       "      <td> WHITE NON HISPANIC</td>\n",
       "      <td>    ZAHRA</td>\n",
       "      <td>  74</td>\n",
       "    </tr>\n",
       "    <tr>\n",
       "      <th>30</th>\n",
       "      <td>2011-01-01</td>\n",
       "      <td> WHITE NON HISPANIC</td>\n",
       "      <td>      XIN</td>\n",
       "      <td>  72</td>\n",
       "    </tr>\n",
       "    <tr>\n",
       "      <th>...</th>\n",
       "      <th>...</th>\n",
       "      <td>...</td>\n",
       "      <td>...</td>\n",
       "      <td>...</td>\n",
       "      <td>...</td>\n",
       "    </tr>\n",
       "    <tr>\n",
       "      <th rowspan=\"30\" valign=\"top\">MALE</th>\n",
       "      <th>68</th>\n",
       "      <td>2011-01-01</td>\n",
       "      <td> WHITE NON HISPANIC</td>\n",
       "      <td>   JAYDEN</td>\n",
       "      <td>  39</td>\n",
       "    </tr>\n",
       "    <tr>\n",
       "      <th>69</th>\n",
       "      <td>2011-01-01</td>\n",
       "      <td> WHITE NON HISPANIC</td>\n",
       "      <td>   ROBERT</td>\n",
       "      <td>  38</td>\n",
       "    </tr>\n",
       "    <tr>\n",
       "      <th>70</th>\n",
       "      <td>2011-01-01</td>\n",
       "      <td> WHITE NON HISPANIC</td>\n",
       "      <td>  TRISTAN</td>\n",
       "      <td>  37</td>\n",
       "    </tr>\n",
       "    <tr>\n",
       "      <th>71</th>\n",
       "      <td>2011-01-01</td>\n",
       "      <td> WHITE NON HISPANIC</td>\n",
       "      <td>     SEAN</td>\n",
       "      <td>  36</td>\n",
       "    </tr>\n",
       "    <tr>\n",
       "      <th>72</th>\n",
       "      <td>2011-01-01</td>\n",
       "      <td> WHITE NON HISPANIC</td>\n",
       "      <td>      SAM</td>\n",
       "      <td>  35</td>\n",
       "    </tr>\n",
       "    <tr>\n",
       "      <th>73</th>\n",
       "      <td>2011-01-01</td>\n",
       "      <td> WHITE NON HISPANIC</td>\n",
       "      <td>   VICTOR</td>\n",
       "      <td>  34</td>\n",
       "    </tr>\n",
       "    <tr>\n",
       "      <th>74</th>\n",
       "      <td>2011-01-01</td>\n",
       "      <td> WHITE NON HISPANIC</td>\n",
       "      <td>     SEAN</td>\n",
       "      <td>  33</td>\n",
       "    </tr>\n",
       "    <tr>\n",
       "      <th>75</th>\n",
       "      <td>2011-01-01</td>\n",
       "      <td> WHITE NON HISPANIC</td>\n",
       "      <td>   STEVEN</td>\n",
       "      <td>  32</td>\n",
       "    </tr>\n",
       "    <tr>\n",
       "      <th>76</th>\n",
       "      <td>2011-01-01</td>\n",
       "      <td> WHITE NON HISPANIC</td>\n",
       "      <td>    MOSES</td>\n",
       "      <td>  31</td>\n",
       "    </tr>\n",
       "    <tr>\n",
       "      <th>77</th>\n",
       "      <td>2011-01-01</td>\n",
       "      <td> WHITE NON HISPANIC</td>\n",
       "      <td>     SHIA</td>\n",
       "      <td>  30</td>\n",
       "    </tr>\n",
       "    <tr>\n",
       "      <th>78</th>\n",
       "      <td>2011-01-01</td>\n",
       "      <td> WHITE NON HISPANIC</td>\n",
       "      <td>    USHER</td>\n",
       "      <td>  29</td>\n",
       "    </tr>\n",
       "    <tr>\n",
       "      <th>79</th>\n",
       "      <td>2011-01-01</td>\n",
       "      <td> WHITE NON HISPANIC</td>\n",
       "      <td>   YADIEL</td>\n",
       "      <td>  28</td>\n",
       "    </tr>\n",
       "    <tr>\n",
       "      <th>80</th>\n",
       "      <td>2011-01-01</td>\n",
       "      <td> WHITE NON HISPANIC</td>\n",
       "      <td>  YECHIEL</td>\n",
       "      <td>  27</td>\n",
       "    </tr>\n",
       "    <tr>\n",
       "      <th>81</th>\n",
       "      <td>2011-01-01</td>\n",
       "      <td> WHITE NON HISPANIC</td>\n",
       "      <td>    SHAYA</td>\n",
       "      <td>  26</td>\n",
       "    </tr>\n",
       "    <tr>\n",
       "      <th>82</th>\n",
       "      <td>2011-01-01</td>\n",
       "      <td> WHITE NON HISPANIC</td>\n",
       "      <td>    WYATT</td>\n",
       "      <td>  25</td>\n",
       "    </tr>\n",
       "    <tr>\n",
       "      <th>83</th>\n",
       "      <td>2011-01-01</td>\n",
       "      <td> WHITE NON HISPANIC</td>\n",
       "      <td>    URIEL</td>\n",
       "      <td>  24</td>\n",
       "    </tr>\n",
       "    <tr>\n",
       "      <th>84</th>\n",
       "      <td>2011-01-01</td>\n",
       "      <td> WHITE NON HISPANIC</td>\n",
       "      <td>   MATIAS</td>\n",
       "      <td>  23</td>\n",
       "    </tr>\n",
       "    <tr>\n",
       "      <th>85</th>\n",
       "      <td>2011-01-01</td>\n",
       "      <td> WHITE NON HISPANIC</td>\n",
       "      <td> YEHOSHUA</td>\n",
       "      <td>  22</td>\n",
       "    </tr>\n",
       "    <tr>\n",
       "      <th>86</th>\n",
       "      <td>2011-01-01</td>\n",
       "      <td> WHITE NON HISPANIC</td>\n",
       "      <td>   SHOLOM</td>\n",
       "      <td>  21</td>\n",
       "    </tr>\n",
       "    <tr>\n",
       "      <th>87</th>\n",
       "      <td>2011-01-01</td>\n",
       "      <td> WHITE NON HISPANIC</td>\n",
       "      <td>     YOEL</td>\n",
       "      <td>  20</td>\n",
       "    </tr>\n",
       "    <tr>\n",
       "      <th>88</th>\n",
       "      <td>2011-01-01</td>\n",
       "      <td> WHITE NON HISPANIC</td>\n",
       "      <td>  ZACHARY</td>\n",
       "      <td>  19</td>\n",
       "    </tr>\n",
       "    <tr>\n",
       "      <th>89</th>\n",
       "      <td>2011-01-01</td>\n",
       "      <td> WHITE NON HISPANIC</td>\n",
       "      <td>   XAVIER</td>\n",
       "      <td>  18</td>\n",
       "    </tr>\n",
       "    <tr>\n",
       "      <th>90</th>\n",
       "      <td>2011-01-01</td>\n",
       "      <td> WHITE NON HISPANIC</td>\n",
       "      <td> YITZCHAK</td>\n",
       "      <td>  17</td>\n",
       "    </tr>\n",
       "    <tr>\n",
       "      <th>91</th>\n",
       "      <td>2011-01-01</td>\n",
       "      <td> WHITE NON HISPANIC</td>\n",
       "      <td>     ZION</td>\n",
       "      <td>  16</td>\n",
       "    </tr>\n",
       "    <tr>\n",
       "      <th>92</th>\n",
       "      <td>2011-01-01</td>\n",
       "      <td> WHITE NON HISPANIC</td>\n",
       "      <td>   YARIEL</td>\n",
       "      <td>  15</td>\n",
       "    </tr>\n",
       "    <tr>\n",
       "      <th>93</th>\n",
       "      <td>2011-01-01</td>\n",
       "      <td> WHITE NON HISPANIC</td>\n",
       "      <td>   ZALMEN</td>\n",
       "      <td>  14</td>\n",
       "    </tr>\n",
       "    <tr>\n",
       "      <th>94</th>\n",
       "      <td>2011-01-01</td>\n",
       "      <td> WHITE NON HISPANIC</td>\n",
       "      <td>     YIDA</td>\n",
       "      <td>  13</td>\n",
       "    </tr>\n",
       "    <tr>\n",
       "      <th>95</th>\n",
       "      <td>2011-01-01</td>\n",
       "      <td> WHITE NON HISPANIC</td>\n",
       "      <td>   YOUSEF</td>\n",
       "      <td>  12</td>\n",
       "    </tr>\n",
       "    <tr>\n",
       "      <th>96</th>\n",
       "      <td>2011-01-01</td>\n",
       "      <td> WHITE NON HISPANIC</td>\n",
       "      <td>  YOUSSEF</td>\n",
       "      <td>  11</td>\n",
       "    </tr>\n",
       "    <tr>\n",
       "      <th>97</th>\n",
       "      <td>2011-01-01</td>\n",
       "      <td> WHITE NON HISPANIC</td>\n",
       "      <td>    YONAH</td>\n",
       "      <td>  10</td>\n",
       "    </tr>\n",
       "  </tbody>\n",
       "</table>\n",
       "<p>178 rows × 4 columns</p>\n",
       "</div>"
      ],
      "text/plain": [
       "              BRTH_YR              ETHCTY        NM  CNT\n",
       "GNDR   RNK                                              \n",
       "FEMALE 1   2011-01-01  WHITE NON HISPANIC    SOPHIA  331\n",
       "       2   2011-01-01  WHITE NON HISPANIC    OLIVIA  229\n",
       "       3   2011-01-01  WHITE NON HISPANIC    SOPHIA  223\n",
       "       4   2011-01-01  WHITE NON HISPANIC    SOPHIA  190\n",
       "       5   2011-01-01  WHITE NON HISPANIC      EMMA  188\n",
       "       6   2011-01-01  WHITE NON HISPANIC     SOFIA  177\n",
       "       7   2011-01-01  WHITE NON HISPANIC   TIFFANY  171\n",
       "       8   2011-01-01  WHITE NON HISPANIC    HAILEY  162\n",
       "       9   2011-01-01  WHITE NON HISPANIC    TAYLOR  160\n",
       "       10  2011-01-01  WHITE NON HISPANIC  SERENITY  132\n",
       "       11  2011-01-01  WHITE NON HISPANIC    VIVIAN  131\n",
       "       12  2011-01-01  WHITE NON HISPANIC  MICHELLE  127\n",
       "       13  2011-01-01  WHITE NON HISPANIC       ZOE  122\n",
       "       14  2011-01-01  WHITE NON HISPANIC  SAVANNAH  119\n",
       "       15  2011-01-01  WHITE NON HISPANIC     SARAH  116\n",
       "       16  2011-01-01  WHITE NON HISPANIC     RIVKA  113\n",
       "       17  2011-01-01  WHITE NON HISPANIC     VICKY  109\n",
       "       18  2011-01-01  WHITE NON HISPANIC      SARA  107\n",
       "       19  2011-01-01  WHITE NON HISPANIC  VICTORIA  103\n",
       "       20  2011-01-01  WHITE NON HISPANIC    KAYLEE  102\n",
       "       21  2011-01-01  WHITE NON HISPANIC     NAOMI  100\n",
       "       22  2011-01-01  WHITE NON HISPANIC    TENZIN   95\n",
       "       23  2011-01-01  WHITE NON HISPANIC       ZOE   94\n",
       "       24  2011-01-01  WHITE NON HISPANIC      SARA   93\n",
       "       25  2011-01-01  WHITE NON HISPANIC    ZAINAB   85\n",
       "       26  2011-01-01  WHITE NON HISPANIC      ZOEY   84\n",
       "       27  2011-01-01  WHITE NON HISPANIC   TRINITY   82\n",
       "       28  2011-01-01  WHITE NON HISPANIC       ZOE   81\n",
       "       29  2011-01-01  WHITE NON HISPANIC     ZAHRA   74\n",
       "       30  2011-01-01  WHITE NON HISPANIC       XIN   72\n",
       "...               ...                 ...       ...  ...\n",
       "MALE   68  2011-01-01  WHITE NON HISPANIC    JAYDEN   39\n",
       "       69  2011-01-01  WHITE NON HISPANIC    ROBERT   38\n",
       "       70  2011-01-01  WHITE NON HISPANIC   TRISTAN   37\n",
       "       71  2011-01-01  WHITE NON HISPANIC      SEAN   36\n",
       "       72  2011-01-01  WHITE NON HISPANIC       SAM   35\n",
       "       73  2011-01-01  WHITE NON HISPANIC    VICTOR   34\n",
       "       74  2011-01-01  WHITE NON HISPANIC      SEAN   33\n",
       "       75  2011-01-01  WHITE NON HISPANIC    STEVEN   32\n",
       "       76  2011-01-01  WHITE NON HISPANIC     MOSES   31\n",
       "       77  2011-01-01  WHITE NON HISPANIC      SHIA   30\n",
       "       78  2011-01-01  WHITE NON HISPANIC     USHER   29\n",
       "       79  2011-01-01  WHITE NON HISPANIC    YADIEL   28\n",
       "       80  2011-01-01  WHITE NON HISPANIC   YECHIEL   27\n",
       "       81  2011-01-01  WHITE NON HISPANIC     SHAYA   26\n",
       "       82  2011-01-01  WHITE NON HISPANIC     WYATT   25\n",
       "       83  2011-01-01  WHITE NON HISPANIC     URIEL   24\n",
       "       84  2011-01-01  WHITE NON HISPANIC    MATIAS   23\n",
       "       85  2011-01-01  WHITE NON HISPANIC  YEHOSHUA   22\n",
       "       86  2011-01-01  WHITE NON HISPANIC    SHOLOM   21\n",
       "       87  2011-01-01  WHITE NON HISPANIC      YOEL   20\n",
       "       88  2011-01-01  WHITE NON HISPANIC   ZACHARY   19\n",
       "       89  2011-01-01  WHITE NON HISPANIC    XAVIER   18\n",
       "       90  2011-01-01  WHITE NON HISPANIC  YITZCHAK   17\n",
       "       91  2011-01-01  WHITE NON HISPANIC      ZION   16\n",
       "       92  2011-01-01  WHITE NON HISPANIC    YARIEL   15\n",
       "       93  2011-01-01  WHITE NON HISPANIC    ZALMEN   14\n",
       "       94  2011-01-01  WHITE NON HISPANIC      YIDA   13\n",
       "       95  2011-01-01  WHITE NON HISPANIC    YOUSEF   12\n",
       "       96  2011-01-01  WHITE NON HISPANIC   YOUSSEF   11\n",
       "       97  2011-01-01  WHITE NON HISPANIC     YONAH   10\n",
       "\n",
       "[178 rows x 4 columns]"
      ]
     },
     "execution_count": 192,
     "metadata": {},
     "output_type": "execute_result"
    }
   ],
   "source": [
    "df4.head(200)"
   ]
  },
  {
   "cell_type": "code",
   "execution_count": 193,
   "metadata": {
    "collapsed": false
   },
   "outputs": [
    {
     "data": {
      "text/html": [
       "<div style=\"max-height:1000px;max-width:1500px;overflow:auto;\">\n",
       "<table border=\"1\" class=\"dataframe\">\n",
       "  <thead>\n",
       "    <tr style=\"text-align: right;\">\n",
       "      <th></th>\n",
       "      <th>BRTH_YR</th>\n",
       "      <th>GNDR</th>\n",
       "      <th>ETHCTY</th>\n",
       "      <th>NM</th>\n",
       "      <th>CNT</th>\n",
       "      <th>RNK</th>\n",
       "    </tr>\n",
       "  </thead>\n",
       "  <tbody>\n",
       "    <tr>\n",
       "      <th>405 </th>\n",
       "      <td>2011-01-01</td>\n",
       "      <td> FEMALE</td>\n",
       "      <td> ASIAN AND PACIFIC ISLANDER</td>\n",
       "      <td>   SOPHIA</td>\n",
       "      <td> 119</td>\n",
       "      <td> 1</td>\n",
       "    </tr>\n",
       "    <tr>\n",
       "      <th>786 </th>\n",
       "      <td>2011-01-01</td>\n",
       "      <td> FEMALE</td>\n",
       "      <td>         BLACK NON HISPANIC</td>\n",
       "      <td>  MADISON</td>\n",
       "      <td> 176</td>\n",
       "      <td> 1</td>\n",
       "    </tr>\n",
       "    <tr>\n",
       "      <th>1440</th>\n",
       "      <td>2011-01-01</td>\n",
       "      <td> FEMALE</td>\n",
       "      <td>                   HISPANIC</td>\n",
       "      <td> ISABELLA</td>\n",
       "      <td> 331</td>\n",
       "      <td> 1</td>\n",
       "    </tr>\n",
       "    <tr>\n",
       "      <th>2340</th>\n",
       "      <td>2011-01-01</td>\n",
       "      <td> FEMALE</td>\n",
       "      <td>         WHITE NON HISPANIC</td>\n",
       "      <td>   ESTHER</td>\n",
       "      <td> 224</td>\n",
       "      <td> 1</td>\n",
       "    </tr>\n",
       "    <tr>\n",
       "      <th>3168</th>\n",
       "      <td>2011-01-01</td>\n",
       "      <td>   MALE</td>\n",
       "      <td> ASIAN AND PACIFIC ISLANDER</td>\n",
       "      <td>    ETHAN</td>\n",
       "      <td> 177</td>\n",
       "      <td> 1</td>\n",
       "    </tr>\n",
       "    <tr>\n",
       "      <th>3756</th>\n",
       "      <td>2011-01-01</td>\n",
       "      <td>   MALE</td>\n",
       "      <td>         BLACK NON HISPANIC</td>\n",
       "      <td>   JAYDEN</td>\n",
       "      <td> 184</td>\n",
       "      <td> 1</td>\n",
       "    </tr>\n",
       "    <tr>\n",
       "      <th>4512</th>\n",
       "      <td>2011-01-01</td>\n",
       "      <td>   MALE</td>\n",
       "      <td>                   HISPANIC</td>\n",
       "      <td>   JAYDEN</td>\n",
       "      <td> 426</td>\n",
       "      <td> 1</td>\n",
       "    </tr>\n",
       "    <tr>\n",
       "      <th>5547</th>\n",
       "      <td>2011-01-01</td>\n",
       "      <td>   MALE</td>\n",
       "      <td>         WHITE NON HISPANIC</td>\n",
       "      <td>  MICHAEL</td>\n",
       "      <td> 292</td>\n",
       "      <td> 1</td>\n",
       "    </tr>\n",
       "  </tbody>\n",
       "</table>\n",
       "</div>"
      ],
      "text/plain": [
       "        BRTH_YR    GNDR                      ETHCTY        NM  CNT  RNK\n",
       "405  2011-01-01  FEMALE  ASIAN AND PACIFIC ISLANDER    SOPHIA  119    1\n",
       "786  2011-01-01  FEMALE          BLACK NON HISPANIC   MADISON  176    1\n",
       "1440 2011-01-01  FEMALE                    HISPANIC  ISABELLA  331    1\n",
       "2340 2011-01-01  FEMALE          WHITE NON HISPANIC    ESTHER  224    1\n",
       "3168 2011-01-01    MALE  ASIAN AND PACIFIC ISLANDER     ETHAN  177    1\n",
       "3756 2011-01-01    MALE          BLACK NON HISPANIC    JAYDEN  184    1\n",
       "4512 2011-01-01    MALE                    HISPANIC    JAYDEN  426    1\n",
       "5547 2011-01-01    MALE          WHITE NON HISPANIC   MICHAEL  292    1"
      ]
     },
     "execution_count": 193,
     "metadata": {},
     "output_type": "execute_result"
    }
   ],
   "source": [
    "no_dupes.ix[no_dupes.groupby(['GNDR','ETHCTY']).CNT.idxmax()]"
   ]
  },
  {
   "cell_type": "code",
   "execution_count": 194,
   "metadata": {
    "collapsed": false
   },
   "outputs": [
    {
     "data": {
      "text/html": [
       "<div style=\"max-height:1000px;max-width:1500px;overflow:auto;\">\n",
       "<table border=\"1\" class=\"dataframe\">\n",
       "  <thead>\n",
       "    <tr style=\"text-align: right;\">\n",
       "      <th></th>\n",
       "      <th>BRTH_YR</th>\n",
       "      <th>GNDR</th>\n",
       "      <th>ETHCTY</th>\n",
       "      <th>NM</th>\n",
       "      <th>CNT</th>\n",
       "      <th>RNK</th>\n",
       "    </tr>\n",
       "  </thead>\n",
       "  <tbody>\n",
       "    <tr>\n",
       "      <th>216 </th>\n",
       "      <td>2011-01-01</td>\n",
       "      <td> FEMALE</td>\n",
       "      <td> ASIAN AND PACIFIC ISLANDER</td>\n",
       "      <td> ISABELLA</td>\n",
       "      <td>  67</td>\n",
       "      <td>  6</td>\n",
       "    </tr>\n",
       "    <tr>\n",
       "      <th>678 </th>\n",
       "      <td>2011-01-01</td>\n",
       "      <td> FEMALE</td>\n",
       "      <td>         BLACK NON HISPANIC</td>\n",
       "      <td> ISABELLA</td>\n",
       "      <td>  35</td>\n",
       "      <td> 20</td>\n",
       "    </tr>\n",
       "    <tr>\n",
       "      <th>1440</th>\n",
       "      <td>2011-01-01</td>\n",
       "      <td> FEMALE</td>\n",
       "      <td>                   HISPANIC</td>\n",
       "      <td> ISABELLA</td>\n",
       "      <td> 331</td>\n",
       "      <td>  1</td>\n",
       "    </tr>\n",
       "    <tr>\n",
       "      <th>2469</th>\n",
       "      <td>2011-01-01</td>\n",
       "      <td> FEMALE</td>\n",
       "      <td>         WHITE NON HISPANIC</td>\n",
       "      <td> ISABELLA</td>\n",
       "      <td> 160</td>\n",
       "      <td>  9</td>\n",
       "    </tr>\n",
       "  </tbody>\n",
       "</table>\n",
       "</div>"
      ],
      "text/plain": [
       "        BRTH_YR    GNDR                      ETHCTY        NM  CNT  RNK\n",
       "216  2011-01-01  FEMALE  ASIAN AND PACIFIC ISLANDER  ISABELLA   67    6\n",
       "678  2011-01-01  FEMALE          BLACK NON HISPANIC  ISABELLA   35   20\n",
       "1440 2011-01-01  FEMALE                    HISPANIC  ISABELLA  331    1\n",
       "2469 2011-01-01  FEMALE          WHITE NON HISPANIC  ISABELLA  160    9"
      ]
     },
     "execution_count": 194,
     "metadata": {},
     "output_type": "execute_result"
    }
   ],
   "source": [
    "no_dupes[no_dupes['NM'] == 'ISABELLA']"
   ]
  },
  {
   "cell_type": "code",
   "execution_count": 195,
   "metadata": {
    "collapsed": false
   },
   "outputs": [
    {
     "data": {
      "text/html": [
       "<div style=\"max-height:1000px;max-width:1500px;overflow:auto;\">\n",
       "<table border=\"1\" class=\"dataframe\">\n",
       "  <thead>\n",
       "    <tr style=\"text-align: right;\">\n",
       "      <th></th>\n",
       "      <th>BRTH_YR</th>\n",
       "      <th>GNDR</th>\n",
       "      <th>ETHCTY</th>\n",
       "      <th>NM</th>\n",
       "      <th>CNT</th>\n",
       "      <th>RNK</th>\n",
       "    </tr>\n",
       "  </thead>\n",
       "  <tbody>\n",
       "    <tr>\n",
       "      <th>1440</th>\n",
       "      <td>2011-01-01</td>\n",
       "      <td> FEMALE</td>\n",
       "      <td> HISPANIC</td>\n",
       "      <td> ISABELLA</td>\n",
       "      <td> 331</td>\n",
       "      <td> 1</td>\n",
       "    </tr>\n",
       "    <tr>\n",
       "      <th>4512</th>\n",
       "      <td>2011-01-01</td>\n",
       "      <td>   MALE</td>\n",
       "      <td> HISPANIC</td>\n",
       "      <td>   JAYDEN</td>\n",
       "      <td> 426</td>\n",
       "      <td> 1</td>\n",
       "    </tr>\n",
       "  </tbody>\n",
       "</table>\n",
       "</div>"
      ],
      "text/plain": [
       "        BRTH_YR    GNDR    ETHCTY        NM  CNT  RNK\n",
       "1440 2011-01-01  FEMALE  HISPANIC  ISABELLA  331    1\n",
       "4512 2011-01-01    MALE  HISPANIC    JAYDEN  426    1"
      ]
     },
     "execution_count": 195,
     "metadata": {},
     "output_type": "execute_result"
    }
   ],
   "source": [
    "no_dupes.ix[no_dupes.groupby(['GNDR']).CNT.idxmax()]"
   ]
  }
 ],
 "metadata": {
  "kernelspec": {
   "display_name": "Python 3",
   "language": "python",
   "name": "python3"
  },
  "language_info": {
   "codemirror_mode": {
    "name": "ipython",
    "version": 3
   },
   "file_extension": ".py",
   "mimetype": "text/x-python",
   "name": "python",
   "nbconvert_exporter": "python",
   "pygments_lexer": "ipython3",
   "version": "3.3.5"
  }
 },
 "nbformat": 4,
 "nbformat_minor": 0
}
