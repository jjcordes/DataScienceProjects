{
 "cells": [
  {
   "cell_type": "markdown",
   "metadata": {},
   "source": [
    "# Setting up the notebook"
   ]
  },
  {
   "cell_type": "code",
   "execution_count": 1,
   "metadata": {
    "collapsed": false
   },
   "outputs": [],
   "source": [
    "# import pandas, numpy and datetime\n",
    "import numpy as np\n",
    "import pandas as pd\n",
    "\n",
    "# needed for representing dates and times\n",
    "import datetime \n",
    "from datetime import datetime\n",
    "\n",
    "# Set some pandas options for controlling output\n",
    "pd.set_option('display.notebook_repr_html', False)\n",
    "pd.set_option('display.max_columns', 10)\n",
    "pd.set_option('display.max_rows', 10)\n",
    "\n",
    "# matplotlib and inline graphics\n",
    "import matplotlib.pyplot as plt\n",
    "%matplotlib inline"
   ]
  },
  {
   "cell_type": "markdown",
   "metadata": {},
   "source": [
    "# Representation of dates, time, and intervals"
   ]
  },
  {
   "cell_type": "markdown",
   "metadata": {},
   "source": [
    "## Datetime, date and time objects"
   ]
  },
  {
   "cell_type": "code",
   "execution_count": 2,
   "metadata": {
    "collapsed": false
   },
   "outputs": [
    {
     "data": {
      "text/plain": [
       "datetime.datetime(2014, 12, 15, 0, 0)"
      ]
     },
     "execution_count": 2,
     "metadata": {},
     "output_type": "execute_result"
    }
   ],
   "source": [
    "# datetime object for Dec 15 2014\n",
    "datetime(2014, 12, 15)"
   ]
  },
  {
   "cell_type": "code",
   "execution_count": 3,
   "metadata": {
    "collapsed": false
   },
   "outputs": [
    {
     "data": {
      "text/plain": [
       "datetime.datetime(2014, 12, 15, 17, 30)"
      ]
     },
     "execution_count": 3,
     "metadata": {},
     "output_type": "execute_result"
    }
   ],
   "source": [
    "# specific date and also with a time of 5:30 pm\n",
    "datetime(2014, 12, 15, 17, 30)"
   ]
  },
  {
   "cell_type": "code",
   "execution_count": 4,
   "metadata": {
    "collapsed": false
   },
   "outputs": [
    {
     "data": {
      "text/plain": [
       "datetime.datetime(2016, 4, 8, 8, 49, 24, 332801)"
      ]
     },
     "execution_count": 4,
     "metadata": {},
     "output_type": "execute_result"
    }
   ],
   "source": [
    "# get the local \"now\" (date and time)\n",
    "# can take a timezone, but that's not demonstrated here\n",
    "datetime.now()"
   ]
  },
  {
   "cell_type": "code",
   "execution_count": 5,
   "metadata": {
    "collapsed": false
   },
   "outputs": [
    {
     "data": {
      "text/plain": [
       "datetime.date(2014, 12, 15)"
      ]
     },
     "execution_count": 5,
     "metadata": {},
     "output_type": "execute_result"
    }
   ],
   "source": [
    "# a date without time can be represented\n",
    "# by creating a date using a datetime object\n",
    "datetime.date(datetime(2014, 12, 15))"
   ]
  },
  {
   "cell_type": "code",
   "execution_count": 6,
   "metadata": {
    "collapsed": false
   },
   "outputs": [
    {
     "data": {
      "text/plain": [
       "datetime.date(2016, 4, 8)"
      ]
     },
     "execution_count": 6,
     "metadata": {},
     "output_type": "execute_result"
    }
   ],
   "source": [
    "# get just the current date\n",
    "datetime.now().date()"
   ]
  },
  {
   "cell_type": "code",
   "execution_count": 7,
   "metadata": {
    "collapsed": false
   },
   "outputs": [
    {
     "data": {
      "text/plain": [
       "datetime.time(17, 30)"
      ]
     },
     "execution_count": 7,
     "metadata": {},
     "output_type": "execute_result"
    }
   ],
   "source": [
    "# get just a time from a datetime\n",
    "datetime.time(datetime(2014, 12, 15, 17, 30))"
   ]
  },
  {
   "cell_type": "code",
   "execution_count": 8,
   "metadata": {
    "collapsed": false
   },
   "outputs": [
    {
     "data": {
      "text/plain": [
       "datetime.time(8, 50, 8, 728340)"
      ]
     },
     "execution_count": 8,
     "metadata": {},
     "output_type": "execute_result"
    }
   ],
   "source": [
    "# get the current local time\n",
    "datetime.now().time()"
   ]
  },
  {
   "cell_type": "markdown",
   "metadata": {},
   "source": [
    "## Timestamps"
   ]
  },
  {
   "cell_type": "code",
   "execution_count": 9,
   "metadata": {
    "collapsed": false
   },
   "outputs": [
    {
     "data": {
      "text/plain": [
       "Timestamp('2014-12-15 00:00:00')"
      ]
     },
     "execution_count": 9,
     "metadata": {},
     "output_type": "execute_result"
    }
   ],
   "source": [
    "# a timestamp representing a specific date\n",
    "pd.Timestamp('2014-12-15')"
   ]
  },
  {
   "cell_type": "code",
   "execution_count": 10,
   "metadata": {
    "collapsed": false
   },
   "outputs": [
    {
     "data": {
      "text/plain": [
       "Timestamp('2014-12-15 17:30:00')"
      ]
     },
     "execution_count": 10,
     "metadata": {},
     "output_type": "execute_result"
    }
   ],
   "source": [
    "# a timestamp with both date and time\n",
    "pd.Timestamp('2014-12-15 17:30')"
   ]
  },
  {
   "cell_type": "code",
   "execution_count": 11,
   "metadata": {
    "collapsed": false
   },
   "outputs": [
    {
     "data": {
      "text/plain": [
       "Timestamp('2016-04-08 17:30:00')"
      ]
     },
     "execution_count": 11,
     "metadata": {},
     "output_type": "execute_result"
    }
   ],
   "source": [
    "# timestamp with just a time\n",
    "# which adds in the current local date\n",
    "pd.Timestamp('17:30')"
   ]
  },
  {
   "cell_type": "code",
   "execution_count": 12,
   "metadata": {
    "collapsed": false
   },
   "outputs": [
    {
     "data": {
      "text/plain": [
       "Timestamp('2016-04-08 08:50:29.606534')"
      ]
     },
     "execution_count": 12,
     "metadata": {},
     "output_type": "execute_result"
    }
   ],
   "source": [
    "# get the current date and time (now)\n",
    "pd.Timestamp(\"now\")"
   ]
  },
  {
   "cell_type": "markdown",
   "metadata": {},
   "source": [
    "## Timedelta"
   ]
  },
  {
   "cell_type": "code",
   "execution_count": 13,
   "metadata": {
    "collapsed": false
   },
   "outputs": [
    {
     "data": {
      "text/plain": [
       "datetime.datetime(2014, 12, 1, 0, 0)"
      ]
     },
     "execution_count": 13,
     "metadata": {},
     "output_type": "execute_result"
    }
   ],
   "source": [
    "# what is one day from 2014-11-30?\n",
    "today = datetime(2014, 11, 30)\n",
    "tomorrow = today + pd.Timedelta(days=1)\n",
    "tomorrow"
   ]
  },
  {
   "cell_type": "code",
   "execution_count": 14,
   "metadata": {
    "collapsed": false
   },
   "outputs": [
    {
     "data": {
      "text/plain": [
       "datetime.timedelta(4)"
      ]
     },
     "execution_count": 14,
     "metadata": {},
     "output_type": "execute_result"
    }
   ],
   "source": [
    "# how many days between these two dates?\n",
    "date1 = datetime(2014, 12, 2)\n",
    "date2 = datetime(2014, 11, 28)\n",
    "date1 - date2"
   ]
  },
  {
   "cell_type": "markdown",
   "metadata": {},
   "source": [
    "# Time-series data"
   ]
  },
  {
   "cell_type": "markdown",
   "metadata": {},
   "source": [
    "## The DatetimeIndex"
   ]
  },
  {
   "cell_type": "code",
   "execution_count": 15,
   "metadata": {
    "collapsed": false
   },
   "outputs": [
    {
     "data": {
      "text/plain": [
       "2014-08-01    0.188413\n",
       "2014-08-02   -0.886283\n",
       "dtype: float64"
      ]
     },
     "execution_count": 15,
     "metadata": {},
     "output_type": "execute_result"
    }
   ],
   "source": [
    "# create a very simple time-series with two index labels\n",
    "# and random values\n",
    "dates = [datetime(2014, 8, 1), datetime(2014, 8, 2)]\n",
    "ts = pd.Series(np.random.randn(2), dates)\n",
    "ts"
   ]
  },
  {
   "cell_type": "code",
   "execution_count": 16,
   "metadata": {
    "collapsed": false
   },
   "outputs": [
    {
     "data": {
      "text/plain": [
       "pandas.tseries.index.DatetimeIndex"
      ]
     },
     "execution_count": 16,
     "metadata": {},
     "output_type": "execute_result"
    }
   ],
   "source": [
    "# what is the type of the index?\n",
    "type(ts.index)"
   ]
  },
  {
   "cell_type": "code",
   "execution_count": 17,
   "metadata": {
    "collapsed": false
   },
   "outputs": [
    {
     "data": {
      "text/plain": [
       "pandas.tslib.Timestamp"
      ]
     },
     "execution_count": 17,
     "metadata": {},
     "output_type": "execute_result"
    }
   ],
   "source": [
    "# and we can see it is a collection of timestamps\n",
    "type(ts.index[0])"
   ]
  },
  {
   "cell_type": "code",
   "execution_count": 18,
   "metadata": {
    "collapsed": false
   },
   "outputs": [
    {
     "data": {
      "text/plain": [
       "2014-08-01    0.469112\n",
       "2014-08-02   -0.282863\n",
       "dtype: float64"
      ]
     },
     "execution_count": 18,
     "metadata": {},
     "output_type": "execute_result"
    }
   ],
   "source": [
    "# create from just a list of dates as strings!\n",
    "np.random.seed(123456)\n",
    "dates = ['2014-08-01', '2014-08-02']\n",
    "ts = pd.Series(np.random.randn(2), dates)\n",
    "ts"
   ]
  },
  {
   "cell_type": "code",
   "execution_count": 19,
   "metadata": {
    "collapsed": false
   },
   "outputs": [
    {
     "name": "stdout",
     "output_type": "stream",
     "text": [
      "2014-08-01 00:00:00\n",
      "2014-08-02 00:00:00\n",
      "2014-08-03 00:00:00\n",
      "NaT\n"
     ]
    }
   ],
   "source": [
    "# convert a sequence of objects to a DatetimeIndex\n",
    "dti = pd.to_datetime(['Aug 1, 2014', \n",
    "                      '2014-08-02', \n",
    "                      '2014.8.3', \n",
    "                      None])\n",
    "for l in dti: print (l)"
   ]
  },
  {
   "cell_type": "code",
   "execution_count": 20,
   "metadata": {
    "collapsed": false
   },
   "outputs": [
    {
     "data": {
      "text/plain": [
       "array(['Aug 1, 2014', 'foo'], dtype=object)"
      ]
     },
     "execution_count": 20,
     "metadata": {},
     "output_type": "execute_result"
    }
   ],
   "source": [
    "# this is a list of objects, not timestamps...\n",
    "pd.to_datetime(['Aug 1, 2014', 'foo'])"
   ]
  },
  {
   "cell_type": "code",
   "execution_count": 21,
   "metadata": {
    "collapsed": false
   },
   "outputs": [
    {
     "data": {
      "text/plain": [
       "<class 'pandas.tseries.index.DatetimeIndex'>\n",
       "[2014-08-01, NaT]\n",
       "Length: 2, Freq: None, Timezone: None"
      ]
     },
     "execution_count": 21,
     "metadata": {},
     "output_type": "execute_result"
    }
   ],
   "source": [
    "# force the conversion, NaT for items that dont work\n",
    "pd.to_datetime(['Aug 1, 2014', 'foo'], coerce=True)"
   ]
  },
  {
   "cell_type": "code",
   "execution_count": 22,
   "metadata": {
    "collapsed": false
   },
   "outputs": [
    {
     "data": {
      "text/plain": [
       "2014-08-01    0.469112\n",
       "2014-08-02   -0.282863\n",
       "2014-08-03   -1.509059\n",
       "2014-08-04   -1.135632\n",
       "2014-08-05    1.212112\n",
       "2014-08-06   -0.173215\n",
       "2014-08-07    0.119209\n",
       "2014-08-08   -1.044236\n",
       "2014-08-09   -0.861849\n",
       "2014-08-10   -2.104569\n",
       "Freq: D, dtype: float64"
      ]
     },
     "execution_count": 22,
     "metadata": {},
     "output_type": "execute_result"
    }
   ],
   "source": [
    "# create a range of dates starting at a specific date\n",
    "# and for a specific number of days, creating a Series\n",
    "np.random.seed(123456)\n",
    "periods = pd.date_range('8/1/2014', periods=10)\n",
    "date_series = pd.Series(np.random.randn(10), index=periods)\n",
    "date_series"
   ]
  },
  {
   "cell_type": "code",
   "execution_count": 23,
   "metadata": {
    "collapsed": false
   },
   "outputs": [
    {
     "data": {
      "text/plain": [
       "2014-08-04   -1.135632\n",
       "2014-08-05    1.212112\n",
       "2014-08-06   -0.173215\n",
       "2014-08-07    0.119209\n",
       "Freq: D, dtype: float64"
      ]
     },
     "execution_count": 23,
     "metadata": {},
     "output_type": "execute_result"
    }
   ],
   "source": [
    "# slice by location\n",
    "subset = date_series[3:7]\n",
    "subset"
   ]
  },
  {
   "cell_type": "code",
   "execution_count": 24,
   "metadata": {
    "collapsed": false
   },
   "outputs": [
    {
     "data": {
      "text/plain": [
       "2014-08-04       10\n",
       "2014-08-05      100\n",
       "2014-08-06     1000\n",
       "2014-08-07    10000\n",
       "Freq: D, dtype: int64"
      ]
     },
     "execution_count": 24,
     "metadata": {},
     "output_type": "execute_result"
    }
   ],
   "source": [
    "# a Series to demonstrate alignment\n",
    "s2 = pd.Series([10, 100, 1000, 10000], subset.index)\n",
    "s2"
   ]
  },
  {
   "cell_type": "code",
   "execution_count": 25,
   "metadata": {
    "collapsed": false
   },
   "outputs": [
    {
     "data": {
      "text/plain": [
       "2014-08-01             NaN\n",
       "2014-08-02             NaN\n",
       "2014-08-03             NaN\n",
       "2014-08-04        8.864368\n",
       "2014-08-05      101.212112\n",
       "2014-08-06      999.826785\n",
       "2014-08-07    10000.119209\n",
       "2014-08-08             NaN\n",
       "2014-08-09             NaN\n",
       "2014-08-10             NaN\n",
       "Freq: D, dtype: float64"
      ]
     },
     "execution_count": 25,
     "metadata": {},
     "output_type": "execute_result"
    }
   ],
   "source": [
    "# demonstrate alignment by date on a subset of items\n",
    "date_series + s2"
   ]
  },
  {
   "cell_type": "code",
   "execution_count": 26,
   "metadata": {
    "collapsed": false
   },
   "outputs": [
    {
     "data": {
      "text/plain": [
       "1.2121120250208506"
      ]
     },
     "execution_count": 26,
     "metadata": {},
     "output_type": "execute_result"
    }
   ],
   "source": [
    "# lookup item by a string representing a date\n",
    "date_series['2014-08-05']"
   ]
  },
  {
   "cell_type": "code",
   "execution_count": 27,
   "metadata": {
    "collapsed": false
   },
   "outputs": [
    {
     "data": {
      "text/plain": [
       "2014-08-05    1.212112\n",
       "2014-08-06   -0.173215\n",
       "2014-08-07    0.119209\n",
       "Freq: D, dtype: float64"
      ]
     },
     "execution_count": 27,
     "metadata": {},
     "output_type": "execute_result"
    }
   ],
   "source": [
    "# slice between two dates specified by string representing dates\n",
    "date_series['2014-08-05':'2014-08-07']"
   ]
  },
  {
   "cell_type": "code",
   "execution_count": 28,
   "metadata": {
    "collapsed": false
   },
   "outputs": [
    {
     "data": {
      "text/plain": [
       "2013-01-01    0\n",
       "2013-01-02    0\n",
       "2013-01-03    0\n",
       "2013-01-04    0\n",
       "2013-01-05    0\n",
       "             ..\n",
       "2013-12-27    0\n",
       "2013-12-28    0\n",
       "2013-12-29    0\n",
       "2013-12-30    0\n",
       "2013-12-31    0\n",
       "Freq: D, dtype: int64"
      ]
     },
     "execution_count": 28,
     "metadata": {},
     "output_type": "execute_result"
    }
   ],
   "source": [
    "# a two year range of daily data in a Series\n",
    "# only select those in 2013\n",
    "s3 = pd.Series(0, pd.date_range('2013-01-01', '2014-12-31'))\n",
    "s3['2013']"
   ]
  },
  {
   "cell_type": "code",
   "execution_count": 29,
   "metadata": {
    "collapsed": false
   },
   "outputs": [
    {
     "data": {
      "text/plain": [
       "2014-05-01    0\n",
       "2014-05-02    0\n",
       "2014-05-03    0\n",
       "2014-05-04    0\n",
       "2014-05-05    0\n",
       "             ..\n",
       "2014-05-27    0\n",
       "2014-05-28    0\n",
       "2014-05-29    0\n",
       "2014-05-30    0\n",
       "2014-05-31    0\n",
       "Freq: D, dtype: int64"
      ]
     },
     "execution_count": 29,
     "metadata": {},
     "output_type": "execute_result"
    }
   ],
   "source": [
    "# 31 items for May 2014\n",
    "s3['2014-05'] "
   ]
  },
  {
   "cell_type": "code",
   "execution_count": 30,
   "metadata": {
    "collapsed": false
   },
   "outputs": [
    {
     "data": {
      "text/plain": [
       "2014-08-01    0\n",
       "2014-08-02    0\n",
       "2014-08-03    0\n",
       "2014-08-04    0\n",
       "2014-08-05    0\n",
       "             ..\n",
       "2014-09-26    0\n",
       "2014-09-27    0\n",
       "2014-09-28    0\n",
       "2014-09-29    0\n",
       "2014-09-30    0\n",
       "Freq: D, dtype: int64"
      ]
     },
     "execution_count": 30,
     "metadata": {},
     "output_type": "execute_result"
    }
   ],
   "source": [
    "# items between two months\n",
    "s3['2014-08':'2014-09']"
   ]
  },
  {
   "cell_type": "markdown",
   "metadata": {},
   "source": [
    "## Creating time-series data with specific frequencies"
   ]
  },
  {
   "cell_type": "code",
   "execution_count": 31,
   "metadata": {
    "collapsed": false
   },
   "outputs": [
    {
     "data": {
      "text/plain": [
       "2014-08-01 00:00:00    0.469112\n",
       "2014-08-01 00:01:00   -0.282863\n",
       "2014-08-01 00:02:00   -1.509059\n",
       "2014-08-01 00:03:00   -1.135632\n",
       "2014-08-01 00:04:00    1.212112\n",
       "                         ...   \n",
       "2014-10-29 23:55:00   -0.563029\n",
       "2014-10-29 23:56:00    1.180497\n",
       "2014-10-29 23:57:00    1.850604\n",
       "2014-10-29 23:58:00   -1.589660\n",
       "2014-10-29 23:59:00    0.266429\n",
       "Freq: T, dtype: float64"
      ]
     },
     "execution_count": 31,
     "metadata": {},
     "output_type": "execute_result"
    }
   ],
   "source": [
    "# generate a Series at one minute intervals\n",
    "np.random.seed(123456)\n",
    "bymin = pd.Series(np.random.randn(24*60*90), \n",
    "                  pd.date_range('2014-08-01', \n",
    "                                '2014-10-29 23:59',\n",
    "                                freq='T'))\n",
    "bymin"
   ]
  },
  {
   "cell_type": "code",
   "execution_count": 32,
   "metadata": {
    "collapsed": false
   },
   "outputs": [
    {
     "data": {
      "text/plain": [
       "2014-08-01 00:02:00   -1.509059\n",
       "2014-08-01 00:03:00   -1.135632\n",
       "2014-08-01 00:04:00    1.212112\n",
       "2014-08-01 00:05:00   -0.173215\n",
       "2014-08-01 00:06:00    0.119209\n",
       "2014-08-01 00:07:00   -1.044236\n",
       "2014-08-01 00:08:00   -0.861849\n",
       "2014-08-01 00:09:00   -2.104569\n",
       "2014-08-01 00:10:00   -0.494929\n",
       "Freq: T, dtype: float64"
      ]
     },
     "execution_count": 32,
     "metadata": {},
     "output_type": "execute_result"
    }
   ],
   "source": [
    "# slice down to the minute\n",
    "bymin['2014-08-01 00:02':'2014-08-01 00:10']"
   ]
  },
  {
   "cell_type": "code",
   "execution_count": 33,
   "metadata": {
    "collapsed": false
   },
   "outputs": [
    {
     "name": "stdout",
     "output_type": "stream",
     "text": [
      "2014-08-29 00:00:00\n",
      "2014-09-01 00:00:00\n",
      "2014-09-02 00:00:00\n",
      "2014-09-03 00:00:00\n",
      "2014-09-04 00:00:00\n",
      "2014-09-05 00:00:00\n"
     ]
    }
   ],
   "source": [
    "# generate a series based upon business days\n",
    "days = pd.date_range('2014-08-29', '2014-09-05', freq='B')\n",
    "for d in days : print (d)"
   ]
  },
  {
   "cell_type": "code",
   "execution_count": 34,
   "metadata": {
    "collapsed": false
   },
   "outputs": [
    {
     "data": {
      "text/plain": [
       "<class 'pandas.tseries.index.DatetimeIndex'>\n",
       "[2014-08-01 12:10:01, ..., 2014-08-01 12:10:10]\n",
       "Length: 10, Freq: S, Timezone: None"
      ]
     },
     "execution_count": 34,
     "metadata": {},
     "output_type": "execute_result"
    }
   ],
   "source": [
    "# periods will use the frequency as the increment\n",
    "pd.date_range('2014-08-01 12:10:01', freq='S', periods=10)"
   ]
  },
  {
   "cell_type": "markdown",
   "metadata": {},
   "source": [
    "# Calculating new dates using offsets"
   ]
  },
  {
   "cell_type": "markdown",
   "metadata": {},
   "source": [
    "## Date offsets"
   ]
  },
  {
   "cell_type": "code",
   "execution_count": 35,
   "metadata": {
    "collapsed": false
   },
   "outputs": [
    {
     "data": {
      "text/plain": [
       "array(['2014-08-29T04:00:00.000000000+0400',\n",
       "       '2014-09-01T04:00:00.000000000+0400',\n",
       "       '2014-09-02T04:00:00.000000000+0400',\n",
       "       '2014-09-03T04:00:00.000000000+0400',\n",
       "       '2014-09-04T04:00:00.000000000+0400',\n",
       "       '2014-09-05T04:00:00.000000000+0400'], dtype='datetime64[ns]')"
      ]
     },
     "execution_count": 35,
     "metadata": {},
     "output_type": "execute_result"
    }
   ],
   "source": [
    "# get all business days between and inclusive of these two dates\n",
    "dti = pd.date_range('2014-08-29', '2014-09-05', freq='B')\n",
    "dti.values"
   ]
  },
  {
   "cell_type": "code",
   "execution_count": 36,
   "metadata": {
    "collapsed": false
   },
   "outputs": [
    {
     "data": {
      "text/plain": [
       "<BusinessDay>"
      ]
     },
     "execution_count": 36,
     "metadata": {},
     "output_type": "execute_result"
    }
   ],
   "source": [
    "# check the frequency is BusinessDay\n",
    "dti.freq"
   ]
  },
  {
   "cell_type": "code",
   "execution_count": 37,
   "metadata": {
    "collapsed": false
   },
   "outputs": [
    {
     "data": {
      "text/plain": [
       "Timestamp('2014-08-30 00:00:00')"
      ]
     },
     "execution_count": 37,
     "metadata": {},
     "output_type": "execute_result"
    }
   ],
   "source": [
    "# calculate a one day offset from 2014-8-29\n",
    "d = datetime(2014, 8, 29)\n",
    "do = pd.DateOffset(days = 1) \n",
    "d + do"
   ]
  },
  {
   "cell_type": "code",
   "execution_count": 38,
   "metadata": {
    "collapsed": false
   },
   "outputs": [
    {
     "data": {
      "text/plain": [
       "Timestamp('2014-09-01 00:00:00')"
      ]
     },
     "execution_count": 38,
     "metadata": {},
     "output_type": "execute_result"
    }
   ],
   "source": [
    "# import the data offset types\n",
    "from pandas.tseries.offsets import *\n",
    "# calculate one business day from 2014-8-31\n",
    "d + BusinessDay()"
   ]
  },
  {
   "cell_type": "code",
   "execution_count": 39,
   "metadata": {
    "collapsed": false
   },
   "outputs": [
    {
     "data": {
      "text/plain": [
       "Timestamp('2014-09-02 00:00:00')"
      ]
     },
     "execution_count": 39,
     "metadata": {},
     "output_type": "execute_result"
    }
   ],
   "source": [
    "# determine 2 business days from 2014-8-29\n",
    "d + 2 * BusinessDay()"
   ]
  },
  {
   "cell_type": "code",
   "execution_count": 40,
   "metadata": {
    "collapsed": false
   },
   "outputs": [
    {
     "data": {
      "text/plain": [
       "Timestamp('2014-09-30 00:00:00')"
      ]
     },
     "execution_count": 40,
     "metadata": {},
     "output_type": "execute_result"
    }
   ],
   "source": [
    "# what is the next business month end\n",
    "# from a specific date?\n",
    "d + BMonthEnd()"
   ]
  },
  {
   "cell_type": "code",
   "execution_count": 41,
   "metadata": {
    "collapsed": false
   },
   "outputs": [
    {
     "data": {
      "text/plain": [
       "Timestamp('2014-09-30 00:00:00')"
      ]
     },
     "execution_count": 41,
     "metadata": {},
     "output_type": "execute_result"
    }
   ],
   "source": [
    "# calculate the next month end by\n",
    "# rolling forward from a specific date\n",
    "BMonthEnd().rollforward(datetime(2014, 9, 15))"
   ]
  },
  {
   "cell_type": "code",
   "execution_count": 42,
   "metadata": {
    "collapsed": false
   },
   "outputs": [
    {
     "data": {
      "text/plain": [
       "Timestamp('2014-08-26 00:00:00')"
      ]
     },
     "execution_count": 42,
     "metadata": {},
     "output_type": "execute_result"
    }
   ],
   "source": [
    "# calculate the date of the Tuesday previous\n",
    "# to a specified date \n",
    "d - Week(weekday = 1)"
   ]
  },
  {
   "cell_type": "markdown",
   "metadata": {},
   "source": [
    "## Anchored Offsets"
   ]
  },
  {
   "cell_type": "code",
   "execution_count": 43,
   "metadata": {
    "collapsed": false
   },
   "outputs": [
    {
     "data": {
      "text/plain": [
       "array(['2014-06-04T04:00:00.000000000+0400',\n",
       "       '2014-06-11T04:00:00.000000000+0400',\n",
       "       '2014-06-18T04:00:00.000000000+0400',\n",
       "       '2014-06-25T04:00:00.000000000+0400',\n",
       "       '2014-07-02T04:00:00.000000000+0400',\n",
       "       '2014-07-09T04:00:00.000000000+0400',\n",
       "       '2014-07-16T04:00:00.000000000+0400',\n",
       "       '2014-07-23T04:00:00.000000000+0400',\n",
       "       '2014-07-30T04:00:00.000000000+0400',\n",
       "       '2014-08-06T04:00:00.000000000+0400',\n",
       "       '2014-08-13T04:00:00.000000000+0400',\n",
       "       '2014-08-20T04:00:00.000000000+0400',\n",
       "       '2014-08-27T04:00:00.000000000+0400'], dtype='datetime64[ns]')"
      ]
     },
     "execution_count": 43,
     "metadata": {},
     "output_type": "execute_result"
    }
   ],
   "source": [
    "# calculate all Wednesdays between 2014-06-01\n",
    "# and 2014-08-31\n",
    "wednesdays = pd.date_range('2014-06-01', \n",
    "                           '2014-08-31', freq=\"W-WED\")\n",
    "wednesdays.values"
   ]
  },
  {
   "cell_type": "code",
   "execution_count": 44,
   "metadata": {
    "collapsed": false
   },
   "outputs": [
    {
     "data": {
      "text/plain": [
       "array(['2014-03-03T03:00:00.000000000+0300',\n",
       "       '2014-06-02T04:00:00.000000000+0400',\n",
       "       '2014-09-01T04:00:00.000000000+0400',\n",
       "       '2014-12-01T03:00:00.000000000+0300'], dtype='datetime64[ns]')"
      ]
     },
     "execution_count": 44,
     "metadata": {},
     "output_type": "execute_result"
    }
   ],
   "source": [
    "# what are all of the business quarterly end\n",
    "# dates in 2014?\n",
    "qends = pd.date_range('2014-01-01', '2014-12-31', \n",
    "                      freq='BQS-JUN')\n",
    "qends.values"
   ]
  },
  {
   "cell_type": "markdown",
   "metadata": {},
   "source": [
    "# Durations of time using Period objects"
   ]
  },
  {
   "cell_type": "markdown",
   "metadata": {},
   "source": [
    "## The Period"
   ]
  },
  {
   "cell_type": "code",
   "execution_count": 45,
   "metadata": {
    "collapsed": false
   },
   "outputs": [
    {
     "data": {
      "text/plain": [
       "Period('2014-08', 'M')"
      ]
     },
     "execution_count": 45,
     "metadata": {},
     "output_type": "execute_result"
    }
   ],
   "source": [
    "# create a period representing a month of time\n",
    "# starting in August 2014\n",
    "aug2014 = pd.Period('2014-08', freq='M')\n",
    "aug2014"
   ]
  },
  {
   "cell_type": "code",
   "execution_count": 46,
   "metadata": {
    "collapsed": false
   },
   "outputs": [
    {
     "data": {
      "text/plain": [
       "(Timestamp('2014-08-01 00:00:00'), Timestamp('2014-08-31 23:59:59.999999999'))"
      ]
     },
     "execution_count": 46,
     "metadata": {},
     "output_type": "execute_result"
    }
   ],
   "source": [
    "# examine the start and end times of this period\n",
    "aug2014.start_time, aug2014.end_time"
   ]
  },
  {
   "cell_type": "code",
   "execution_count": 47,
   "metadata": {
    "collapsed": false
   },
   "outputs": [
    {
     "data": {
      "text/plain": [
       "Period('2014-09', 'M')"
      ]
     },
     "execution_count": 47,
     "metadata": {},
     "output_type": "execute_result"
    }
   ],
   "source": [
    "# calculate the period that is one frequency\n",
    "# unit of the aug2014 period further along in time\n",
    "# This happens to be September 2014\n",
    "sep2014 = aug2014 + 1\n",
    "sep2014"
   ]
  },
  {
   "cell_type": "code",
   "execution_count": 48,
   "metadata": {
    "collapsed": false
   },
   "outputs": [
    {
     "data": {
      "text/plain": [
       "(Timestamp('2014-09-01 00:00:00'), Timestamp('2014-09-30 23:59:59.999999999'))"
      ]
     },
     "execution_count": 48,
     "metadata": {},
     "output_type": "execute_result"
    }
   ],
   "source": [
    "sep2014.start_time, sep2014.end_time"
   ]
  },
  {
   "cell_type": "markdown",
   "metadata": {},
   "source": [
    "## The PeriodIndex"
   ]
  },
  {
   "cell_type": "code",
   "execution_count": 49,
   "metadata": {
    "collapsed": false
   },
   "outputs": [
    {
     "data": {
      "text/plain": [
       "<class 'pandas.tseries.period.PeriodIndex'>\n",
       "[2013-01, ..., 2013-12]\n",
       "Length: 12, Freq: M"
      ]
     },
     "execution_count": 49,
     "metadata": {},
     "output_type": "execute_result"
    }
   ],
   "source": [
    "# create a period index representing all monthly boundaries in 2013\n",
    "mp2013 = pd.period_range('1/1/2013', '12/31/2013', freq='M')\n",
    "mp2013"
   ]
  },
  {
   "cell_type": "code",
   "execution_count": 50,
   "metadata": {
    "collapsed": false
   },
   "outputs": [
    {
     "name": "stdout",
     "output_type": "stream",
     "text": [
      "2013-01-01 00:00:00 2013-01-31 23:59:59.999999999\n",
      "2013-02-01 00:00:00 2013-02-28 23:59:59.999999999\n",
      "2013-03-01 00:00:00 2013-03-31 23:59:59.999999999\n",
      "2013-04-01 00:00:00 2013-04-30 23:59:59.999999999\n",
      "2013-05-01 00:00:00 2013-05-31 23:59:59.999999999\n",
      "2013-06-01 00:00:00 2013-06-30 23:59:59.999999999\n",
      "2013-07-01 00:00:00 2013-07-31 23:59:59.999999999\n",
      "2013-08-01 00:00:00 2013-08-31 23:59:59.999999999\n",
      "2013-09-01 00:00:00 2013-09-30 23:59:59.999999999\n",
      "2013-10-01 00:00:00 2013-10-31 23:59:59.999999999\n",
      "2013-11-01 00:00:00 2013-11-30 23:59:59.999999999\n",
      "2013-12-01 00:00:00 2013-12-31 23:59:59.999999999\n"
     ]
    }
   ],
   "source": [
    "# loop through all period objects in the index\n",
    "# printing start and end time for each\n",
    "for p in mp2013: \n",
    "    print (\"{0} {1}\".format(p.start_time, p.end_time))"
   ]
  },
  {
   "cell_type": "code",
   "execution_count": 51,
   "metadata": {
    "collapsed": false
   },
   "outputs": [
    {
     "data": {
      "text/plain": [
       "2013-01    0.469112\n",
       "2013-02   -0.282863\n",
       "2013-03   -1.509059\n",
       "2013-04   -1.135632\n",
       "2013-05    1.212112\n",
       "             ...   \n",
       "2013-08   -1.044236\n",
       "2013-09   -0.861849\n",
       "2013-10   -2.104569\n",
       "2013-11   -0.494929\n",
       "2013-12    1.071804\n",
       "Freq: M, dtype: float64"
      ]
     },
     "execution_count": 51,
     "metadata": {},
     "output_type": "execute_result"
    }
   ],
   "source": [
    "# create a Series with a PeriodIndex\n",
    "np.random.seed(123456)\n",
    "ps = pd.Series(np.random.randn(12), mp2013)\n",
    "ps"
   ]
  },
  {
   "cell_type": "code",
   "execution_count": 52,
   "metadata": {
    "collapsed": false
   },
   "outputs": [
    {
     "data": {
      "text/plain": [
       "2013-01    0.469112\n",
       "2013-02   -0.282863\n",
       "2013-03   -1.509059\n",
       "2013-04   -1.135632\n",
       "2013-05    1.212112\n",
       "             ...   \n",
       "2014-08   -1.087401\n",
       "2014-09   -0.673690\n",
       "2014-10    0.113648\n",
       "2014-11   -1.478427\n",
       "2014-12    0.524988\n",
       "Freq: M, dtype: float64"
      ]
     },
     "execution_count": 52,
     "metadata": {},
     "output_type": "execute_result"
    }
   ],
   "source": [
    "# create a Series with a PeriodIndex and which\n",
    "# represents all calendar month periods in 2013 and 2014\n",
    "np.random.seed(123456)\n",
    "ps = pd.Series(np.random.randn(24), \n",
    "               pd.period_range('1/1/2013', \n",
    "                               '12/31/2014', freq='M'))\n",
    "ps"
   ]
  },
  {
   "cell_type": "code",
   "execution_count": 53,
   "metadata": {
    "collapsed": false
   },
   "outputs": [
    {
     "data": {
      "text/plain": [
       "0.567020349793672"
      ]
     },
     "execution_count": 53,
     "metadata": {},
     "output_type": "execute_result"
    }
   ],
   "source": [
    "# get value for period represented with 2014-06\n",
    "ps['2014-06']"
   ]
  },
  {
   "cell_type": "code",
   "execution_count": 54,
   "metadata": {
    "collapsed": false
   },
   "outputs": [
    {
     "data": {
      "text/plain": [
       "2014-01    0.721555\n",
       "2014-02   -0.706771\n",
       "2014-03   -1.039575\n",
       "2014-04    0.271860\n",
       "2014-05   -0.424972\n",
       "             ...   \n",
       "2014-08   -1.087401\n",
       "2014-09   -0.673690\n",
       "2014-10    0.113648\n",
       "2014-11   -1.478427\n",
       "2014-12    0.524988\n",
       "Freq: M, dtype: float64"
      ]
     },
     "execution_count": 54,
     "metadata": {},
     "output_type": "execute_result"
    }
   ],
   "source": [
    "# get values for all periods in 2014\n",
    "ps['2014']"
   ]
  },
  {
   "cell_type": "code",
   "execution_count": 55,
   "metadata": {
    "collapsed": false
   },
   "outputs": [
    {
     "data": {
      "text/plain": [
       "2014-03   -1.039575\n",
       "2014-04    0.271860\n",
       "2014-05   -0.424972\n",
       "2014-06    0.567020\n",
       "Freq: M, dtype: float64"
      ]
     },
     "execution_count": 55,
     "metadata": {},
     "output_type": "execute_result"
    }
   ],
   "source": [
    "# all values between (and including) March and June 2014\n",
    "ps['2014-03':'2014-06']"
   ]
  },
  {
   "cell_type": "markdown",
   "metadata": {},
   "source": [
    "# Handling holidays using calendars"
   ]
  },
  {
   "cell_type": "code",
   "execution_count": 56,
   "metadata": {
    "collapsed": false
   },
   "outputs": [
    {
     "name": "stdout",
     "output_type": "stream",
     "text": [
      "2014-01-01 00:00:00\n",
      "2014-01-20 00:00:00\n",
      "2014-02-17 00:00:00\n",
      "2014-05-26 00:00:00\n",
      "2014-07-04 00:00:00\n",
      "2014-09-01 00:00:00\n",
      "2014-10-13 00:00:00\n",
      "2014-11-11 00:00:00\n",
      "2014-11-27 00:00:00\n",
      "2014-12-25 00:00:00\n"
     ]
    }
   ],
   "source": [
    "# demonstrate using the US federal holiday calendar\n",
    "# first need to import it\n",
    "from pandas.tseries.holiday import *\n",
    "# create it and show what it considers holidays\n",
    "cal = USFederalHolidayCalendar()\n",
    "for d in cal.holidays(start='2014-01-01', end='2014-12-31'):\n",
    "    print (d)"
   ]
  },
  {
   "cell_type": "code",
   "execution_count": 57,
   "metadata": {
    "collapsed": false
   },
   "outputs": [
    {
     "data": {
      "text/plain": [
       "Timestamp('2014-09-02 00:00:00')"
      ]
     },
     "execution_count": 57,
     "metadata": {},
     "output_type": "execute_result"
    }
   ],
   "source": [
    "# create CustomBusinessDay object based on the federal calendar\n",
    "cbd = CustomBusinessDay(holidays=cal.holidays())\n",
    "\n",
    "# now calc next business day from 2014-8-29\n",
    "datetime(2014, 8, 29) + cbd"
   ]
  },
  {
   "cell_type": "markdown",
   "metadata": {},
   "source": [
    "# Normalizing timestamps using time zones"
   ]
  },
  {
   "cell_type": "code",
   "execution_count": 58,
   "metadata": {
    "collapsed": false
   },
   "outputs": [
    {
     "data": {
      "text/plain": [
       "(Timestamp('2015-04-21 22:12:57.263005'), True)"
      ]
     },
     "execution_count": 58,
     "metadata": {},
     "output_type": "execute_result"
    }
   ],
   "source": [
    "# get the current local time and demonstrate there is no\n",
    "# timezone info by default\n",
    "now = pd.Timestamp('now')\n",
    "now, now.tz is None"
   ]
  },
  {
   "cell_type": "code",
   "execution_count": 59,
   "metadata": {
    "collapsed": false
   },
   "outputs": [
    {
     "data": {
      "text/plain": [
       "(True, True)"
      ]
     },
     "execution_count": 59,
     "metadata": {},
     "output_type": "execute_result"
    }
   ],
   "source": [
    "# default DatetimeIndex and its Timestamps do not have\n",
    "# time zone information\n",
    "rng = pd.date_range('3/6/2012 00:00', periods=15, freq='D')\n",
    "rng.tz is None, rng[0].tz is None"
   ]
  },
  {
   "cell_type": "code",
   "execution_count": 60,
   "metadata": {
    "collapsed": false
   },
   "outputs": [
    {
     "data": {
      "text/plain": [
       "['Africa/Abidjan',\n",
       " 'Africa/Accra',\n",
       " 'Africa/Addis_Ababa',\n",
       " 'Africa/Algiers',\n",
       " 'Africa/Asmara']"
      ]
     },
     "execution_count": 60,
     "metadata": {},
     "output_type": "execute_result"
    }
   ],
   "source": [
    "# import common timezones from pytz\n",
    "from pytz import common_timezones\n",
    "# report the first 5\n",
    "common_timezones[:5]"
   ]
  },
  {
   "cell_type": "code",
   "execution_count": 61,
   "metadata": {
    "collapsed": false
   },
   "outputs": [
    {
     "data": {
      "text/plain": [
       "(Timestamp('2015-04-21 22:12:58.297351'),\n",
       " Timestamp('2015-04-21 22:12:58.297351+0000', tz='UTC'))"
      ]
     },
     "execution_count": 61,
     "metadata": {},
     "output_type": "execute_result"
    }
   ],
   "source": [
    "# get now, and now localized to UTC\n",
    "now = Timestamp(\"now\")\n",
    "local_now = now.tz_localize('UTC')\n",
    "now, local_now"
   ]
  },
  {
   "cell_type": "code",
   "execution_count": 62,
   "metadata": {
    "collapsed": false
   },
   "outputs": [
    {
     "data": {
      "text/plain": [
       "Timestamp('2014-08-01 12:00:00-0600', tz='US/Mountain')"
      ]
     },
     "execution_count": 62,
     "metadata": {},
     "output_type": "execute_result"
    }
   ],
   "source": [
    "# localize a timestamp to US/Mountain time zone\n",
    "tstamp = Timestamp('2014-08-01 12:00:00', tz='US/Mountain')\n",
    "tstamp"
   ]
  },
  {
   "cell_type": "code",
   "execution_count": 63,
   "metadata": {
    "collapsed": false
   },
   "outputs": [
    {
     "data": {
      "text/plain": [
       "(<DstTzInfo 'US/Mountain' LMT-1 day, 17:00:00 STD>,\n",
       " <DstTzInfo 'US/Mountain' MST-1 day, 17:00:00 STD>)"
      ]
     },
     "execution_count": 63,
     "metadata": {},
     "output_type": "execute_result"
    }
   ],
   "source": [
    "# create a DatetimeIndex using a timezone\n",
    "rng = pd.date_range('3/6/2012 00:00:00', \n",
    "                    periods=10, freq='D', tz='US/Mountain')\n",
    "rng.tz, rng[0].tz"
   ]
  },
  {
   "cell_type": "code",
   "execution_count": 64,
   "metadata": {
    "collapsed": false
   },
   "outputs": [
    {
     "data": {
      "text/plain": [
       "(Timestamp('2015-04-21 22:12:58.297351-0600', tz='US/Mountain'),\n",
       " Timestamp('2015-04-21 22:12:58.297351-0400', tz='US/Eastern'))"
      ]
     },
     "execution_count": 64,
     "metadata": {},
     "output_type": "execute_result"
    }
   ],
   "source": [
    "# show use of timezone objects\n",
    "# need to reference pytz\n",
    "import pytz\n",
    "# create an object for two different timezones\n",
    "mountain_tz = pytz.timezone(\"US/Mountain\")\n",
    "eastern_tz = pytz.timezone(\"US/Eastern\")\n",
    "# apply each to 'now'\n",
    "mountain_tz.localize(now), eastern_tz.localize(now)"
   ]
  },
  {
   "cell_type": "code",
   "execution_count": 65,
   "metadata": {
    "collapsed": false
   },
   "outputs": [
    {
     "data": {
      "text/plain": [
       "2014-08-01 00:00:00-06:00    0\n",
       "2014-08-01 01:00:00-06:00    1\n",
       "2014-08-01 02:00:00-06:00    2\n",
       "2014-08-01 03:00:00-06:00    3\n",
       "2014-08-01 04:00:00-06:00    4\n",
       "Freq: H, dtype: int64"
      ]
     },
     "execution_count": 65,
     "metadata": {},
     "output_type": "execute_result"
    }
   ],
   "source": [
    "# create two Series, same start, same periods, same frequencies,\n",
    "# each with a different timezone\n",
    "s_mountain = Series(np.arange(0, 5),\n",
    "                    index=pd.date_range('2014-08-01', \n",
    "                                        periods=5, freq=\"H\", \n",
    "                                        tz='US/Mountain'))\n",
    "s_eastern = Series(np.arange(0, 5), \n",
    "                   index=pd.date_range('2014-08-01', \n",
    "                                       periods=5, freq=\"H\", \n",
    "                                       tz='US/Eastern'))\n",
    "s_mountain"
   ]
  },
  {
   "cell_type": "code",
   "execution_count": 66,
   "metadata": {
    "collapsed": false
   },
   "outputs": [
    {
     "data": {
      "text/plain": [
       "2014-08-01 00:00:00-04:00    0\n",
       "2014-08-01 01:00:00-04:00    1\n",
       "2014-08-01 02:00:00-04:00    2\n",
       "2014-08-01 03:00:00-04:00    3\n",
       "2014-08-01 04:00:00-04:00    4\n",
       "Freq: H, dtype: int64"
      ]
     },
     "execution_count": 66,
     "metadata": {},
     "output_type": "execute_result"
    }
   ],
   "source": [
    "s_eastern"
   ]
  },
  {
   "cell_type": "code",
   "execution_count": 67,
   "metadata": {
    "collapsed": false
   },
   "outputs": [
    {
     "data": {
      "text/plain": [
       "2014-08-01 04:00:00+00:00   NaN\n",
       "2014-08-01 05:00:00+00:00   NaN\n",
       "2014-08-01 06:00:00+00:00     2\n",
       "2014-08-01 07:00:00+00:00     4\n",
       "2014-08-01 08:00:00+00:00     6\n",
       "2014-08-01 09:00:00+00:00   NaN\n",
       "2014-08-01 10:00:00+00:00   NaN\n",
       "Freq: H, dtype: float64"
      ]
     },
     "execution_count": 67,
     "metadata": {},
     "output_type": "execute_result"
    }
   ],
   "source": [
    "# add the two Series. This only results in three items being aligned\n",
    "s_eastern + s_mountain"
   ]
  },
  {
   "cell_type": "code",
   "execution_count": 68,
   "metadata": {
    "collapsed": false
   },
   "outputs": [
    {
     "data": {
      "text/plain": [
       "2014-07-31 21:00:00-07:00    0\n",
       "2014-07-31 22:00:00-07:00    1\n",
       "2014-07-31 23:00:00-07:00    2\n",
       "2014-08-01 00:00:00-07:00    3\n",
       "2014-08-01 01:00:00-07:00    4\n",
       "Freq: H, dtype: int64"
      ]
     },
     "execution_count": 68,
     "metadata": {},
     "output_type": "execute_result"
    }
   ],
   "source": [
    "# convert s1 from US/Eastern to US/Pacific\n",
    "s_pacific = s_eastern.tz_convert(\"US/Pacific\")\n",
    "s_pacific"
   ]
  },
  {
   "cell_type": "code",
   "execution_count": 69,
   "metadata": {
    "collapsed": false
   },
   "outputs": [
    {
     "data": {
      "text/plain": [
       "2014-08-01 04:00:00+00:00   NaN\n",
       "2014-08-01 05:00:00+00:00   NaN\n",
       "2014-08-01 06:00:00+00:00     2\n",
       "2014-08-01 07:00:00+00:00     4\n",
       "2014-08-01 08:00:00+00:00     6\n",
       "2014-08-01 09:00:00+00:00   NaN\n",
       "2014-08-01 10:00:00+00:00   NaN\n",
       "Freq: H, dtype: float64"
      ]
     },
     "execution_count": 69,
     "metadata": {},
     "output_type": "execute_result"
    }
   ],
   "source": [
    "# this will be the same result as s_eastern + s_mountain\n",
    "# as the timezones still get aligned to be the same\n",
    "s_mountain + s_pacific"
   ]
  },
  {
   "cell_type": "markdown",
   "metadata": {},
   "source": [
    "# Manipulating time-series data"
   ]
  },
  {
   "cell_type": "markdown",
   "metadata": {},
   "source": [
    "## Shifting and lagging "
   ]
  },
  {
   "cell_type": "code",
   "execution_count": 70,
   "metadata": {
    "collapsed": false
   },
   "outputs": [
    {
     "data": {
      "text/plain": [
       "2014-08-01    1.0\n",
       "2014-08-02    2.0\n",
       "2014-08-03    2.5\n",
       "2014-08-04    1.5\n",
       "2014-08-05    0.5\n",
       "Freq: D, dtype: float64"
      ]
     },
     "execution_count": 70,
     "metadata": {},
     "output_type": "execute_result"
    }
   ],
   "source": [
    "# create a Series to work with\n",
    "np.random.seed(123456)\n",
    "ts = Series([1, 2, 2.5, 1.5, 0.5],\n",
    "            pd.date_range('2014-08-01', periods=5))\n",
    "ts"
   ]
  },
  {
   "cell_type": "code",
   "execution_count": 71,
   "metadata": {
    "collapsed": false
   },
   "outputs": [
    {
     "data": {
      "text/plain": [
       "2014-08-01    NaN\n",
       "2014-08-02    1.0\n",
       "2014-08-03    2.0\n",
       "2014-08-04    2.5\n",
       "2014-08-05    1.5\n",
       "Freq: D, dtype: float64"
      ]
     },
     "execution_count": 71,
     "metadata": {},
     "output_type": "execute_result"
    }
   ],
   "source": [
    "# shift forward one day\n",
    "ts.shift(1)"
   ]
  },
  {
   "cell_type": "code",
   "execution_count": 72,
   "metadata": {
    "collapsed": false
   },
   "outputs": [
    {
     "data": {
      "text/plain": [
       "2014-08-01    2.5\n",
       "2014-08-02    1.5\n",
       "2014-08-03    0.5\n",
       "2014-08-04    NaN\n",
       "2014-08-05    NaN\n",
       "Freq: D, dtype: float64"
      ]
     },
     "execution_count": 72,
     "metadata": {},
     "output_type": "execute_result"
    }
   ],
   "source": [
    "# lag two days\n",
    "ts.shift(-2)"
   ]
  },
  {
   "cell_type": "code",
   "execution_count": 73,
   "metadata": {
    "collapsed": false
   },
   "outputs": [
    {
     "data": {
      "text/plain": [
       "2014-08-01         NaN\n",
       "2014-08-02    2.000000\n",
       "2014-08-03    1.250000\n",
       "2014-08-04    0.600000\n",
       "2014-08-05    0.333333\n",
       "Freq: D, dtype: float64"
      ]
     },
     "execution_count": 73,
     "metadata": {},
     "output_type": "execute_result"
    }
   ],
   "source": [
    "# calculate daily percentage change\n",
    "ts / ts.shift(1)"
   ]
  },
  {
   "cell_type": "code",
   "execution_count": 74,
   "metadata": {
    "collapsed": false
   },
   "outputs": [
    {
     "data": {
      "text/plain": [
       "2014-08-04    1.0\n",
       "2014-08-04    2.0\n",
       "2014-08-04    2.5\n",
       "2014-08-05    1.5\n",
       "2014-08-06    0.5\n",
       "dtype: float64"
      ]
     },
     "execution_count": 74,
     "metadata": {},
     "output_type": "execute_result"
    }
   ],
   "source": [
    "# shift forward one business day\n",
    "ts.shift(1, freq=\"B\")"
   ]
  },
  {
   "cell_type": "code",
   "execution_count": 75,
   "metadata": {
    "collapsed": false
   },
   "outputs": [
    {
     "data": {
      "text/plain": [
       "2014-08-01 05:00:00    1.0\n",
       "2014-08-02 05:00:00    2.0\n",
       "2014-08-03 05:00:00    2.5\n",
       "2014-08-04 05:00:00    1.5\n",
       "2014-08-05 05:00:00    0.5\n",
       "dtype: float64"
      ]
     },
     "execution_count": 75,
     "metadata": {},
     "output_type": "execute_result"
    }
   ],
   "source": [
    "# shift forward five hours\n",
    "ts.tshift(5, freq=\"H\")"
   ]
  },
  {
   "cell_type": "code",
   "execution_count": 76,
   "metadata": {
    "collapsed": false
   },
   "outputs": [
    {
     "data": {
      "text/plain": [
       "2014-08-01 00:00:30    1.0\n",
       "2014-08-02 00:00:30    2.0\n",
       "2014-08-03 00:00:30    2.5\n",
       "2014-08-04 00:00:30    1.5\n",
       "2014-08-05 00:00:30    0.5\n",
       "dtype: float64"
      ]
     },
     "execution_count": 76,
     "metadata": {},
     "output_type": "execute_result"
    }
   ],
   "source": [
    "# shift using a DateOffset\n",
    "ts.shift(1, DateOffset(minutes=0.5))"
   ]
  },
  {
   "cell_type": "code",
   "execution_count": 77,
   "metadata": {
    "collapsed": false
   },
   "outputs": [
    {
     "data": {
      "text/plain": [
       "2014-07-31 23:00:00    1.0\n",
       "2014-08-01 23:00:00    2.0\n",
       "2014-08-02 23:00:00    2.5\n",
       "2014-08-03 23:00:00    1.5\n",
       "2014-08-04 23:00:00    0.5\n",
       "dtype: float64"
      ]
     },
     "execution_count": 77,
     "metadata": {},
     "output_type": "execute_result"
    }
   ],
   "source": [
    "# shift just the index values\n",
    "ts.tshift(-1, freq='H')"
   ]
  },
  {
   "cell_type": "markdown",
   "metadata": {},
   "source": [
    "## Frequency Conversion"
   ]
  },
  {
   "cell_type": "code",
   "execution_count": 78,
   "metadata": {
    "collapsed": false
   },
   "outputs": [
    {
     "data": {
      "text/plain": [
       "2014-08-01 00:00:00      0\n",
       "2014-08-01 02:00:00      1\n",
       "2014-08-01 04:00:00      2\n",
       "2014-08-01 06:00:00      3\n",
       "2014-08-01 08:00:00      4\n",
       "                      ... \n",
       "2014-10-01 14:00:00    739\n",
       "2014-10-01 16:00:00    740\n",
       "2014-10-01 18:00:00    741\n",
       "2014-10-01 20:00:00    742\n",
       "2014-10-01 22:00:00    743\n",
       "Freq: 2H, dtype: int64"
      ]
     },
     "execution_count": 78,
     "metadata": {},
     "output_type": "execute_result"
    }
   ],
   "source": [
    "# create a Series of incremental values\n",
    "# index by hour through all of August 2014\n",
    "periods = 31 * 24\n",
    "hourly = Series(np.arange(0, periods),\n",
    "               pd.date_range('08-01-2014', freq=\"2H\", \n",
    "                             periods = periods))\n",
    "hourly"
   ]
  },
  {
   "cell_type": "code",
   "execution_count": 79,
   "metadata": {
    "collapsed": false
   },
   "outputs": [
    {
     "data": {
      "text/plain": [
       "2014-08-01      0\n",
       "2014-08-02     12\n",
       "2014-08-03     24\n",
       "2014-08-04     36\n",
       "2014-08-05     48\n",
       "             ... \n",
       "2014-09-27    684\n",
       "2014-09-28    696\n",
       "2014-09-29    708\n",
       "2014-09-30    720\n",
       "2014-10-01    732\n",
       "Freq: D, dtype: int64"
      ]
     },
     "execution_count": 79,
     "metadata": {},
     "output_type": "execute_result"
    }
   ],
   "source": [
    "# convert to daily frequency\n",
    "# many items will be dropped due to alignment\n",
    "daily = hourly.asfreq('D')\n",
    "daily"
   ]
  },
  {
   "cell_type": "code",
   "execution_count": 80,
   "metadata": {
    "collapsed": false
   },
   "outputs": [
    {
     "data": {
      "text/plain": [
       "2014-08-01 00:00:00      0\n",
       "2014-08-01 01:00:00    NaN\n",
       "2014-08-01 02:00:00    NaN\n",
       "2014-08-01 03:00:00    NaN\n",
       "2014-08-01 04:00:00    NaN\n",
       "                      ... \n",
       "2014-09-30 20:00:00    NaN\n",
       "2014-09-30 21:00:00    NaN\n",
       "2014-09-30 22:00:00    NaN\n",
       "2014-09-30 23:00:00    NaN\n",
       "2014-10-01 00:00:00    732\n",
       "Freq: H, dtype: float64"
      ]
     },
     "execution_count": 80,
     "metadata": {},
     "output_type": "execute_result"
    }
   ],
   "source": [
    "# convert back to hourly.  Results in many NaNs\n",
    "# as the new index has many labels that do not\n",
    "# align from the source\n",
    "daily.asfreq('H')"
   ]
  },
  {
   "cell_type": "code",
   "execution_count": 81,
   "metadata": {
    "collapsed": false
   },
   "outputs": [
    {
     "data": {
      "text/plain": [
       "2014-08-01 00:00:00      0\n",
       "2014-08-01 01:00:00      0\n",
       "2014-08-01 02:00:00      0\n",
       "2014-08-01 03:00:00      0\n",
       "2014-08-01 04:00:00      0\n",
       "                      ... \n",
       "2014-09-30 20:00:00    720\n",
       "2014-09-30 21:00:00    720\n",
       "2014-09-30 22:00:00    720\n",
       "2014-09-30 23:00:00    720\n",
       "2014-10-01 00:00:00    732\n",
       "Freq: H, dtype: int64"
      ]
     },
     "execution_count": 81,
     "metadata": {},
     "output_type": "execute_result"
    }
   ],
   "source": [
    "# forward fill values\n",
    "daily.asfreq('H', method='ffill')"
   ]
  },
  {
   "cell_type": "code",
   "execution_count": 82,
   "metadata": {
    "collapsed": false
   },
   "outputs": [
    {
     "data": {
      "text/plain": [
       "2014-08-01 00:00:00      0\n",
       "2014-08-01 01:00:00     12\n",
       "2014-08-01 02:00:00     12\n",
       "2014-08-01 03:00:00     12\n",
       "2014-08-01 04:00:00     12\n",
       "                      ... \n",
       "2014-09-30 20:00:00    732\n",
       "2014-09-30 21:00:00    732\n",
       "2014-09-30 22:00:00    732\n",
       "2014-09-30 23:00:00    732\n",
       "2014-10-01 00:00:00    732\n",
       "Freq: H, dtype: int64"
      ]
     },
     "execution_count": 82,
     "metadata": {},
     "output_type": "execute_result"
    }
   ],
   "source": [
    "daily.asfreq('H', method='bfill')"
   ]
  },
  {
   "cell_type": "markdown",
   "metadata": {},
   "source": [
    "## Up and down resampling"
   ]
  },
  {
   "cell_type": "code",
   "execution_count": 83,
   "metadata": {
    "collapsed": false
   },
   "outputs": [
    {
     "data": {
      "text/plain": [
       "2014-08-01 00:00:00      0.469112\n",
       "2014-08-01 00:00:01      0.186249\n",
       "2014-08-01 00:00:02     -1.322810\n",
       "2014-08-01 00:00:03     -2.458442\n",
       "2014-08-01 00:00:04     -1.246330\n",
       "                          ...    \n",
       "2014-08-05 23:59:55    456.529763\n",
       "2014-08-05 23:59:56    456.052131\n",
       "2014-08-05 23:59:57    455.202981\n",
       "2014-08-05 23:59:58    454.947362\n",
       "2014-08-05 23:59:59    456.191430\n",
       "Freq: S, dtype: float64"
      ]
     },
     "execution_count": 83,
     "metadata": {},
     "output_type": "execute_result"
    }
   ],
   "source": [
    "# calculate a random walk five days long at one second intervals\n",
    "# this many items will be needed\n",
    "count = 24 * 60 * 60 * 5\n",
    "# create a series of values\n",
    "np.random.seed(123456)\n",
    "values = np.random.randn(count)\n",
    "ws = pd.Series(values)\n",
    "# calculate the walk\n",
    "walk = ws.cumsum()\n",
    "# patch the index\n",
    "walk.index = pd.date_range('2014-08-01', periods=count, freq=\"S\")\n",
    "walk"
   ]
  },
  {
   "cell_type": "code",
   "execution_count": 84,
   "metadata": {
    "collapsed": false
   },
   "outputs": [
    {
     "data": {
      "text/plain": [
       "2014-08-01 00:00:00     -8.718220\n",
       "2014-08-01 00:01:00    -15.239213\n",
       "2014-08-01 00:02:00     -9.179315\n",
       "2014-08-01 00:03:00     -8.338307\n",
       "2014-08-01 00:04:00     -8.129554\n",
       "                          ...    \n",
       "2014-08-05 23:55:00    453.773467\n",
       "2014-08-05 23:56:00    450.857039\n",
       "2014-08-05 23:57:00    450.078149\n",
       "2014-08-05 23:58:00    444.637806\n",
       "2014-08-05 23:59:00    453.837417\n",
       "Freq: T, dtype: float64"
      ]
     },
     "execution_count": 84,
     "metadata": {},
     "output_type": "execute_result"
    }
   ],
   "source": [
    "# resample to minute intervals\n",
    "walk.resample(\"1Min\")"
   ]
  },
  {
   "cell_type": "code",
   "execution_count": 85,
   "metadata": {
    "collapsed": false
   },
   "outputs": [
    {
     "data": {
      "text/plain": [
       "-8.7182200528326437"
      ]
     },
     "execution_count": 85,
     "metadata": {},
     "output_type": "execute_result"
    }
   ],
   "source": [
    "# calculate the mean of the first minute of the walk\n",
    "walk['2014-08-01 00:00'].mean()"
   ]
  },
  {
   "cell_type": "code",
   "execution_count": 86,
   "metadata": {
    "collapsed": false
   },
   "outputs": [
    {
     "data": {
      "text/plain": [
       "2014-07-31 23:59:00      0.469112\n",
       "2014-08-01 00:00:00     -8.907477\n",
       "2014-08-01 00:01:00    -15.280685\n",
       "2014-08-01 00:02:00     -9.083865\n",
       "2014-08-01 00:03:00     -8.285550\n",
       "                          ...    \n",
       "2014-08-05 23:55:00    453.726168\n",
       "2014-08-05 23:56:00    450.849039\n",
       "2014-08-05 23:57:00    450.039159\n",
       "2014-08-05 23:58:00    444.631719\n",
       "2014-08-05 23:59:00    453.955377\n",
       "Freq: T, dtype: float64"
      ]
     },
     "execution_count": 86,
     "metadata": {},
     "output_type": "execute_result"
    }
   ],
   "source": [
    "# use a right close\n",
    "walk.resample(\"1Min\", closed='right')"
   ]
  },
  {
   "cell_type": "code",
   "execution_count": 87,
   "metadata": {
    "collapsed": false
   },
   "outputs": [
    {
     "data": {
      "text/plain": [
       "2014-08-01 00:00:00      0.469112\n",
       "2014-08-01 00:01:00    -10.886314\n",
       "2014-08-01 00:02:00    -13.374656\n",
       "2014-08-01 00:03:00     -7.647693\n",
       "2014-08-01 00:04:00     -4.482292\n",
       "                          ...    \n",
       "2014-08-05 23:55:00    452.900335\n",
       "2014-08-05 23:56:00    450.062374\n",
       "2014-08-05 23:57:00    449.582419\n",
       "2014-08-05 23:58:00    447.243014\n",
       "2014-08-05 23:59:00    446.877810\n",
       "Freq: T, dtype: float64"
      ]
     },
     "execution_count": 87,
     "metadata": {},
     "output_type": "execute_result"
    }
   ],
   "source": [
    "# take the first value of each bucket\n",
    "walk.resample(\"1Min\", how='first')"
   ]
  },
  {
   "cell_type": "code",
   "execution_count": 88,
   "metadata": {
    "collapsed": false
   },
   "outputs": [
    {
     "data": {
      "text/plain": [
       "2014-08-01 00:00:00     -8.718220\n",
       "2014-08-01 00:00:01           NaN\n",
       "2014-08-01 00:00:02           NaN\n",
       "2014-08-01 00:00:03           NaN\n",
       "2014-08-01 00:00:04           NaN\n",
       "                          ...    \n",
       "2014-08-05 23:58:56           NaN\n",
       "2014-08-05 23:58:57           NaN\n",
       "2014-08-05 23:58:58           NaN\n",
       "2014-08-05 23:58:59           NaN\n",
       "2014-08-05 23:59:00    453.837417\n",
       "Freq: S, dtype: float64"
      ]
     },
     "execution_count": 88,
     "metadata": {},
     "output_type": "execute_result"
    }
   ],
   "source": [
    "# resample to 1 minute intervales, then back to 1 sec\n",
    "bymin = walk.resample(\"1Min\")\n",
    "bymin.resample('S')"
   ]
  },
  {
   "cell_type": "code",
   "execution_count": 89,
   "metadata": {
    "collapsed": false
   },
   "outputs": [
    {
     "data": {
      "text/plain": [
       "2014-08-01 00:00:00     -8.718220\n",
       "2014-08-01 00:00:01    -15.239213\n",
       "2014-08-01 00:00:02    -15.239213\n",
       "2014-08-01 00:00:03    -15.239213\n",
       "2014-08-01 00:00:04    -15.239213\n",
       "                          ...    \n",
       "2014-08-05 23:58:56    453.837417\n",
       "2014-08-05 23:58:57    453.837417\n",
       "2014-08-05 23:58:58    453.837417\n",
       "2014-08-05 23:58:59    453.837417\n",
       "2014-08-05 23:59:00    453.837417\n",
       "Freq: S, dtype: float64"
      ]
     },
     "execution_count": 89,
     "metadata": {},
     "output_type": "execute_result"
    }
   ],
   "source": [
    "# resample to 1 second intervales using forward fill\n",
    "bymin.resample(\"S\", fill_method=\"bfill\")"
   ]
  },
  {
   "cell_type": "code",
   "execution_count": 90,
   "metadata": {
    "collapsed": false
   },
   "outputs": [
    {
     "data": {
      "text/plain": [
       "2014-08-01 00:00:00     -8.718220\n",
       "2014-08-01 00:00:01     -8.826903\n",
       "2014-08-01 00:00:02     -8.935586\n",
       "2014-08-01 00:00:03     -9.044270\n",
       "2014-08-01 00:00:04     -9.152953\n",
       "                          ...    \n",
       "2014-08-05 23:58:56    453.224110\n",
       "2014-08-05 23:58:57    453.377437\n",
       "2014-08-05 23:58:58    453.530764\n",
       "2014-08-05 23:58:59    453.684090\n",
       "2014-08-05 23:59:00    453.837417\n",
       "Freq: S, dtype: float64"
      ]
     },
     "execution_count": 90,
     "metadata": {},
     "output_type": "execute_result"
    }
   ],
   "source": [
    "# demonstate interoplating the NaN values\n",
    "interpolated = bymin.resample(\"S\").interpolate()\n",
    "interpolated"
   ]
  },
  {
   "cell_type": "code",
   "execution_count": 91,
   "metadata": {
    "collapsed": false
   },
   "outputs": [
    {
     "data": {
      "text/plain": [
       "                           open        high         low       close\n",
       "2014-08-01 00:00:00    0.469112    0.469112  -67.873166   -2.922520\n",
       "2014-08-01 01:00:00   -3.374321   23.793007  -56.585154  -55.101543\n",
       "2014-08-01 02:00:00  -54.276885    5.232441  -87.809456    1.913276\n",
       "2014-08-01 03:00:00    0.260576   17.124638  -65.820652  -38.530620\n",
       "2014-08-01 04:00:00  -38.436581    3.537231 -109.805294  -61.014553\n",
       "...                         ...         ...         ...         ...\n",
       "2014-08-05 19:00:00  437.652077  550.408942  430.549178  494.471788\n",
       "2014-08-05 20:00:00  496.539759  510.371745  456.365565  476.505765\n",
       "2014-08-05 21:00:00  476.025498  506.952877  425.472410  498.547578\n",
       "2014-08-05 22:00:00  497.941355  506.599652  411.119919  443.925832\n",
       "2014-08-05 23:00:00  443.017962  489.083657  426.062444  456.191430\n",
       "\n",
       "[120 rows x 4 columns]"
      ]
     },
     "execution_count": 91,
     "metadata": {},
     "output_type": "execute_result"
    }
   ],
   "source": [
    "# show ohlc resampling\n",
    "ohlc = walk.resample(\"H\", how=\"ohlc\")\n",
    "ohlc"
   ]
  },
  {
   "cell_type": "markdown",
   "metadata": {},
   "source": [
    "# Time series moving window operations"
   ]
  },
  {
   "cell_type": "code",
   "execution_count": 92,
   "metadata": {
    "collapsed": false
   },
   "outputs": [
    {
     "data": {
      "image/png": "[encoded data removed]",
      "text/plain": [
       "<matplotlib.figure.Figure at 0x7f638f5be4d0>"
      ]
     },
     "metadata": {},
     "output_type": "display_data"
    }
   ],
   "source": [
    "first_minute = walk['2014-08-01 00:00']\n",
    "# calculate a rol1ing mean window of 5 periods\n",
    "pd.rolling_mean(first_minute, 5).plot()\n",
    "# plot it against the raw data\n",
    "first_minute.plot()\n",
    "# add a legend\n",
    "#plt.legend(labels=['Rolling Mean', 'Raw']);"
   ]
  },
  {
   "cell_type": "code",
   "execution_count": 93,
   "metadata": {
    "collapsed": false
   },
   "outputs": [
    {
     "data": {
      "image/png": "[encoded data removed]",
      "text/plain": [
       "<matplotlib.figure.Figure at 0x7f638ed30a10>"
      ]
     },
     "metadata": {},
     "output_type": "display_data"
    }
   ],
   "source": [
    "# demonstrate the difference between 2, 5 and\n",
    "# 10 interval rolling windows\n",
    "h1w = walk['2014-08-01 00:00']\n",
    "h1w.plot()\n",
    "pd.rolling_mean(h1w, 2).plot()\n",
    "pd.rolling_mean(h1w, 5).plot()\n",
    "pd.rolling_mean(h1w, 10).plot()\n",
    "#plt.legend(labels=['Raw', '2-interval RM',\n",
    "#                   '5-interval RM',\n",
    "#                   '10-interval RM']);"
   ]
  },
  {
   "cell_type": "code",
   "execution_count": 94,
   "metadata": {
    "collapsed": false
   },
   "outputs": [
    {
     "data": {
      "image/png": "[encoded data removed]",
      "text/plain": [
       "<matplotlib.figure.Figure at 0x7f638bedba90>"
      ]
     },
     "metadata": {},
     "output_type": "display_data"
    }
   ],
   "source": [
    "# calculate mean average deviation with window of 5 intervals\n",
    "mean_abs_dev = lambda x: np.fabs(x - x.mean()).mean()\n",
    "pd.rolling_apply(h1w, 5, mean_abs_dev).plot();"
   ]
  },
  {
   "cell_type": "code",
   "execution_count": 95,
   "metadata": {
    "collapsed": false
   },
   "outputs": [
    {
     "data": {
      "image/png": "[encoded data removed]",
      "text/plain": [
       "<matplotlib.figure.Figure at 0x7f638e5b9590>"
      ]
     },
     "metadata": {},
     "output_type": "display_data"
    }
   ],
   "source": [
    "# calculate an expanding rolling mean\n",
    "expanding_mean = lambda x: pd.rolling_mean(x, len(x), \n",
    "                                           min_periods=1)\n",
    "h1w.plot()\n",
    "pd.expanding_mean(h1w).plot()\n",
    "#plt.legend(labels=['Expanding mean', 'Raw']);"
   ]
  }
 ],
 "metadata": {
  "kernelspec": {
   "display_name": "Python 3",
   "language": "python",
   "name": "python3"
  },
  "language_info": {
   "codemirror_mode": {
    "name": "ipython",
    "version": 3
   },
   "file_extension": ".py",
   "mimetype": "text/x-python",
   "name": "python",
   "nbconvert_exporter": "python",
   "pygments_lexer": "ipython3",
   "version": "3.3.5"
  }
 },
 "nbformat": 4,
 "nbformat_minor": 0
}
