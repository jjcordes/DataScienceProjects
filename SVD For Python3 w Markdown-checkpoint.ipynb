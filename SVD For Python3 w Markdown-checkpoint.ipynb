{
 "cells": [
  {
   "cell_type": "markdown",
   "metadata": {},
   "source": [
    "# Recommended Joke Notebook"
   ]
  },
  {
   "cell_type": "markdown",
   "metadata": {},
   "source": [
    "Today, we'll use some joke rating data to check out recommendating systems, in particular collaborative filtering:\n",
    "\n",
    "Here's a link to the place where I got the data:\n",
    "http://goldberg.berkeley.edu/jester-data/\n",
    "This is an older, smaller dataset, bigger, newer ones are here: http://eigentaste.berkeley.edu/dataset/\n",
    "\n",
    "Get the csv data here:\n",
    "https://drive.google.com/file/d/0B-SYGEBtMGQlaDUyUXlIdl8tYmc/view?usp=sharing\n",
    "\n",
    "Check out some jokes, and get recommended jokes based on your ratings:\n",
    "http://eigentaste.berkeley.edu/"
   ]
  },
  {
   "cell_type": "code",
   "execution_count": 10,
   "metadata": {
    "collapsed": true
   },
   "outputs": [],
   "source": [
    "# This tells matplotlib not to try opening a new window for each plot.\n",
    "%matplotlib inline\n",
    "\n",
    "import numpy as np\n",
    "import scipy as sp\n",
    "import matplotlib.pyplot as plt\n",
    "\n",
    "from sklearn.decomposition import PCA\n",
    "from sklearn.decomposition import KernelPCA\n",
    "from sklearn.decomposition import SparsePCA\n",
    "\n",
    "from sklearn.cluster import AgglomerativeClustering \n",
    "from sklearn.cluster import KMeans \n",
    "\n",
    "from sklearn.decomposition import TruncatedSVD # another approach we are not taking today..."
   ]
  },
  {
   "cell_type": "code",
   "execution_count": 2,
   "metadata": {
    "collapsed": false
   },
   "outputs": [
    {
     "data": {
      "text/plain": [
       "'C:\\\\Users\\\\Jay'"
      ]
     },
     "execution_count": 2,
     "metadata": {},
     "output_type": "execute_result"
    }
   ],
   "source": [
    "pwd"
   ]
  },
  {
   "cell_type": "code",
   "execution_count": 3,
   "metadata": {
    "collapsed": false
   },
   "outputs": [
    {
     "name": "stdout",
     "output_type": "stream",
     "text": [
      "(11460, 101)\n"
     ]
    }
   ],
   "source": [
    "# import joke data\n",
    "ff = \"MIDSPython (copied CUsers.babunCygwinHomeJay)/Machine Learning/jester-data-1.csv\" # you will need to edit this directory\n",
    "f = open(ff)\n",
    "\n",
    "# column_names = f.readline() # you'd needs this ordinarily\n",
    "\n",
    "data = np.loadtxt(f, delimiter=\",\")\n",
    "\n",
    "# NOTE ABOUT THE DATA STRUCTURE\n",
    "# first column of data: # of jokes rated\n",
    "# columns 2-101 of data: ratings for jokes no. 1 to 100; if rating == 99, no rating is available;\n",
    "# we will re-code that to 0 for stability of the simple SVD approach we'll take later\n",
    "data[:, 1:][data[:, 1:] == 0] = (np.random.rand(sum(data==0).sum()) * 2.0 - 1.0) * 0.0000001\n",
    "data[:, 1:][data[:, 1:] == 99] = 0\n",
    "\n",
    "print (data.shape)"
   ]
  },
  {
   "cell_type": "markdown",
   "metadata": {},
   "source": [
    "# Do some EDA on the data\n",
    "\n",
    "How many jokes does an average person rate? What is most jokes rated? What is the fewest number of jokes rated?\n",
    "\n",
    "How many ratings on average does each joke have?\n",
    "\n",
    "What is a joke with the most ratings? Which is one with the fewest ratings?\n",
    "\n",
    "What is the average rating for all jokes? (Be sure to exclude the 0 values!)"
   ]
  },
  {
   "cell_type": "code",
   "execution_count": 4,
   "metadata": {
    "collapsed": false
   },
   "outputs": [
    {
     "name": "stdout",
     "output_type": "stream",
     "text": [
      "(11460, 101)\n",
      "Average number of jokes rated:  72.1264397906\n",
      "Most jokes rated by a user:  100.0\n",
      "Fewest jokes rated by a user:  36.0\n",
      "No. ratings per joke:  8265.69\n",
      "A most rated joke index:  7  with  11458 ratings\n",
      "Least rated joke index:  70  with  3872 ratings\n",
      "Average rating for all jokes:  0.965077978971\n"
     ]
    }
   ],
   "source": [
    "print(data.shape)\n",
    "\n",
    "number_rated = data[:, 0]\n",
    "\n",
    "print( \"Average number of jokes rated: \", number_rated.mean())\n",
    "print(\"Most jokes rated by a user: \", number_rated.max())\n",
    "print( \"Fewest jokes rated by a user: \", number_rated.min())\n",
    "\n",
    "joke_has_rating = (data[:, 1:] != 0)\n",
    "n_joke_ratings = np.sum(joke_has_rating, 0)\n",
    "\n",
    "print(\"No. ratings per joke: \", n_joke_ratings.mean())\n",
    "print(\"A most rated joke index: \", np.argmax(n_joke_ratings), \" with \", n_joke_ratings.max(), \"ratings\")\n",
    "print(\"Least rated joke index: \", np.argmin(n_joke_ratings), \" with \", n_joke_ratings.min(), \"ratings\")\n",
    "\n",
    "print(\"Average rating for all jokes: \", (data[:, 1:][data[:, 1:]!=0]).mean())"
   ]
  },
  {
   "cell_type": "markdown",
   "metadata": {},
   "source": [
    "# Unregularized SVD Based Collaborative Filtering\n",
    "\n",
    "## step 1: full SVD\n",
    "\n",
    "We'll do a simple though not very effective way at collaborative filtering: a simple SVD approach.\n",
    "\n",
    "SVD (singular value decomposition) is a way of decomposing a matrix into thing like eigenvectors and eigenvalues. It looks like this for a matrix M:\n",
    "\n",
    "M = U * S * V\n",
    "\n",
    "Here, if we suppose M is an n by p matrix:\n",
    "U is an N by p matrix\n",
    "S is a p by p diagonal matrix\n",
    "V is a p by p matrix\n",
    "\n",
    "In our problem, we have n users rating p jokes\n",
    "\n",
    "In recommender problems, it has the interpretation as follows:\n",
    "U is a representation of the users, as p features\n",
    "V is a representation of the jokes, as p features (different from those in U)\n",
    "S is a vector that gives the joint importance of both feature sets"
   ]
  },
  {
   "cell_type": "code",
   "execution_count": 5,
   "metadata": {
    "collapsed": false
   },
   "outputs": [
    {
     "name": "stdout",
     "output_type": "stream",
     "text": [
      "(11460, 100)\n",
      "(100,)\n",
      "(100, 100)\n",
      "[[ -7.82000000e+00   8.79000000e+00  -9.66000000e+00 ...,   0.00000000e+00\n",
      "    0.00000000e+00   0.00000000e+00]\n",
      " [  4.08000000e+00  -2.90000000e-01   6.36000000e+00 ...,   3.40000000e-01\n",
      "   -4.32000000e+00   1.07000000e+00]\n",
      " [  0.00000000e+00   0.00000000e+00   0.00000000e+00 ...,   0.00000000e+00\n",
      "    0.00000000e+00   0.00000000e+00]\n",
      " ..., \n",
      " [ -6.65000000e+00  -7.82000000e+00   4.40000000e-01 ...,   0.00000000e+00\n",
      "    0.00000000e+00   0.00000000e+00]\n",
      " [  8.45000000e+00   8.54000000e+00   4.08000000e+00 ...,   8.30000000e+00\n",
      "    7.72000000e+00   6.99000000e+00]\n",
      " [  3.98000000e+00   3.25000000e+00  -1.89000000e+00 ...,  -7.65455331e-08\n",
      "   -4.56000000e+00   2.86000000e+00]]\n",
      "[[ -7.82000000e+00   8.79000000e+00  -9.66000000e+00 ...,   2.16493490e-14\n",
      "    3.77475828e-14   1.11022302e-14]\n",
      " [  4.08000000e+00  -2.90000000e-01   6.36000000e+00 ...,   3.40000000e-01\n",
      "   -4.32000000e+00   1.07000000e+00]\n",
      " [  1.19033845e-14  -2.29684436e-14   1.59636960e-14 ...,  -1.38777878e-15\n",
      "    4.44089210e-16   1.22124533e-14]\n",
      " ..., \n",
      " [ -6.65000000e+00  -7.82000000e+00   4.40000000e-01 ...,  -7.54951657e-15\n",
      "    7.54951657e-15   4.44089210e-15]\n",
      " [  8.45000000e+00   8.54000000e+00   4.08000000e+00 ...,   8.30000000e+00\n",
      "    7.72000000e+00   6.99000000e+00]\n",
      " [  3.98000000e+00   3.25000000e+00  -1.89000000e+00 ...,  -7.65455251e-08\n",
      "   -4.56000000e+00   2.86000000e+00]]\n"
     ]
    }
   ],
   "source": [
    "# full svd; note the first column is dropped since that has the number of jokes rated, we don't care about that\n",
    "u, s, v = np.linalg.svd(data[:, 1:], full_matrices=False)\n",
    "\n",
    "print(u.shape)\n",
    "print(s.shape)\n",
    "print(v.shape)\n",
    "\n",
    "# these are (nearly) the same, that's the decomposition!\n",
    "print(data[:, 1:])\n",
    "print(np.dot(np.dot(u, np.diag(s)), v)) # the full reconstruction"
   ]
  },
  {
   "cell_type": "markdown",
   "metadata": {},
   "source": [
    "##  Step 2: Filling in values by truncating the SVD\n",
    "\n",
    "The SVD above just recovers the original matrix. That is not very interesting, we want to get a new estimate for those missing values. To do this, we need to drop dimensions.\n",
    "\n",
    "Inspect S, you should see that it is sorted in decreasing order. Write code to only take the first few dimensions in each of the projections. This means simply to replace the matrix S (you will have to construct it using np.diag) with a new matrix with many of the diagonal values zeroed out."
   ]
  },
  {
   "cell_type": "code",
   "execution_count": 6,
   "metadata": {
    "collapsed": true
   },
   "outputs": [],
   "source": [
    "n_comp = 10\n",
    "\n",
    "# make a new s vector with only the first few values kept\n",
    "s_padded = np.zeros(len(s))\n",
    "s_padded[:n_comp] = s[:n_comp]\n",
    "\n",
    "filled_in = np.dot(np.dot(u, np.diag(s_padded)), v)"
   ]
  },
  {
   "cell_type": "markdown",
   "metadata": {},
   "source": [
    "You should now have an approximation to the original matrix. Take the filled in values only and compare them to the non filled in values, do this for a few users and jokes. You might find it useful to write a function to inspect a row or column. Considering doing things like:\n",
    "\n",
    "0. Count how many values are filled in, how many were already present for that row / column\n",
    "1. Compare the range of the filled in values with those not filled in within the row or column\n",
    "2. Compare the mean of the filled in values with those not filled in within the row or column"
   ]
  },
  {
   "cell_type": "code",
   "execution_count": 7,
   "metadata": {
    "collapsed": false
   },
   "outputs": [
    {
     "name": "stdout",
     "output_type": "stream",
     "text": [
      "Inspection of joke  14\n",
      "This joke has  11455  values present,  5  were predicted.\n",
      "mean of predicted values:  0.380494837508\n",
      "mean of old values:  1.33770231342\n",
      "max of predicted values:  4.84731492407\n",
      "min of predicted values:  -4.11473254873\n",
      "max of old values:  9.56\n",
      "min of old values:  -9.95\n",
      "\n",
      "-----\n",
      "\n",
      "Inspection of user  2\n",
      "This user has  49  values present,  51  were predicted.\n",
      "mean of predicted values:  1.53174629095\n",
      "mean of old values:  4.08612244898\n",
      "max of predicted values:  5.31622498984\n",
      "min of predicted values:  -0.657491499706\n",
      "max of old values:  9.37\n",
      "min of old values:  -7.86\n"
     ]
    },
    {
     "name": "stderr",
     "output_type": "stream",
     "text": [
      "C:\\Users\\Jay\\Anaconda3\\lib\\site-packages\\ipykernel\\__main__.py:22: VisibleDeprecationWarning: boolean index did not match indexed array along dimension 0; dimension is 101 but corresponding boolean dimension is 100\n"
     ]
    }
   ],
   "source": [
    "def inspect_filled_in_joke(ii):\n",
    "    print(\"Inspection of joke \", ii)\n",
    "    if ii == 0:\n",
    "        print(\"not a valid joke index\")\n",
    "    preds = filled_in[:, ii][data[:, ii+1] == 0]\n",
    "    non_preds = data[:, ii][data[:, ii+1]!=0]\n",
    "    \n",
    "    print(\"This joke has \", len(non_preds), \" values present, \", len(preds), \" were predicted.\")\n",
    "\n",
    "    print(\"mean of predicted values: \", preds.mean())\n",
    "    print(\"mean of old values: \", non_preds.mean())\n",
    "\n",
    "    print(\"max of predicted values: \", np.max(preds))\n",
    "    print(\"min of predicted values: \", np.min(preds))\n",
    "\n",
    "    print(\"max of old values: \", np.max(non_preds))\n",
    "    print(\"min of old values: \", np.min(non_preds))\n",
    "    \n",
    "def inspect_filled_in_user(ii):\n",
    "    print(\"Inspection of user \", ii)\n",
    "    preds = filled_in[ii, :][data[ii, 1:] == 0]\n",
    "    non_preds = data[ii, :][data[ii, 1:] != 0]\n",
    "    \n",
    "    print(\"This user has \", len(non_preds), \" values present, \", len(preds), \" were predicted.\")\n",
    "\n",
    "    print(\"mean of predicted values: \", preds.mean())\n",
    "    print(\"mean of old values: \", non_preds.mean())\n",
    "\n",
    "    print(\"max of predicted values: \", np.max(preds))\n",
    "    print(\"min of predicted values: \", np.min(preds))\n",
    "\n",
    "    print(\"max of old values: \", np.max(non_preds))\n",
    "    print(\"min of old values: \", np.min(non_preds))\n",
    "\n",
    "inspect_filled_in_joke(14)\n",
    "print(\"\\n-----\\n\")\n",
    "inspect_filled_in_user(2)"
   ]
  },
  {
   "cell_type": "markdown",
   "metadata": {},
   "source": [
    "## Step 3: Let's actually use this thing. \n",
    "\n",
    "Write a function to recommend a joke (s)he's not rated to a user who has at least one unrated joke. Use it for a few people and print the results.\n",
    "\n",
    "Use it on all users and make a histogram of the recommendations. Compare this to a histogram of missing values. Does this system recommend a joke very often? Does it make sense?"
   ]
  },
  {
   "cell_type": "code",
   "execution_count": 8,
   "metadata": {
    "collapsed": false
   },
   "outputs": [
    {
     "name": "stdout",
     "output_type": "stream",
     "text": [
      "User  0  should laugh at joke  88\n",
      "User  1  already rated all the jokes!\n",
      "User  2  should laugh at joke  62\n",
      "User  3  should laugh at joke  50\n",
      "User  4  should laugh at joke  71\n",
      "User  5  already rated all the jokes!\n",
      "User  6  should laugh at joke  41\n",
      "User  7  already rated all the jokes!\n",
      "User  8  already rated all the jokes!\n",
      "User  9  should laugh at joke  99\n",
      "User  10  should laugh at joke  41\n",
      "User  11  already rated all the jokes!\n",
      "User  12  should laugh at joke  25\n",
      "User  13  already rated all the jokes!\n",
      "User  14  already rated all the jokes!\n",
      "User  15  already rated all the jokes!\n",
      "User  16  should laugh at joke  70\n",
      "User  17  already rated all the jokes!\n",
      "User  18  should laugh at joke  10\n",
      "User  19  should laugh at joke  97\n",
      "User  20  should laugh at joke  88\n",
      "User  21  should laugh at joke  2\n",
      "User  22  should laugh at joke  88\n",
      "User  23  already rated all the jokes!\n",
      "User  24  should laugh at joke  93\n",
      "[88 62 50 71 41 99 41 25 70 10 97 88  2 88 93]\n"
     ]
    },
    {
     "name": "stderr",
     "output_type": "stream",
     "text": [
      "C:\\Users\\Jay\\Anaconda3\\lib\\site-packages\\ipykernel\\__main__.py:3: VisibleDeprecationWarning: boolean index did not match indexed array along dimension 0; dimension is 101 but corresponding boolean dimension is 100\n",
      "  app.launch_new_instance()\n"
     ]
    },
    {
     "name": "stdout",
     "output_type": "stream",
     "text": [
      "Inspection of joke  88\n",
      "This joke has  4332  values present,  7128  were predicted.\n",
      "mean of predicted values:  0.702411198465\n",
      "mean of old values:  2.07259002766\n",
      "max of predicted values:  5.28856666379\n",
      "min of predicted values:  -2.46550894755\n",
      "max of old values:  9.37\n",
      "min of old values:  -9.9\n"
     ]
    },
    {
     "data": {
      "image/png": "[encoded data removed]",
      "text/plain": [
       "<matplotlib.figure.Figure at 0x4429eb8>"
      ]
     },
     "metadata": {},
     "output_type": "display_data"
    }
   ],
   "source": [
    "def recommend_to_user(ii, verbose = True):\n",
    "    preds = filled_in[ii, :][data[ii, 1:] == 0]\n",
    "    non_preds = data[ii, :][data[ii, 1:] != 0]\n",
    "    \n",
    "    if len(preds) > 0:\n",
    "        rec = np.where([data[ii, 1:] == 0])[1][np.argmax(preds)]\n",
    "        if verbose:\n",
    "            print(\"User \", ii, \" should laugh at joke \", rec)\n",
    "    else:\n",
    "        if verbose:\n",
    "            print(\"User \", ii, \" already rated all the jokes!\")\n",
    "        rec = -1\n",
    "    return rec\n",
    "\n",
    "recs = []\n",
    "for user_index in range(0, 25):\n",
    "    recs.append(recommend_to_user(user_index))\n",
    "    \n",
    "recs = np.array(recs)\n",
    "recs = recs[recs != -1]\n",
    "print(recs)\n",
    "\n",
    "recs = []\n",
    "for user_index in range(data.shape[0]):\n",
    "    recs.append(recommend_to_user(user_index, False))\n",
    "    \n",
    "recs = np.array(recs)\n",
    "recs = recs[recs != -1]\n",
    "\n",
    "not_rated_hist = []\n",
    "for ii in range(data.shape[0]):\n",
    "    for jj in range(data.shape[1])[1:]:\n",
    "        if data[ii, jj] == 0:\n",
    "            not_rated_hist.append(jj)\n",
    "\n",
    "plt.figure(figsize=(8, 4))\n",
    "\n",
    "plt.subplot(1, 2, 1)\n",
    "plt.hist(recs, np.ptp(recs) + 1)\n",
    "plt.title(\"Joke Recommendation Histogram\")\n",
    "            \n",
    "plt.subplot(1, 2, 2)\n",
    "plt.hist(not_rated_hist, np.ptp(not_rated_hist) + 1)\n",
    "plt.title(\"Joke Recommendation Histogram (missing-ness)\")\n",
    "\n",
    "# it appears joke 88 is a really popular recommendation!\n",
    "inspect_filled_in_joke(88)"
   ]
  },
  {
   "cell_type": "markdown",
   "metadata": {},
   "source": [
    "## Step 4: Examining the joke and user spaces\n",
    "\n",
    "The SVD gave us projections of both the users and the jokes. Let's see if those projections give us any insight.\n",
    "\n",
    "Now, plot the first two rows (the projection dimensions appear on the rows here) of the joke projection matrix. Are there different types of jokes?\n",
    "\n",
    "Plot the first two columns (the projection dimensions appear on the columns here) of the user projection matrix. Are there different types of users?"
   ]
  },
  {
   "cell_type": "code",
   "execution_count": 9,
   "metadata": {
    "collapsed": false
   },
   "outputs": [
    {
     "data": {
      "text/plain": [
       "<matplotlib.text.Text at 0xb007198>"
      ]
     },
     "execution_count": 9,
     "metadata": {},
     "output_type": "execute_result"
    },
    {
     "data": {
      "image/png": "[encoded data removed]",
      "text/plain": [
       "<matplotlib.figure.Figure at 0x837f9b0>"
      ]
     },
     "metadata": {},
     "output_type": "display_data"
    },
    {
     "data": {
      "image/png": "[encoded data removed]",
      "text/plain": [
       "<matplotlib.figure.Figure at 0xaf52f98>"
      ]
     },
     "metadata": {},
     "output_type": "display_data"
    }
   ],
   "source": [
    "# looks interesting!\n",
    "plt.figure()\n",
    "plt.subplot(1, 2, 1)\n",
    "plt.scatter(v[0, :], v[1, :])\n",
    "plt.title(\"Joke space coords 0, 1\")\n",
    "plt.subplot(1, 2, 2)\n",
    "plt.scatter(v[2, :], v[3, :])\n",
    "plt.title(\"Joke space coords 2, 3\")\n",
    "\n",
    "# I have no idea\n",
    "plt.figure()\n",
    "plt.subplot(1, 2, 1)\n",
    "plt.scatter(u[:, 0], u[:, 1])\n",
    "plt.title(\"User space coords 0, 1\")\n",
    "plt.subplot(1, 2, 2)\n",
    "plt.scatter(u[:, 2], u[:, 3])\n",
    "plt.title(\"User space coords 2, 3\")"
   ]
  }
 ],
 "metadata": {
  "kernelspec": {
   "display_name": "Python 3",
   "language": "python",
   "name": "python3"
  },
  "language_info": {
   "codemirror_mode": {
    "name": "ipython",
    "version": 3
   },
   "file_extension": ".py",
   "mimetype": "text/x-python",
   "name": "python",
   "nbconvert_exporter": "python",
   "pygments_lexer": "ipython3",
   "version": "3.5.1"
  }
 },
 "nbformat": 4,
 "nbformat_minor": 0
}
